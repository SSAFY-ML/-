{
 "cells": [
  {
   "cell_type": "code",
   "execution_count": null,
   "metadata": {},
   "outputs": [],
   "source": [
    "##### titanic\n",
    "import numpy as np\n",
    "import pandas as pd\n",
    "from sklearn.model_selection import train_test_split\n",
    "\n",
    "data = pd.read_csv('../1.clustering/titanic.csv')\n",
    "\n",
    "target = data['Survived']\n",
    "data = data.drop(['PassengerId', 'Survived'], axis=1)\n",
    "\n",
    "def sex(a):\n",
    "    if a == 'male':\n",
    "        return 0\n",
    "    else:\n",
    "        return 1\n",
    "    \n",
    "def emb(a):\n",
    "    if a == 'S':\n",
    "        return 0\n",
    "    elif a == 'Q':\n",
    "        return 1\n",
    "    else:\n",
    "        return 2\n",
    "    \n",
    "data['Sex'] = data['Sex'].map(sex)\n",
    "data['Embarked'] = data['Embarked'].map(emb)\n",
    "\n",
    "train_X, test_X, train_y, test_y = train_test_split(data, target, test_size=0.3, random_state=2019, shuffle=True)"
   ]
  },
  {
   "cell_type": "code",
   "execution_count": null,
   "metadata": {},
   "outputs": [],
   "source": [
    "# breast cancer\n",
    "from sklearn.datasets import load_breast_cancer\n",
    "import pandas as pd \n",
    "from sklearn.model_selection import train_test_split\n",
    "\n",
    "d = load_breast_cancer()\n",
    "\n",
    "data = pd.DataFrame(d.data, columns=d.feature_names)\n",
    "target = pd.DataFrame(d.target)\n",
    "\n",
    "train_X, test_X, train_y, test_y = train_test_split(data, target, test_size=0.3, random_state=2019, shuffle=True)"
   ]
  },
  {
   "cell_type": "code",
   "execution_count": 2,
   "metadata": {},
   "outputs": [],
   "source": [
    "# IEEE Fraud\n",
    "import numpy as np\n",
    "import pandas as pd\n",
    "import pickle\n",
    "\n",
    "with open('../data/train.bin', 'rb') as f:\n",
    "    data = pickle.load(f)\n",
    "# with open('../data/test.bin', 'rb') as f:\n",
    "#     test = pickle.load(f)\n",
    "\n",
    "# train = pd.read_csv('../data/train.csv')\n",
    "# test = pd.read_csv('../data/test.csv')\n",
    "\n",
    "\n",
    "# drop = ['TransactionID']\n",
    "# for c in train.columns:\n",
    "#     if train[c].isnull().sum() / len(train) > 0.5:\n",
    "#         drop.append(c)\n",
    "#     elif '_' in c:\n",
    "#         drop.append(c)\n",
    "#     if len(train[c].unique()) < 2:\n",
    "#         drop.append(c)\n",
    "#         print(c)\n",
    "        \n",
    "# train = train.drop(drop, axis=1)\n",
    "# test = test.drop(drop, axis=1)\n",
    "\n",
    "# train = train.dropna(how='any')\n",
    "# test = test.dropna(how='any')\n",
    "\n",
    "# train = train.reset_index()\n",
    "# test = test.reset_index()\n",
    "\n",
    "# with open('../data/train.bin', 'wb') as f:\n",
    "#     pickle.dump(train, f)\n",
    "# with open('../data/test.bin', 'wb') as f:\n",
    "#     pickle.dump(test, f)"
   ]
  },
  {
   "cell_type": "code",
   "execution_count": null,
   "metadata": {},
   "outputs": [],
   "source": [
    "## olivetti face data\n",
    "from sklearn.datasets import fetch_olivetti_faces\n",
    "\n",
    "data, target = fetch_olivetti_faces(return_X_y=True)"
   ]
  },
  {
   "cell_type": "code",
   "execution_count": null,
   "metadata": {
    "scrolled": true
   },
   "outputs": [],
   "source": [
    "## fetch_face\n",
    "from sklearn.datasets import fetch_lfw_people\n",
    "\n",
    "d = fetch_lfw_people(min_faces_per_person=70)\n",
    "image_shape = (62, 47)\n",
    "\n",
    "data = d.data\n",
    "target = d.target"
   ]
  },
  {
   "cell_type": "code",
   "execution_count": null,
   "metadata": {},
   "outputs": [],
   "source": [
    "from sklearn.model_selection import train_test_split\n",
    "train_X, test_X, train_y, test_y = train_test_split(data, target, test_size=0.3, shuffle=True, random_state=0)"
   ]
  },
  {
   "cell_type": "code",
   "execution_count": null,
   "metadata": {},
   "outputs": [],
   "source": [
    "%%time\n",
    "from sklearn.ensemble import RandomForestClassifier\n",
    "from sklearn.metrics import accuracy_score\n",
    "rf = RandomForestClassifier().fit(train_X, train_y)\n",
    "print(accuracy_score(test_y, rf.predict(test_X)))"
   ]
  },
  {
   "cell_type": "code",
   "execution_count": null,
   "metadata": {},
   "outputs": [],
   "source": [
    "%%time\n",
    "from sklearn.neighbors import KNeighborsClassifier\n",
    "kn = KNeighborsClassifier(n_neighbors=3).fit(train_X, train_y)\n",
    "print(accuracy_score(test_y, kn.predict(test_X)))"
   ]
  },
  {
   "cell_type": "code",
   "execution_count": null,
   "metadata": {},
   "outputs": [],
   "source": [
    "import numpy as np\n",
    "def custom_eval_metric(y_true, y_hat):\n",
    "    y_hat = np.where(y_hat < 0.5, 0, 1)\n",
    "    return 'custom', accuracy_score(y_true, y_hat), True"
   ]
  },
  {
   "cell_type": "code",
   "execution_count": null,
   "metadata": {
    "scrolled": true
   },
   "outputs": [],
   "source": [
    "%%time\n",
    "from xgboost import XGBClassifier\n",
    "\n",
    "params= {\n",
    "    'booster': 'dart',\n",
    "    'tree_method': 'gpu_hist',\n",
    "    'n_estimators': 400,\n",
    "    'learning_rate': 0.1,\n",
    "    'max_depth': 9,\n",
    "    'subsample': 0.7,\n",
    "    'colsample_bytree': 0.7,\n",
    "#     'reg_alpha': 1,\n",
    "#     'reg_lambda': 2\n",
    "    'random_state': 0,\n",
    "#     'objective': \"multi:softmax\"\n",
    "}\n",
    "\n",
    "xgb_clf = XGBClassifier(**params).fit(train_X, train_y, early_stopping_rounds=100, eval_set=[(test_X, test_y)])\n",
    "print(accuracy_score(test_y, xgb_clf.predict(test_X)))"
   ]
  },
  {
   "cell_type": "code",
   "execution_count": null,
   "metadata": {
    "scrolled": true
   },
   "outputs": [],
   "source": [
    "%%time\n",
    "from lightgbm import LGBMClassifier\n",
    "\n",
    "params= {\n",
    "    'boosting': 'gbdt',\n",
    "#     'tree_method': 'gpu_hist',\n",
    "    'n_estimators': 400,\n",
    "    'learning_rate': 0.1,\n",
    "    'max_depth': 9,\n",
    "    'min_child_samples': 20, # 결정노드가 되기 위한 최소 자료 수\n",
    "    'num_leaves': 31, # 트리가 가질 수 있는 최대 리프 수\n",
    "    'subsample': 0.7, # bagging_fraction\n",
    "    'colsample_bytree': 0.7, # feature_fraction\n",
    "    'random_state': 0,\n",
    "}\n",
    "\n",
    "lgb_clf = LGBMClassifier(**params).fit(train_X, train_y, early_stopping_rounds=100,eval_set=[(test_X, test_y)])\n",
    "print(accuracy_score(test_y, lgb_clf.predict(test_X)))"
   ]
  },
  {
   "cell_type": "code",
   "execution_count": null,
   "metadata": {},
   "outputs": [],
   "source": [
    "import matplotlib.pyplot as plt\n",
    "image_shape = (62, 47)\n",
    "\n",
    "print(lfw_people.target_names)\n",
    "plt.imshow(data[8].reshape(image_shape), interpolation='nearest')\n",
    "plt.show()"
   ]
  },
  {
   "cell_type": "code",
   "execution_count": null,
   "metadata": {},
   "outputs": [],
   "source": [
    "|"
   ]
  }
 ],
 "metadata": {
  "kernelspec": {
   "display_name": "Python 3",
   "language": "python",
   "name": "python3"
  },
  "language_info": {
   "codemirror_mode": {
    "name": "ipython",
    "version": 3
   },
   "file_extension": ".py",
   "mimetype": "text/x-python",
   "name": "python",
   "nbconvert_exporter": "python",
   "pygments_lexer": "ipython3",
   "version": "3.7.4"
  },
  "toc": {
   "base_numbering": 1,
   "nav_menu": {},
   "number_sections": true,
   "sideBar": true,
   "skip_h1_title": false,
   "title_cell": "Table of Contents",
   "title_sidebar": "Contents",
   "toc_cell": false,
   "toc_position": {},
   "toc_section_display": true,
   "toc_window_display": false
  }
 },
 "nbformat": 4,
 "nbformat_minor": 2
}
