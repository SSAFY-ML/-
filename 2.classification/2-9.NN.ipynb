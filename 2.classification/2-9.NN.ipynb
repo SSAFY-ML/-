{
 "cells": [
  {
   "cell_type": "markdown",
   "metadata": {},
   "source": [
    "# Neural Network\n",
    "\n",
    "## 딥러닝 맛보기\n",
    "\n",
    "- 추후 사용할 RNN을 위하여 딥러닝 즉 신경망에 대해 맛보기하는 시간을 가저보자\n",
    "- 이전 다른 분류기도 그랬지만 분류와 회귀 모두에서 사용할 수 있다.\n",
    "- 수학적 원리는 정확히 설명하고 구현하기 어려우므로 다른 자료를 참조하기를 권장함\n",
    "- 기본 구조 외에 다양한 architecture에 대한 것은 [여기](https://github.com/young31/Deep-Learning/tree/master/Architecture)\n",
    "  \n",
    "    \n",
    "- keras를 사용하여 구현할 예정\n",
    "    - keras는 쉽게 사용하게 해주는 툴\n",
    "    - tensorflow 등을 백으로 가질 수 있음\n",
    "    \n",
    "- 순차모형과 이름을 달아 연결하는 방법이 있음\n",
    "    - 순차모형이 시작하기는 쉬움\n",
    "    - 나중에 복잡한 망을 짜려면 개별 망에 연결하는 방법을 사용\n",
    "    \n",
    "- 신경망은 greedy하게 해를 찾는 경사하강법을 사용해서 답을 찾아가므로 정규화를 무조건 해줘야함!!!\n",
    "    - 해당 절에서는 편의를 위해 카테고리변수를 따로 설정하지 않음"
   ]
  },
  {
   "cell_type": "code",
   "execution_count": 1,
   "metadata": {},
   "outputs": [],
   "source": [
    "import numpy as np\n",
    "import pandas as pd\n",
    "from sklearn.model_selection import train_test_split\n",
    "from sklearn.metrics import accuracy_score\n",
    "\n",
    "data = pd.read_csv('../1.clustering/titanic.csv')\n",
    "\n",
    "target = data['Survived']\n",
    "data = data.drop(['PassengerId', 'Survived'], axis=1)\n",
    "\n",
    "def sex(a):\n",
    "    if a == 'male':\n",
    "        return 0\n",
    "    else:\n",
    "        return 1\n",
    "    \n",
    "def emb(a):\n",
    "    if a == 'S':\n",
    "        return 0\n",
    "    elif a == 'Q':\n",
    "        return 1\n",
    "    else:\n",
    "        return 2\n",
    "    \n",
    "data['Sex'] = data['Sex'].map(sex)\n",
    "data['Embarked'] = data['Embarked'].map(emb)\n",
    "\n",
    "train_X, test_X, train_y, test_y = train_test_split(data, target, test_size=0.3, random_state=2019, shuffle=True)"
   ]
  },
  {
   "cell_type": "code",
   "execution_count": 2,
   "metadata": {},
   "outputs": [],
   "source": [
    "from sklearn.preprocessing import StandardScaler\n",
    "\n",
    "std = StandardScaler()\n",
    "tt = std.fit_transform(train_X)\n",
    "te = std.fit_transform(test_X)"
   ]
  },
  {
   "cell_type": "code",
   "execution_count": 3,
   "metadata": {},
   "outputs": [
    {
     "name": "stderr",
     "output_type": "stream",
     "text": [
      "Using TensorFlow backend.\n"
     ]
    }
   ],
   "source": [
    "## 층을 만든다\n",
    "from keras import models, layers, optimizers\n",
    "import keras.backend as K\n",
    "K.clear_session()\n",
    "\n",
    "input_layer = layers.Input(shape=train_X.shape[1:])\n",
    "\n",
    "layer1 = layers.Dense(32, activation='relu')(input_layer)\n",
    "layer2 = layers.Dense(16, activation='relu')(layer1)\n",
    "\n",
    "out_layer = layers.Dense(1, activation='sigmoid')(layer2)\n",
    "\n",
    "model = models.Model(input_layer, out_layer)"
   ]
  },
  {
   "cell_type": "code",
   "execution_count": 4,
   "metadata": {},
   "outputs": [],
   "source": [
    "## compile 한다.\n",
    "\n",
    "model.compile(optimizer = optimizers.Adam(lr=0.01),\n",
    "             loss='binary_crossentropy',\n",
    "             metrics=['acc'])"
   ]
  },
  {
   "cell_type": "code",
   "execution_count": 5,
   "metadata": {},
   "outputs": [],
   "source": [
    "# ## custom loss\n",
    "# from keras import backend as K\n",
    "# import tensorflow as tf\n",
    "\n",
    "# def focal_loss(gamma=2., alpha=.25):\n",
    "#     def focal_loss_fixed(y_true, y_pred):\n",
    "#         pt_1 = tf.where(tf.equal(y_true, 1), y_pred, tf.ones_like(y_pred))\n",
    "#         pt_0 = tf.where(tf.equal(y_true, 0), y_pred, tf.zeros_like(y_pred))\n",
    "#         return -K.mean(alpha * K.pow(1. - pt_1, gamma) * K.log(pt_1)) - K.mean((1 - alpha) * K.pow(pt_0, gamma) * K.log(1. - pt_0))\n",
    "#     return focal_loss_fixed\n",
    "# ## cunstom metric\n",
    "\n",
    "# def f1(y_true, y_pred):\n",
    "#     def recall(y_true, y_pred):\n",
    "#         \"\"\"Recall metric.\n",
    "\n",
    "#         Only computes a batch-wise average of recall.\n",
    "\n",
    "#         Computes the recall, a metric for multi-label classification of\n",
    "#         how many relevant items are selected.\n",
    "#         \"\"\"\n",
    "#         true_positives = K.sum(K.round(K.clip(y_true * y_pred, 0, 1)))\n",
    "#         possible_positives = K.sum(K.round(K.clip(y_true, 0, 1)))\n",
    "#         recall = true_positives / (possible_positives + K.epsilon())\n",
    "#         return recall\n",
    "\n",
    "#     def precision(y_true, y_pred):\n",
    "#         \"\"\"Precision metric.\n",
    "\n",
    "#         Only computes a batch-wise average of precision.\n",
    "\n",
    "#         Computes the precision, a metric for multi-label classification of\n",
    "#         how many selected items are relevant.\n",
    "#         \"\"\"\n",
    "#         true_positives = K.sum(K.round(K.clip(y_true * y_pred, 0, 1)))\n",
    "#         predicted_positives = K.sum(K.round(K.clip(y_pred, 0, 1)))\n",
    "#         precision = true_positives / (predicted_positives + K.epsilon())\n",
    "#         return precision\n",
    "#     precision = precision(y_true, y_pred)\n",
    "#     recall = recall(y_true, y_pred)\n",
    "#     return 2*((precision*recall)/(precision+recall+K.epsilon()))\n",
    "# custom_loss = focal_loss()"
   ]
  },
  {
   "cell_type": "code",
   "execution_count": 6,
   "metadata": {},
   "outputs": [],
   "source": [
    "# model.compile(optimizer = optimizers.Adam(lr=0.1),\n",
    "#              loss= custom_loss,\n",
    "#              metrics=['acc'])"
   ]
  },
  {
   "cell_type": "code",
   "execution_count": 7,
   "metadata": {},
   "outputs": [],
   "source": [
    "## callback 함수를 쓴다면 추가\n",
    "from keras.callbacks import EarlyStopping, ModelCheckpoint\n",
    "\n",
    "cp = ModelCheckpoint('best_model.h5', monitor='val_loss', mode='min', save_best_only=True)\n",
    "es = EarlyStopping(monitor='val_loss', patience=20, restore_best_weights=True, verbose=1)"
   ]
  },
  {
   "cell_type": "code",
   "execution_count": 8,
   "metadata": {
    "scrolled": true
   },
   "outputs": [
    {
     "name": "stdout",
     "output_type": "stream",
     "text": [
      "Train on 348 samples, validate on 150 samples\n",
      "Epoch 1/100\n",
      "348/348 [==============================] - 1s 2ms/step - loss: 0.5942 - acc: 0.6897 - val_loss: 0.5091 - val_acc: 0.7667\n",
      "Epoch 2/100\n",
      "348/348 [==============================] - ETA: 0s - loss: 0.4096 - acc: 0.843 - 0s 186us/step - loss: 0.4567 - acc: 0.7989 - val_loss: 0.4551 - val_acc: 0.8067\n",
      "Epoch 3/100\n",
      "348/348 [==============================] - 0s 166us/step - loss: 0.4188 - acc: 0.8247 - val_loss: 0.4422 - val_acc: 0.8000\n",
      "Epoch 4/100\n",
      "348/348 [==============================] - 0s 209us/step - loss: 0.4002 - acc: 0.8333 - val_loss: 0.4489 - val_acc: 0.8000\n",
      "Epoch 5/100\n",
      "348/348 [==============================] - 0s 195us/step - loss: 0.3837 - acc: 0.8563 - val_loss: 0.4168 - val_acc: 0.8067\n",
      "Epoch 6/100\n",
      "348/348 [==============================] - 0s 198us/step - loss: 0.3818 - acc: 0.8362 - val_loss: 0.4258 - val_acc: 0.8200\n",
      "Epoch 7/100\n",
      "348/348 [==============================] - 0s 201us/step - loss: 0.3674 - acc: 0.8362 - val_loss: 0.4431 - val_acc: 0.8133\n",
      "Epoch 8/100\n",
      "348/348 [==============================] - 0s 186us/step - loss: 0.3610 - acc: 0.8477 - val_loss: 0.4370 - val_acc: 0.8200\n",
      "Epoch 9/100\n",
      "348/348 [==============================] - 0s 186us/step - loss: 0.3531 - acc: 0.8506 - val_loss: 0.4517 - val_acc: 0.8267\n",
      "Epoch 10/100\n",
      "348/348 [==============================] - 0s 198us/step - loss: 0.3485 - acc: 0.8534 - val_loss: 0.4438 - val_acc: 0.8267\n",
      "Epoch 11/100\n",
      "348/348 [==============================] - 0s 163us/step - loss: 0.3423 - acc: 0.8563 - val_loss: 0.4816 - val_acc: 0.7933\n",
      "Epoch 12/100\n",
      "348/348 [==============================] - 0s 203us/step - loss: 0.3343 - acc: 0.8563 - val_loss: 0.4440 - val_acc: 0.8133\n",
      "Epoch 13/100\n",
      "348/348 [==============================] - 0s 206us/step - loss: 0.3374 - acc: 0.8563 - val_loss: 0.5037 - val_acc: 0.7867\n",
      "Epoch 14/100\n",
      "348/348 [==============================] - 0s 186us/step - loss: 0.3202 - acc: 0.8649 - val_loss: 0.4447 - val_acc: 0.8200\n",
      "Epoch 15/100\n",
      "348/348 [==============================] - 0s 241us/step - loss: 0.3172 - acc: 0.8563 - val_loss: 0.5041 - val_acc: 0.8000\n",
      "Epoch 16/100\n",
      "348/348 [==============================] - 0s 181us/step - loss: 0.3149 - acc: 0.8707 - val_loss: 0.4697 - val_acc: 0.7933\n",
      "Epoch 17/100\n",
      "348/348 [==============================] - 0s 201us/step - loss: 0.2985 - acc: 0.8707 - val_loss: 0.5174 - val_acc: 0.7867\n",
      "Epoch 18/100\n",
      "348/348 [==============================] - 0s 224us/step - loss: 0.2956 - acc: 0.8822 - val_loss: 0.4687 - val_acc: 0.8067\n",
      "Epoch 19/100\n",
      "348/348 [==============================] - 0s 238us/step - loss: 0.2949 - acc: 0.8764 - val_loss: 0.4996 - val_acc: 0.7867\n",
      "Epoch 20/100\n",
      "348/348 [==============================] - 0s 198us/step - loss: 0.2961 - acc: 0.8678 - val_loss: 0.5194 - val_acc: 0.7867\n",
      "Epoch 21/100\n",
      "348/348 [==============================] - 0s 189us/step - loss: 0.2969 - acc: 0.8764 - val_loss: 0.4946 - val_acc: 0.7667\n",
      "Epoch 22/100\n",
      "348/348 [==============================] - 0s 172us/step - loss: 0.2860 - acc: 0.8764 - val_loss: 0.5290 - val_acc: 0.7867\n",
      "Epoch 23/100\n",
      "348/348 [==============================] - 0s 201us/step - loss: 0.2826 - acc: 0.8764 - val_loss: 0.5411 - val_acc: 0.7667\n",
      "Epoch 24/100\n",
      "348/348 [==============================] - 0s 198us/step - loss: 0.2951 - acc: 0.8851 - val_loss: 0.5219 - val_acc: 0.7800\n",
      "Epoch 25/100\n",
      "348/348 [==============================] - 0s 195us/step - loss: 0.2820 - acc: 0.8822 - val_loss: 0.5420 - val_acc: 0.7733\n",
      "Restoring model weights from the end of the best epoch\n",
      "Epoch 00025: early stopping\n"
     ]
    },
    {
     "data": {
      "text/plain": [
       "<keras.callbacks.callbacks.History at 0x20421666448>"
      ]
     },
     "execution_count": 8,
     "metadata": {},
     "output_type": "execute_result"
    }
   ],
   "source": [
    "## 훈련시킨다.\n",
    "model.fit(tt, train_y,\n",
    "         epochs=100,\n",
    "         validation_split=0.3,\n",
    "         callbacks=[cp, es])\n"
   ]
  },
  {
   "cell_type": "code",
   "execution_count": 9,
   "metadata": {},
   "outputs": [
    {
     "name": "stdout",
     "output_type": "stream",
     "text": [
      "0.794392523364486\n"
     ]
    }
   ],
   "source": [
    "## 모델 평가\n",
    "res = model.predict(te)\n",
    "def thres(a):\n",
    "    if a < 0.5:\n",
    "        return 0\n",
    "    else:\n",
    "        return 1\n",
    "res = list(map(thres, res))\n",
    "print(accuracy_score(test_y, res))"
   ]
  },
  {
   "cell_type": "code",
   "execution_count": 10,
   "metadata": {},
   "outputs": [
    {
     "name": "stdout",
     "output_type": "stream",
     "text": [
      "214/214 [==============================] - 0s 98us/step\n"
     ]
    },
    {
     "data": {
      "text/plain": [
       "[0.47600608423491503, 0.7943925261497498]"
      ]
     },
     "execution_count": 10,
     "metadata": {},
     "output_type": "execute_result"
    }
   ],
   "source": [
    "model.evaluate(te, test_y)"
   ]
  },
  {
   "cell_type": "code",
   "execution_count": 11,
   "metadata": {
    "scrolled": true
   },
   "outputs": [
    {
     "name": "stdout",
     "output_type": "stream",
     "text": [
      "Train on 348 samples, validate on 150 samples\n",
      "Epoch 1/40\n",
      "348/348 [==============================] - 0s 507us/step - loss: 0.5309 - acc: 0.7529 - val_loss: 0.4841 - val_acc: 0.7600\n",
      "Epoch 2/40\n",
      "348/348 [==============================] - 0s 203us/step - loss: 0.4511 - acc: 0.7845 - val_loss: 0.4655 - val_acc: 0.7867\n",
      "Epoch 3/40\n",
      "348/348 [==============================] - 0s 172us/step - loss: 0.4117 - acc: 0.8161 - val_loss: 0.4952 - val_acc: 0.8000\n",
      "Epoch 4/40\n",
      "348/348 [==============================] - 0s 178us/step - loss: 0.4155 - acc: 0.8305 - val_loss: 0.5059 - val_acc: 0.8200\n",
      "Epoch 5/40\n",
      "348/348 [==============================] - 0s 186us/step - loss: 0.3922 - acc: 0.8132 - val_loss: 0.4778 - val_acc: 0.7800\n",
      "Epoch 6/40\n",
      "348/348 [==============================] - 0s 189us/step - loss: 0.4070 - acc: 0.8420 - val_loss: 0.5031 - val_acc: 0.8000\n",
      "Epoch 7/40\n",
      "348/348 [==============================] - 0s 199us/step - loss: 0.3990 - acc: 0.8305 - val_loss: 0.5799 - val_acc: 0.7533\n",
      "Epoch 8/40\n",
      "348/348 [==============================] - 0s 198us/step - loss: 0.3754 - acc: 0.8420 - val_loss: 0.4927 - val_acc: 0.8400\n",
      "Epoch 9/40\n",
      "348/348 [==============================] - 0s 202us/step - loss: 0.3563 - acc: 0.8305 - val_loss: 0.5054 - val_acc: 0.8467\n",
      "Epoch 10/40\n",
      "348/348 [==============================] - 0s 189us/step - loss: 0.3524 - acc: 0.8190 - val_loss: 0.5080 - val_acc: 0.8333\n",
      "Epoch 11/40\n",
      "348/348 [==============================] - 0s 183us/step - loss: 0.3351 - acc: 0.8621 - val_loss: 0.5672 - val_acc: 0.8000\n",
      "Epoch 12/40\n",
      "348/348 [==============================] - 0s 215us/step - loss: 0.3652 - acc: 0.8420 - val_loss: 0.5345 - val_acc: 0.7533\n",
      "Epoch 13/40\n",
      "348/348 [==============================] - 0s 152us/step - loss: 0.3843 - acc: 0.8305 - val_loss: 0.5174 - val_acc: 0.7600\n",
      "Epoch 14/40\n",
      "348/348 [==============================] - 0s 198us/step - loss: 0.3924 - acc: 0.8362 - val_loss: 0.4769 - val_acc: 0.7933\n",
      "Epoch 15/40\n",
      "348/348 [==============================] - 0s 165us/step - loss: 0.3220 - acc: 0.8707 - val_loss: 0.5591 - val_acc: 0.7800\n",
      "Epoch 16/40\n",
      "348/348 [==============================] - 0s 183us/step - loss: 0.3245 - acc: 0.8649 - val_loss: 0.5489 - val_acc: 0.7933\n",
      "Epoch 17/40\n",
      "348/348 [==============================] - 0s 195us/step - loss: 0.3186 - acc: 0.8736 - val_loss: 0.5268 - val_acc: 0.7933\n",
      "Epoch 18/40\n",
      "348/348 [==============================] - 0s 212us/step - loss: 0.3256 - acc: 0.8534 - val_loss: 0.7406 - val_acc: 0.5933\n",
      "Epoch 19/40\n",
      "348/348 [==============================] - 0s 209us/step - loss: 0.3454 - acc: 0.8132 - val_loss: 0.6152 - val_acc: 0.8333\n",
      "Epoch 20/40\n",
      "348/348 [==============================] - 0s 123us/step - loss: 0.3722 - acc: 0.8333 - val_loss: 0.5372 - val_acc: 0.8467\n",
      "Epoch 21/40\n",
      "348/348 [==============================] - 0s 203us/step - loss: 0.3630 - acc: 0.8333 - val_loss: 0.5750 - val_acc: 0.8400\n",
      "Epoch 22/40\n",
      "348/348 [==============================] - 0s 201us/step - loss: 0.3184 - acc: 0.8448 - val_loss: 0.6053 - val_acc: 0.8400\n",
      "Restoring model weights from the end of the best epoch\n",
      "Epoch 00022: early stopping\n"
     ]
    },
    {
     "data": {
      "text/plain": [
       "<keras.callbacks.callbacks.History at 0x205944cfe08>"
      ]
     },
     "execution_count": 11,
     "metadata": {},
     "output_type": "execute_result"
    }
   ],
   "source": [
    "## 모형을 쌓듯이 하는 방법의 같은 코드\n",
    "model = models.Sequential()\n",
    "\n",
    "model.add(layers.Dense(32, activation='relu'))\n",
    "model.add(layers.Dense(16, activation='relu'))\n",
    "\n",
    "model.add(layers.Dense(1, activation='sigmoid'))\n",
    "\n",
    "model.compile(optimizer = optimizers.Adam(lr=0.1),\n",
    "             loss='binary_crossentropy',\n",
    "             metrics=['acc'])\n",
    "\n",
    "model.fit(tt, train_y.values,\n",
    "         epochs=40,\n",
    "         validation_split=0.3,\n",
    "         callbacks=[cp, es])\n"
   ]
  }
 ],
 "metadata": {
  "kernelspec": {
   "display_name": "Python 3",
   "language": "python",
   "name": "python3"
  },
  "language_info": {
   "codemirror_mode": {
    "name": "ipython",
    "version": 3
   },
   "file_extension": ".py",
   "mimetype": "text/x-python",
   "name": "python",
   "nbconvert_exporter": "python",
   "pygments_lexer": "ipython3",
   "version": "3.7.4"
  },
  "toc": {
   "base_numbering": 1,
   "nav_menu": {},
   "number_sections": true,
   "sideBar": true,
   "skip_h1_title": false,
   "title_cell": "Table of Contents",
   "title_sidebar": "Contents",
   "toc_cell": false,
   "toc_position": {},
   "toc_section_display": true,
   "toc_window_display": false
  }
 },
 "nbformat": 4,
 "nbformat_minor": 2
}
