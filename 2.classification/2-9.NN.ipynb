{
 "cells": [
  {
   "cell_type": "markdown",
   "metadata": {},
   "source": [
    "# Neural Network\n",
    "\n",
    "## 딥러닝 맛보기\n",
    "\n",
    "- 추후 사용할 RNN을 위하여 딥러닝 즉 신경망에 대해 맛보기하는 시간을 가저보자\n",
    "- 이전 다른 분류기도 그랬지만 분류와 회귀 모두에서 사용할 수 있다.\n",
    "- 수학적 원리는 정확히 설명하고 구현하기 어려우므로 다른 자료를 참조하기를 권장함\n",
    "- 기본 구조 외에 다양한 architecture에 대한 것은 [여기](https://github.com/young31/Deep-Learning/tree/master/Architecture)\n",
    "  \n",
    "    \n",
    "- keras를 사용하여 구현할 예정\n",
    "    - keras는 쉽게 사용하게 해주는 툴\n",
    "    - tensorflow 등을 백으로 가질 수 있음\n",
    "    \n",
    "- 순차모형과 이름을 달아 연결하는 방법이 있음\n",
    "    - 순차모형이 시작하기는 쉬움\n",
    "    - 나중에 복잡한 망을 짜려면 개별 망에 연결하는 방법을 사용\n",
    "    \n",
    "- 신경망은 greedy하게 해를 찾는 경사하강법을 사용해서 답을 찾아가므로 정규화를 무조건 해줘야함!!!\n",
    "    - 해당 절에서는 편의를 위해 카테고리변수를 따로 설정하지 않음"
   ]
  },
  {
   "cell_type": "code",
   "execution_count": 1,
   "metadata": {},
   "outputs": [],
   "source": [
    "import numpy as np\n",
    "import pandas as pd\n",
    "from sklearn.model_selection import train_test_split\n",
    "from sklearn.metrics import accuracy_score\n",
    "\n",
    "data = pd.read_csv('../1.clustering/titanic.csv')\n",
    "\n",
    "target = data['Survived']\n",
    "data = data.drop(['PassengerId', 'Survived'], axis=1)\n",
    "\n",
    "def sex(a):\n",
    "    if a == 'male':\n",
    "        return 0\n",
    "    else:\n",
    "        return 1\n",
    "    \n",
    "def emb(a):\n",
    "    if a == 'S':\n",
    "        return 0\n",
    "    elif a == 'Q':\n",
    "        return 1\n",
    "    else:\n",
    "        return 2\n",
    "    \n",
    "data['Sex'] = data['Sex'].map(sex)\n",
    "data['Embarked'] = data['Embarked'].map(emb)\n",
    "\n",
    "train_X, test_X, train_y, test_y = train_test_split(data, target, test_size=0.3, random_state=2019, shuffle=True)"
   ]
  },
  {
   "cell_type": "code",
   "execution_count": 2,
   "metadata": {},
   "outputs": [],
   "source": [
    "from sklearn.preprocessing import StandardScaler\n",
    "\n",
    "std = StandardScaler()\n",
    "tt = std.fit_transform(train_X)\n",
    "te = std.fit_transform(test_X)"
   ]
  },
  {
   "cell_type": "code",
   "execution_count": 3,
   "metadata": {},
   "outputs": [
    {
     "name": "stderr",
     "output_type": "stream",
     "text": [
      "Using TensorFlow backend.\n"
     ]
    }
   ],
   "source": [
    "## 층을 만든다\n",
    "from keras import models, layers, optimizers\n",
    "import keras.backend as K\n",
    "K.clear_session()\n",
    "\n",
    "input_layer = layers.Input(shape=train_X.shape[1:])\n",
    "\n",
    "layer1 = layers.Dense(32, activation='relu')(input_layer)\n",
    "layer2 = layers.Dense(16, activation='relu')(layer1)\n",
    "\n",
    "out_layer = layers.Dense(1, activation='sigmoid')(layer2)\n",
    "\n",
    "model = models.Model(input_layer, out_layer)"
   ]
  },
  {
   "cell_type": "code",
   "execution_count": 4,
   "metadata": {},
   "outputs": [],
   "source": [
    "## compile 한다.\n",
    "\n",
    "model.compile(optimizer = optimizers.Adam(lr=0.1),\n",
    "             loss='binary_crossentropy',\n",
    "             metrics=['acc'])"
   ]
  },
  {
   "cell_type": "code",
   "execution_count": 5,
   "metadata": {},
   "outputs": [],
   "source": [
    "## callback 함수를 쓴다면 추가\n",
    "from keras.callbacks import EarlyStopping, ModelCheckpoint\n",
    "\n",
    "cp = ModelCheckpoint('best_model.h5', monitor='val_acc', mode='max', save_best_only=True)\n",
    "es = EarlyStopping(monitor='val_acc', patience=10, restore_best_weights=True, verbose=1)"
   ]
  },
  {
   "cell_type": "code",
   "execution_count": 6,
   "metadata": {
    "scrolled": true
   },
   "outputs": [
    {
     "name": "stdout",
     "output_type": "stream",
     "text": [
      "Train on 348 samples, validate on 150 samples\n",
      "Epoch 1/40\n",
      "348/348 [==============================] - 1s 2ms/step - loss: 0.6948 - acc: 0.7241 - val_loss: 0.4506 - val_acc: 0.8267\n",
      "Epoch 2/40\n",
      "348/348 [==============================] - 0s 143us/step - loss: 0.4975 - acc: 0.7730 - val_loss: 0.5426 - val_acc: 0.7600\n",
      "Epoch 3/40\n",
      "348/348 [==============================] - 0s 201us/step - loss: 0.5055 - acc: 0.8103 - val_loss: 0.4855 - val_acc: 0.7800\n",
      "Epoch 4/40\n",
      "348/348 [==============================] - 0s 163us/step - loss: 0.4590 - acc: 0.7787 - val_loss: 0.5110 - val_acc: 0.8067\n",
      "Epoch 5/40\n",
      "348/348 [==============================] - 0s 186us/step - loss: 0.4269 - acc: 0.8190 - val_loss: 0.4496 - val_acc: 0.8067\n",
      "Epoch 6/40\n",
      "348/348 [==============================] - 0s 193us/step - loss: 0.4110 - acc: 0.8103 - val_loss: 0.4342 - val_acc: 0.8200\n",
      "Epoch 7/40\n",
      "348/348 [==============================] - 0s 192us/step - loss: 0.3921 - acc: 0.8103 - val_loss: 0.4173 - val_acc: 0.8333\n",
      "Epoch 8/40\n",
      "348/348 [==============================] - 0s 181us/step - loss: 0.3901 - acc: 0.8391 - val_loss: 0.4520 - val_acc: 0.8067\n",
      "Epoch 9/40\n",
      "348/348 [==============================] - 0s 203us/step - loss: 0.3717 - acc: 0.8132 - val_loss: 0.4585 - val_acc: 0.8133\n",
      "Epoch 10/40\n",
      "348/348 [==============================] - 0s 190us/step - loss: 0.3535 - acc: 0.8420 - val_loss: 0.4355 - val_acc: 0.8333\n",
      "Epoch 11/40\n",
      "348/348 [==============================] - 0s 218us/step - loss: 0.3367 - acc: 0.8391 - val_loss: 0.4850 - val_acc: 0.7667\n",
      "Epoch 12/40\n",
      "348/348 [==============================] - 0s 169us/step - loss: 0.3587 - acc: 0.8563 - val_loss: 0.4801 - val_acc: 0.7733\n",
      "Epoch 13/40\n",
      "348/348 [==============================] - 0s 198us/step - loss: 0.3464 - acc: 0.8592 - val_loss: 0.4836 - val_acc: 0.8200\n",
      "Epoch 14/40\n",
      "348/348 [==============================] - 0s 183us/step - loss: 0.3822 - acc: 0.8276 - val_loss: 0.5792 - val_acc: 0.7467\n",
      "Epoch 15/40\n",
      "348/348 [==============================] - 0s 149us/step - loss: 0.3663 - acc: 0.8247 - val_loss: 0.4614 - val_acc: 0.8200\n",
      "Epoch 16/40\n",
      "348/348 [==============================] - 0s 246us/step - loss: 0.3679 - acc: 0.8276 - val_loss: 0.4422 - val_acc: 0.8200\n",
      "Epoch 17/40\n",
      "348/348 [==============================] - 0s 192us/step - loss: 0.3451 - acc: 0.8333 - val_loss: 0.5504 - val_acc: 0.8067\n",
      "Restoring model weights from the end of the best epoch\n",
      "Epoch 00017: early stopping\n"
     ]
    },
    {
     "data": {
      "text/plain": [
       "<keras.callbacks.callbacks.History at 0x1e5e8f6ae08>"
      ]
     },
     "execution_count": 6,
     "metadata": {},
     "output_type": "execute_result"
    }
   ],
   "source": [
    "## 훈련시킨다.\n",
    "model.fit(tt, train_y,\n",
    "         epochs=40,\n",
    "         validation_split=0.3,\n",
    "         callbacks=[cp, es])\n"
   ]
  },
  {
   "cell_type": "code",
   "execution_count": 7,
   "metadata": {},
   "outputs": [
    {
     "name": "stdout",
     "output_type": "stream",
     "text": [
      "0.8271028037383178\n"
     ]
    }
   ],
   "source": [
    "## 모델 평가\n",
    "res = model.predict(te)\n",
    "def thres(a):\n",
    "    if a < 0.5:\n",
    "        return 0\n",
    "    else:\n",
    "        return 1\n",
    "res = list(map(thres, res))\n",
    "print(accuracy_score(test_y, res))"
   ]
  },
  {
   "cell_type": "code",
   "execution_count": 8,
   "metadata": {},
   "outputs": [
    {
     "name": "stdout",
     "output_type": "stream",
     "text": [
      "214/214 [==============================] - 0s 84us/step\n"
     ]
    },
    {
     "data": {
      "text/plain": [
       "[0.47494250452407055, 0.827102780342102]"
      ]
     },
     "execution_count": 8,
     "metadata": {},
     "output_type": "execute_result"
    }
   ],
   "source": [
    "model.evaluate(te, test_y)"
   ]
  },
  {
   "cell_type": "code",
   "execution_count": 9,
   "metadata": {
    "scrolled": true
   },
   "outputs": [
    {
     "name": "stdout",
     "output_type": "stream",
     "text": [
      "Train on 348 samples, validate on 150 samples\n",
      "Epoch 1/40\n",
      "348/348 [==============================] - 0s 516us/step - loss: 0.5818 - acc: 0.7126 - val_loss: 0.4872 - val_acc: 0.7533\n",
      "Epoch 2/40\n",
      "348/348 [==============================] - 0s 189us/step - loss: 0.5967 - acc: 0.7213 - val_loss: 0.4958 - val_acc: 0.7600\n",
      "Epoch 3/40\n",
      "348/348 [==============================] - 0s 206us/step - loss: 0.4994 - acc: 0.7241 - val_loss: 0.4719 - val_acc: 0.7667\n",
      "Epoch 4/40\n",
      "348/348 [==============================] - 0s 206us/step - loss: 0.4858 - acc: 0.8103 - val_loss: 0.4905 - val_acc: 0.7800\n",
      "Epoch 5/40\n",
      "348/348 [==============================] - 0s 149us/step - loss: 0.4388 - acc: 0.8333 - val_loss: 0.4988 - val_acc: 0.7867\n",
      "Epoch 6/40\n",
      "348/348 [==============================] - 0s 152us/step - loss: 0.4366 - acc: 0.8132 - val_loss: 0.4805 - val_acc: 0.7467\n",
      "Epoch 7/40\n",
      "348/348 [==============================] - 0s 232us/step - loss: 0.4176 - acc: 0.8420 - val_loss: 0.5312 - val_acc: 0.7600\n",
      "Epoch 8/40\n",
      "348/348 [==============================] - 0s 209us/step - loss: 0.4276 - acc: 0.8247 - val_loss: 0.5100 - val_acc: 0.7467\n",
      "Epoch 9/40\n",
      "348/348 [==============================] - 0s 186us/step - loss: 0.4198 - acc: 0.8161 - val_loss: 0.4980 - val_acc: 0.7333\n",
      "Epoch 10/40\n",
      "348/348 [==============================] - 0s 192us/step - loss: 0.4049 - acc: 0.8305 - val_loss: 0.4901 - val_acc: 0.7533\n",
      "Epoch 11/40\n",
      "348/348 [==============================] - 0s 175us/step - loss: 0.3960 - acc: 0.8218 - val_loss: 0.4905 - val_acc: 0.7733\n",
      "Epoch 12/40\n",
      "348/348 [==============================] - 0s 172us/step - loss: 0.3753 - acc: 0.8276 - val_loss: 0.4885 - val_acc: 0.7467\n",
      "Epoch 13/40\n",
      "348/348 [==============================] - 0s 164us/step - loss: 0.3791 - acc: 0.8305 - val_loss: 0.5066 - val_acc: 0.7600\n",
      "Epoch 14/40\n",
      "348/348 [==============================] - 0s 198us/step - loss: 0.3696 - acc: 0.8362 - val_loss: 0.5359 - val_acc: 0.7400\n",
      "Epoch 15/40\n",
      "348/348 [==============================] - 0s 181us/step - loss: 0.4201 - acc: 0.8103 - val_loss: 0.5581 - val_acc: 0.6533\n",
      "Restoring model weights from the end of the best epoch\n",
      "Epoch 00015: early stopping\n"
     ]
    },
    {
     "data": {
      "text/plain": [
       "<keras.callbacks.callbacks.History at 0x1e715994d48>"
      ]
     },
     "execution_count": 9,
     "metadata": {},
     "output_type": "execute_result"
    }
   ],
   "source": [
    "## 모형을 쌓듯이 하는 방법의 같은 코드\n",
    "model = models.Sequential()\n",
    "\n",
    "model.add(layers.Dense(32, activation='relu'))\n",
    "model.add(layers.Dense(16, activation='relu'))\n",
    "\n",
    "model.add(layers.Dense(1, activation='sigmoid'))\n",
    "\n",
    "model.compile(optimizer = optimizers.Adam(lr=0.1),\n",
    "             loss='binary_crossentropy',\n",
    "             metrics=['acc'])\n",
    "\n",
    "model.fit(tt, train_y.values,\n",
    "         epochs=40,\n",
    "         validation_split=0.3,\n",
    "         callbacks=[cp, es])\n"
   ]
  }
 ],
 "metadata": {
  "kernelspec": {
   "display_name": "Python 3",
   "language": "python",
   "name": "python3"
  },
  "language_info": {
   "codemirror_mode": {
    "name": "ipython",
    "version": 3
   },
   "file_extension": ".py",
   "mimetype": "text/x-python",
   "name": "python",
   "nbconvert_exporter": "python",
   "pygments_lexer": "ipython3",
   "version": "3.7.4"
  },
  "toc": {
   "base_numbering": 1,
   "nav_menu": {},
   "number_sections": true,
   "sideBar": true,
   "skip_h1_title": false,
   "title_cell": "Table of Contents",
   "title_sidebar": "Contents",
   "toc_cell": false,
   "toc_position": {},
   "toc_section_display": true,
   "toc_window_display": false
  }
 },
 "nbformat": 4,
 "nbformat_minor": 2
}
