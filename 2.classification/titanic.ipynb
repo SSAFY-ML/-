{
 "cells": [
  {
   "cell_type": "code",
   "execution_count": 1,
   "metadata": {},
   "outputs": [
    {
     "name": "stderr",
     "output_type": "stream",
     "text": [
      "Using TensorFlow backend.\n"
     ]
    }
   ],
   "source": [
    "## 기본 library\n",
    "import numpy as np\n",
    "import pandas as pd\n",
    "import matplotlib.pyplot as plt \n",
    "## model library\n",
    "from sklearn.linear_model import LogisticRegression\n",
    "from sklearn.neighbors import KNeighborsClassifier\n",
    "from sklearn.svm import SVC\n",
    "from sklearn.tree import DecisionTreeClassifier\n",
    "from xgboost import XGBClassifier\n",
    "from lightgbm import LGBMClassifier\n",
    "from keras import models, layers\n",
    "## helper library\n",
    "from sklearn.model_selection import train_test_split, KFold, cross_val_score\n",
    "from sklearn.metrics import accuracy_score\n",
    "\n",
    "\n",
    "data = pd.read_csv('../1.clustering/titanic.csv')\n",
    "\n",
    "target = data['Survived']\n",
    "data = data.drop(['PassengerId', 'Survived'], axis=1)"
   ]
  },
  {
   "cell_type": "code",
   "execution_count": 2,
   "metadata": {},
   "outputs": [],
   "source": [
    "d = data.copy()\n",
    "categorical = [\n",
    "    'Pclass', 'Sex', 'SibSp', 'Parch', 'Embarked'\n",
    "]"
   ]
  },
  {
   "cell_type": "code",
   "execution_count": 3,
   "metadata": {},
   "outputs": [],
   "source": [
    "from sklearn.preprocessing import MinMaxScaler, StandardScaler, LabelEncoder\n",
    "\n",
    "data['Age'] = pd.DataFrame(MinMaxScaler().fit_transform(data['Age'].values.reshape(-1,1)))\n",
    "data['Fare'] = pd.DataFrame(StandardScaler().fit_transform(data['Fare'].values.reshape(-1,1)))\n",
    "\n",
    "lbe = LabelEncoder()\n",
    "data['Sex'] = lbe.fit_transform(data['Sex'])\n",
    "sex = lbe.classes_\n",
    "data['Embarked'] = lbe.fit_transform(data['Embarked'])\n",
    "emb = lbe.classes_\n",
    "\n",
    "for c in categorical:\n",
    "    data = pd.concat([data, pd.get_dummies(data[c], prefix=c)], axis=1)\n",
    "    data = data.drop(c, axis=1)"
   ]
  },
  {
   "cell_type": "code",
   "execution_count": 4,
   "metadata": {},
   "outputs": [],
   "source": [
    "train_X, test_X, train_y, test_y = train_test_split(data, target, test_size=0.3, random_state=0, shuffle=True)"
   ]
  },
  {
   "cell_type": "code",
   "execution_count": 5,
   "metadata": {},
   "outputs": [],
   "source": [
    "kfold = KFold(n_splits=10, shuffle=True, random_state=0)"
   ]
  },
  {
   "cell_type": "code",
   "execution_count": 6,
   "metadata": {},
   "outputs": [
    {
     "name": "stdout",
     "output_type": "stream",
     "text": [
      "0.799265306122449\n"
     ]
    }
   ],
   "source": [
    "## logistic\n",
    "acc = 0\n",
    "for tr_idx, val_idx in kfold.split(train_X):\n",
    "    tr_X, tr_y = train_X.iloc[tr_idx, :], train_y.iloc[tr_idx]\n",
    "    val_X, val_y = train_X.iloc[val_idx, :], train_y.iloc[val_idx]\n",
    "    lr = LogisticRegression(random_state=0).fit(tr_X, tr_y)\n",
    "    acc += accuracy_score(val_y, lr.predict(val_X))/10\n",
    "\n",
    "print(acc)"
   ]
  },
  {
   "cell_type": "code",
   "execution_count": 7,
   "metadata": {},
   "outputs": [
    {
     "name": "stdout",
     "output_type": "stream",
     "text": [
      "0.7992653061224491\n"
     ]
    }
   ],
   "source": [
    "## 조금 더 간단히 할 수 있음\n",
    "lr  = LogisticRegression(random_state=0)\n",
    "acc = cross_val_score(lr, train_X, train_y, cv=kfold, n_jobs=1, scoring='accuracy')\n",
    "print(np.mean(acc))"
   ]
  },
  {
   "cell_type": "code",
   "execution_count": 8,
   "metadata": {},
   "outputs": [],
   "source": [
    "lr = LogisticRegression(random_state=0).fit(train_X, train_y)"
   ]
  },
  {
   "cell_type": "code",
   "execution_count": 9,
   "metadata": {},
   "outputs": [],
   "source": [
    "## knn\n",
    "opt = []\n",
    "for n in range(2, 30):\n",
    "    knn = KNeighborsClassifier(n_neighbors=n)\n",
    "    acc = []\n",
    "    for tr_idx, val_idx in kfold.split(train_X):\n",
    "        tr_X, tr_y = train_X.iloc[tr_idx, :], train_y.iloc[tr_idx]\n",
    "        val_X, val_y = train_X.iloc[val_idx, :], train_y.iloc[val_idx]\n",
    "        knn.fit(tr_X, tr_y)\n",
    "        acc.append(accuracy_score(val_y, knn.predict(val_X)))\n",
    "    opt.append(np.mean(acc))"
   ]
  },
  {
   "cell_type": "code",
   "execution_count": 10,
   "metadata": {},
   "outputs": [
    {
     "name": "stdout",
     "output_type": "stream",
     "text": [
      "[0.7811020408163265, 0.8093061224489796, 0.7791836734693878, 0.7951428571428572, 0.7952653061224491, 0.7953469387755102, 0.7973469387755102, 0.7953061224489797, 0.8033061224489797, 0.7952244897959184, 0.7972244897959184, 0.793265306122449, 0.7892653061224489, 0.7933469387755101, 0.8053469387755102, 0.8053877551020407, 0.7933061224489796, 0.7973469387755102, 0.7893469387755102, 0.8013061224489796, 0.7853469387755101, 0.7953877551020407, 0.7913877551020408, 0.7953061224489797, 0.7893469387755102, 0.7892653061224489, 0.7892244897959183, 0.791265306122449]\n"
     ]
    },
    {
     "data": {
      "image/png": "[encoded data removed]",
      "text/plain": [
       "<Figure size 432x288 with 1 Axes>"
      ]
     },
     "metadata": {
      "needs_background": "light"
     },
     "output_type": "display_data"
    }
   ],
   "source": [
    "plt.plot(opt)\n",
    "print(opt)\n"
   ]
  },
  {
   "cell_type": "code",
   "execution_count": 11,
   "metadata": {},
   "outputs": [],
   "source": [
    "## knn's n_neighbor = 3\n",
    "knn = KNeighborsClassifier(n_neighbors=3).fit(train_X, train_y)"
   ]
  },
  {
   "cell_type": "code",
   "execution_count": 12,
   "metadata": {},
   "outputs": [
    {
     "name": "stdout",
     "output_type": "stream",
     "text": [
      "0.7832653061224489\n"
     ]
    }
   ],
   "source": [
    "## RF with no paramter tuning\n",
    "from sklearn.ensemble import RandomForestClassifier\n",
    "\n",
    "acc = 0\n",
    "for tr_idx, val_idx in kfold.split(train_X):\n",
    "    tr_X, tr_y = train_X.iloc[tr_idx, :], train_y.iloc[tr_idx]\n",
    "    val_X, val_y = train_X.iloc[val_idx, :], train_y.iloc[val_idx]\n",
    "    rf = RandomForestClassifier(random_state=0).fit(tr_X, tr_y)\n",
    "    acc += accuracy_score(val_y, rf.predict(val_X))/10\n",
    "\n",
    "print(acc)"
   ]
  },
  {
   "cell_type": "code",
   "execution_count": 13,
   "metadata": {},
   "outputs": [],
   "source": [
    "rf = RandomForestClassifier(random_state=0).fit(train_X, train_y)"
   ]
  },
  {
   "cell_type": "code",
   "execution_count": 22,
   "metadata": {},
   "outputs": [],
   "source": [
    "## xgboost\n",
    "from bayes_opt import BayesianOptimization\n",
    "\n",
    "xgb_bounds = {\n",
    "    'max_depth': (3, 12),\n",
    "    'subsample': (0.3, 1),\n",
    "    'colsample_bytree': (0.3, 1),\n",
    "    'reg_alpha': (0.1, 3),\n",
    "    'reg_lamda': (0.1, 3)\n",
    "}\n",
    "\n",
    "best_ns = []\n",
    "\n",
    "def bayes_xgb(max_depth, subsample, colsample_bytree, reg_alpha, reg_lamda):\n",
    "    global best_ns\n",
    "    params = {\n",
    "        'n_estimators': 1000,\n",
    "        'booster': 'gbtree',\n",
    "        'tree_method': 'hist',\n",
    "        'random_state': 0,\n",
    "        'n_jobs': -1,\n",
    "        'max_depth': int(max_depth),\n",
    "        'subsample': subsample,\n",
    "        'colsample_bytree': colsample_bytree,\n",
    "        'reg_alpha': reg_alpha,\n",
    "        'reg_lamda': reg_lamda\n",
    "    }\n",
    "    \n",
    "    acc = 0\n",
    "    best_n = 0\n",
    "    for tr_idx, val_idx in kfold.split(train_X):\n",
    "        tr_X, tr_y = train_X.iloc[tr_idx, :], train_y.iloc[tr_idx]\n",
    "        val_X, val_y = train_X.iloc[val_idx, :], train_y.iloc[val_idx]\n",
    "        clf = XGBClassifier(**params).fit(tr_X, tr_y, eval_metric = 'error', eval_set=[[val_X, val_y]], early_stopping_rounds=100, verbose=0)\n",
    "        acc += accuracy_score(val_y, clf.predict(val_X))/10\n",
    "        best_n += clf.best_iteration/10\n",
    "    best_ns.append(best_n)\n",
    "    return acc"
   ]
  },
  {
   "cell_type": "code",
   "execution_count": 23,
   "metadata": {
    "scrolled": true
   },
   "outputs": [
    {
     "name": "stdout",
     "output_type": "stream",
     "text": [
      "|   iter    |  target   | colsam... | max_depth | reg_alpha | reg_lamda | subsample |\n",
      "-------------------------------------------------------------------------------------\n",
      "| \u001b[0m 1       \u001b[0m | \u001b[0m 0.8475  \u001b[0m | \u001b[0m 0.6842  \u001b[0m | \u001b[0m 9.437   \u001b[0m | \u001b[0m 1.848   \u001b[0m | \u001b[0m 1.68    \u001b[0m | \u001b[0m 0.5966  \u001b[0m |\n",
      "| \u001b[95m 2       \u001b[0m | \u001b[95m 0.8536  \u001b[0m | \u001b[95m 0.7521  \u001b[0m | \u001b[95m 6.938   \u001b[0m | \u001b[95m 2.686   \u001b[0m | \u001b[95m 2.895   \u001b[0m | \u001b[95m 0.5684  \u001b[0m |\n",
      "| \u001b[0m 3       \u001b[0m | \u001b[0m 0.8475  \u001b[0m | \u001b[0m 0.8542  \u001b[0m | \u001b[0m 7.76    \u001b[0m | \u001b[0m 1.747   \u001b[0m | \u001b[0m 2.784   \u001b[0m | \u001b[0m 0.3497  \u001b[0m |\n",
      "| \u001b[0m 4       \u001b[0m | \u001b[0m 0.8454  \u001b[0m | \u001b[0m 0.361   \u001b[0m | \u001b[0m 3.182   \u001b[0m | \u001b[0m 2.515   \u001b[0m | \u001b[0m 2.357   \u001b[0m | \u001b[0m 0.909   \u001b[0m |\n",
      "| \u001b[95m 5       \u001b[0m | \u001b[95m 0.8555  \u001b[0m | \u001b[95m 0.985   \u001b[0m | \u001b[95m 10.19   \u001b[0m | \u001b[95m 1.438   \u001b[0m | \u001b[95m 2.364   \u001b[0m | \u001b[95m 0.3828  \u001b[0m |\n",
      "| \u001b[0m 6       \u001b[0m | \u001b[0m 0.8475  \u001b[0m | \u001b[0m 0.7479  \u001b[0m | \u001b[0m 4.29    \u001b[0m | \u001b[0m 2.84    \u001b[0m | \u001b[0m 1.613   \u001b[0m | \u001b[0m 0.5903  \u001b[0m |\n",
      "| \u001b[95m 7       \u001b[0m | \u001b[95m 0.8556  \u001b[0m | \u001b[95m 0.4852  \u001b[0m | \u001b[95m 9.968   \u001b[0m | \u001b[95m 1.423   \u001b[0m | \u001b[95m 1.748   \u001b[0m | \u001b[95m 0.3132  \u001b[0m |\n",
      "| \u001b[0m 8       \u001b[0m | \u001b[0m 0.8456  \u001b[0m | \u001b[0m 0.7323  \u001b[0m | \u001b[0m 8.509   \u001b[0m | \u001b[0m 1.889   \u001b[0m | \u001b[0m 2.837   \u001b[0m | \u001b[0m 0.7773  \u001b[0m |\n",
      "| \u001b[0m 9       \u001b[0m | \u001b[0m 0.8415  \u001b[0m | \u001b[0m 0.5517  \u001b[0m | \u001b[0m 6.933   \u001b[0m | \u001b[0m 2.123   \u001b[0m | \u001b[0m 0.2747  \u001b[0m | \u001b[0m 0.7667  \u001b[0m |\n",
      "| \u001b[95m 10      \u001b[0m | \u001b[95m 0.8616  \u001b[0m | \u001b[95m 0.7694  \u001b[0m | \u001b[95m 4.893   \u001b[0m | \u001b[95m 0.4739  \u001b[0m | \u001b[95m 1.015   \u001b[0m | \u001b[95m 0.5546  \u001b[0m |\n",
      "| \u001b[0m 11      \u001b[0m | \u001b[0m 0.8456  \u001b[0m | \u001b[0m 0.7581  \u001b[0m | \u001b[0m 12.0    \u001b[0m | \u001b[0m 3.0     \u001b[0m | \u001b[0m 3.0     \u001b[0m | \u001b[0m 0.3     \u001b[0m |\n",
      "| \u001b[0m 12      \u001b[0m | \u001b[0m 0.8435  \u001b[0m | \u001b[0m 0.4244  \u001b[0m | \u001b[0m 12.0    \u001b[0m | \u001b[0m 0.101   \u001b[0m | \u001b[0m 0.1     \u001b[0m | \u001b[0m 1.0     \u001b[0m |\n",
      "| \u001b[0m 13      \u001b[0m | \u001b[0m 0.8595  \u001b[0m | \u001b[0m 0.3     \u001b[0m | \u001b[0m 3.0     \u001b[0m | \u001b[0m 0.1     \u001b[0m | \u001b[0m 0.1     \u001b[0m | \u001b[0m 0.3     \u001b[0m |\n",
      "| \u001b[95m 14      \u001b[0m | \u001b[95m 0.8656  \u001b[0m | \u001b[95m 1.0     \u001b[0m | \u001b[95m 3.0     \u001b[0m | \u001b[95m 0.1     \u001b[0m | \u001b[95m 2.852   \u001b[0m | \u001b[95m 0.3     \u001b[0m |\n",
      "| \u001b[0m 15      \u001b[0m | \u001b[0m 0.8655  \u001b[0m | \u001b[0m 0.3     \u001b[0m | \u001b[0m 12.0    \u001b[0m | \u001b[0m 0.1     \u001b[0m | \u001b[0m 2.704   \u001b[0m | \u001b[0m 0.3     \u001b[0m |\n",
      "| \u001b[0m 16      \u001b[0m | \u001b[0m 0.8455  \u001b[0m | \u001b[0m 0.9921  \u001b[0m | \u001b[0m 3.0     \u001b[0m | \u001b[0m 0.1608  \u001b[0m | \u001b[0m 0.6955  \u001b[0m | \u001b[0m 1.0     \u001b[0m |\n",
      "| \u001b[0m 17      \u001b[0m | \u001b[0m 0.8556  \u001b[0m | \u001b[0m 0.9251  \u001b[0m | \u001b[0m 7.953   \u001b[0m | \u001b[0m 0.1189  \u001b[0m | \u001b[0m 0.138   \u001b[0m | \u001b[0m 0.3125  \u001b[0m |\n",
      "| \u001b[0m 18      \u001b[0m | \u001b[0m 0.8575  \u001b[0m | \u001b[0m 0.3132  \u001b[0m | \u001b[0m 4.373   \u001b[0m | \u001b[0m 0.1864  \u001b[0m | \u001b[0m 3.0     \u001b[0m | \u001b[0m 0.3     \u001b[0m |\n",
      "| \u001b[0m 19      \u001b[0m | \u001b[0m 0.8635  \u001b[0m | \u001b[0m 1.0     \u001b[0m | \u001b[0m 12.0    \u001b[0m | \u001b[0m 0.1     \u001b[0m | \u001b[0m 2.451   \u001b[0m | \u001b[0m 0.3     \u001b[0m |\n",
      "| \u001b[0m 20      \u001b[0m | \u001b[0m 0.8415  \u001b[0m | \u001b[0m 0.9397  \u001b[0m | \u001b[0m 3.0     \u001b[0m | \u001b[0m 3.0     \u001b[0m | \u001b[0m 3.0     \u001b[0m | \u001b[0m 0.3     \u001b[0m |\n",
      "| \u001b[0m 21      \u001b[0m | \u001b[0m 0.8595  \u001b[0m | \u001b[0m 0.3     \u001b[0m | \u001b[0m 3.0     \u001b[0m | \u001b[0m 0.1     \u001b[0m | \u001b[0m 1.762   \u001b[0m | \u001b[0m 0.3     \u001b[0m |\n",
      "| \u001b[0m 22      \u001b[0m | \u001b[0m 0.8655  \u001b[0m | \u001b[0m 0.3     \u001b[0m | \u001b[0m 12.0    \u001b[0m | \u001b[0m 0.1     \u001b[0m | \u001b[0m 0.1     \u001b[0m | \u001b[0m 0.3     \u001b[0m |\n",
      "| \u001b[0m 23      \u001b[0m | \u001b[0m 0.8433  \u001b[0m | \u001b[0m 0.3     \u001b[0m | \u001b[0m 12.0    \u001b[0m | \u001b[0m 3.0     \u001b[0m | \u001b[0m 0.4042  \u001b[0m | \u001b[0m 0.3     \u001b[0m |\n",
      "| \u001b[0m 24      \u001b[0m | \u001b[0m 0.8595  \u001b[0m | \u001b[0m 0.3     \u001b[0m | \u001b[0m 5.23    \u001b[0m | \u001b[0m 0.1     \u001b[0m | \u001b[0m 0.1     \u001b[0m | \u001b[0m 0.3     \u001b[0m |\n",
      "| \u001b[0m 25      \u001b[0m | \u001b[0m 0.8576  \u001b[0m | \u001b[0m 0.9598  \u001b[0m | \u001b[0m 4.637   \u001b[0m | \u001b[0m 0.5344  \u001b[0m | \u001b[0m 0.1181  \u001b[0m | \u001b[0m 0.324   \u001b[0m |\n",
      "| \u001b[0m 26      \u001b[0m | \u001b[0m 0.8395  \u001b[0m | \u001b[0m 0.9892  \u001b[0m | \u001b[0m 4.706   \u001b[0m | \u001b[0m 1.954   \u001b[0m | \u001b[0m 2.937   \u001b[0m | \u001b[0m 0.9703  \u001b[0m |\n",
      "| \u001b[95m 27      \u001b[0m | \u001b[95m 0.8656  \u001b[0m | \u001b[95m 0.8818  \u001b[0m | \u001b[95m 9.755   \u001b[0m | \u001b[95m 0.1218  \u001b[0m | \u001b[95m 2.869   \u001b[0m | \u001b[95m 0.313   \u001b[0m |\n",
      "| \u001b[0m 28      \u001b[0m | \u001b[0m 0.8393  \u001b[0m | \u001b[0m 0.3     \u001b[0m | \u001b[0m 3.0     \u001b[0m | \u001b[0m 3.0     \u001b[0m | \u001b[0m 0.1     \u001b[0m | \u001b[0m 0.3754  \u001b[0m |\n",
      "| \u001b[0m 29      \u001b[0m | \u001b[0m 0.8655  \u001b[0m | \u001b[0m 0.3     \u001b[0m | \u001b[0m 10.88   \u001b[0m | \u001b[0m 0.1     \u001b[0m | \u001b[0m 1.674   \u001b[0m | \u001b[0m 0.3     \u001b[0m |\n",
      "| \u001b[0m 30      \u001b[0m | \u001b[0m 0.8433  \u001b[0m | \u001b[0m 0.3     \u001b[0m | \u001b[0m 9.717   \u001b[0m | \u001b[0m 2.891   \u001b[0m | \u001b[0m 2.913   \u001b[0m | \u001b[0m 0.3     \u001b[0m |\n",
      "=====================================================================================\n",
      "Wall time: 12min\n"
     ]
    }
   ],
   "source": [
    "%%time\n",
    "optimizer = BayesianOptimization(bayes_xgb, xgb_bounds, random_state=0)\n",
    "\n",
    "init_points = 10\n",
    "n_iter = 20\n",
    "\n",
    "optimizer.maximize(init_points=init_points, n_iter=n_iter)"
   ]
  },
  {
   "cell_type": "code",
   "execution_count": 26,
   "metadata": {},
   "outputs": [
    {
     "data": {
      "text/plain": [
       "<bayes_opt.bayesian_optimization.BayesianOptimization at 0x1c4eadad088>"
      ]
     },
     "execution_count": 26,
     "metadata": {},
     "output_type": "execute_result"
    }
   ],
   "source": [
    "optimizer.max['params']"
   ]
  },
  {
   "cell_type": "code",
   "execution_count": 35,
   "metadata": {
    "scrolled": true
   },
   "outputs": [],
   "source": [
    "best_params = {\n",
    "    'n_estimators': int(best_ns[26]),\n",
    "    'booster': 'gbtree',\n",
    "    'tree_method': 'hist',\n",
    "    'random_state': 0,\n",
    "    'n_jobs': -1,\n",
    "    'max_depth': int(optimizer.max['params']['max_depth']),\n",
    "    'subsample': optimizer.max['params']['subsample'],\n",
    "    'colsample_bytree': optimizer.max['params']['colsample_bytree'],\n",
    "    'reg_alpha': optimizer.max['params']['reg_alpha'],\n",
    "    'reg_lamda': optimizer.max['params']['reg_lamda'],\n",
    "    'metric': 'error'\n",
    "}\n",
    "\n",
    "clf = XGBClassifier(**best_params).fit(train_X, train_y)\n"
   ]
  },
  {
   "cell_type": "code",
   "execution_count": 36,
   "metadata": {},
   "outputs": [
    {
     "name": "stdout",
     "output_type": "stream",
     "text": [
      "0.8073061224489797\n"
     ]
    }
   ],
   "source": [
    "## voting\n",
    "from sklearn.ensemble import VotingClassifier\n",
    "\n",
    "v_lr = LogisticRegression(random_state=0)\n",
    "v_knn = KNeighborsClassifier(n_neighbors=3)\n",
    "v_rf = RandomForestClassifier(max_depth=9, random_state=0)\n",
    "\n",
    "vclf = VotingClassifier(estimators=[\n",
    "    ('lr', v_lr),\n",
    "    ('knn', v_knn),\n",
    "    ('rf', v_rf)\n",
    "], voting='soft')\n",
    "\n",
    "acc = 0\n",
    "for tr_idx, val_idx in kfold.split(train_X):\n",
    "    tr_X, tr_y = train_X.iloc[tr_idx, :], train_y.iloc[tr_idx]\n",
    "    val_X, val_y = train_X.iloc[val_idx, :], train_y.iloc[val_idx]\n",
    "    vclf.fit(tr_X, tr_y)\n",
    "    acc += accuracy_score(val_y, vclf.predict(val_X))/10\n",
    "\n",
    "print(acc)"
   ]
  },
  {
   "cell_type": "markdown",
   "metadata": {},
   "source": [
    "개별 모델들과 앙상블모형을 통틀어 xgboost가 가장 높은 성능을 보여줄 것으로 기대된다.  \n",
    "실제 test셋의 결과는 어떨까?\n"
   ]
  },
  {
   "cell_type": "code",
   "execution_count": 37,
   "metadata": {},
   "outputs": [
    {
     "name": "stdout",
     "output_type": "stream",
     "text": [
      "lr: 0.7710280373831776\n",
      "knn: 0.7523364485981309\n",
      "rf: 0.7663551401869159\n",
      "xgboost: 0.780373831775701\n",
      "voting: 0.7897196261682243\n"
     ]
    }
   ],
   "source": [
    "print('lr:', accuracy_score(test_y, lr.predict(test_X)))\n",
    "print('knn:', accuracy_score(test_y, knn.predict(test_X)))\n",
    "print('rf:', accuracy_score(test_y, rf.predict(test_X)))\n",
    "print('xgboost:', accuracy_score(test_y, clf.predict(test_X)))\n",
    "print('voting:', accuracy_score(test_y, vclf.predict(test_X)))"
   ]
  },
  {
   "cell_type": "markdown",
   "metadata": {},
   "source": [
    "voting이 가장 높은 정확도를 보여준다.  \n",
    "xgboost같은 경우 과적합이 심하게 되어 test에서 그 성능이 제대로 나오지 않았다.  \n",
    "역시 voting의 경우 robust한 것인가를 느낄 수 있었다."
   ]
  }
 ],
 "metadata": {
  "kernelspec": {
   "display_name": "Python 3",
   "language": "python",
   "name": "python3"
  },
  "language_info": {
   "codemirror_mode": {
    "name": "ipython",
    "version": 3
   },
   "file_extension": ".py",
   "mimetype": "text/x-python",
   "name": "python",
   "nbconvert_exporter": "python",
   "pygments_lexer": "ipython3",
   "version": "3.7.4"
  },
  "toc": {
   "base_numbering": 1,
   "nav_menu": {},
   "number_sections": true,
   "sideBar": true,
   "skip_h1_title": false,
   "title_cell": "Table of Contents",
   "title_sidebar": "Contents",
   "toc_cell": false,
   "toc_position": {},
   "toc_section_display": true,
   "toc_window_display": false
  }
 },
 "nbformat": 4,
 "nbformat_minor": 2
}
