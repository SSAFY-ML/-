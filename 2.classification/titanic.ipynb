{
 "cells": [
  {
   "cell_type": "code",
   "execution_count": 15,
   "metadata": {},
   "outputs": [],
   "source": [
    "## 기본 library\n",
    "import numpy as np\n",
    "import pandas as pd\n",
    "import matplotlib.pyplot as plt \n",
    "## model library\n",
    "from sklearn.linear_model import LogisticRegression\n",
    "from sklearn.neighbors import KNeighborsClassifier\n",
    "from sklearn.svm import SVC\n",
    "from sklearn.tree import DecisionTreeClassifier\n",
    "from sklearn.ensemble import RandomForestClassifier\n",
    "from xgboost import XGBClassifier\n",
    "from lightgbm import LGBMClassifier\n",
    "from keras import models, layers, optimizers\n",
    "## helper library\n",
    "from sklearn.model_selection import train_test_split, KFold, cross_val_score\n",
    "from sklearn.metrics import accuracy_score\n",
    "from keras.callbacks import EarlyStopping, ModelCheckpoint\n",
    "import keras.backend as K\n",
    "from sklearn.preprocessing import MinMaxScaler, StandardScaler, LabelEncoder\n",
    "from bayes_opt import BayesianOptimization\n",
    "\n",
    "data = pd.read_csv('../1.clustering/titanic.csv')\n",
    "\n",
    "target = data['Survived']\n",
    "data = data.drop(['PassengerId', 'Survived'], axis=1)"
   ]
  },
  {
   "cell_type": "code",
   "execution_count": 16,
   "metadata": {},
   "outputs": [],
   "source": [
    "d = data.copy()\n",
    "categorical = [\n",
    "    'Pclass', 'Sex', 'SibSp', 'Parch', 'Embarked'\n",
    "]"
   ]
  },
  {
   "cell_type": "code",
   "execution_count": 17,
   "metadata": {},
   "outputs": [],
   "source": [
    "data['Age'] = pd.DataFrame(MinMaxScaler().fit_transform(data['Age'].values.reshape(-1,1)))\n",
    "data['Fare'] = pd.DataFrame(StandardScaler().fit_transform(data['Fare'].values.reshape(-1,1)))\n",
    "\n",
    "lbe = LabelEncoder()\n",
    "data['Sex'] = lbe.fit_transform(data['Sex'])\n",
    "sex = lbe.classes_\n",
    "data['Embarked'] = lbe.fit_transform(data['Embarked'])\n",
    "emb = lbe.classes_\n",
    "\n",
    "for c in categorical:\n",
    "    data = pd.concat([data, pd.get_dummies(data[c], prefix=c)], axis=1)\n",
    "    data = data.drop(c, axis=1)"
   ]
  },
  {
   "cell_type": "code",
   "execution_count": 18,
   "metadata": {},
   "outputs": [],
   "source": [
    "train_X, test_X, train_y, test_y = train_test_split(data, target, test_size=0.3, random_state=0, shuffle=True)"
   ]
  },
  {
   "cell_type": "code",
   "execution_count": 19,
   "metadata": {},
   "outputs": [],
   "source": [
    "kfold = KFold(n_splits=10, shuffle=True, random_state=0)"
   ]
  },
  {
   "cell_type": "code",
   "execution_count": 20,
   "metadata": {},
   "outputs": [
    {
     "name": "stdout",
     "output_type": "stream",
     "text": [
      "0.799265306122449\n"
     ]
    }
   ],
   "source": [
    "## logistic\n",
    "acc = 0\n",
    "for tr_idx, val_idx in kfold.split(train_X):\n",
    "    tr_X, tr_y = train_X.iloc[tr_idx, :], train_y.iloc[tr_idx]\n",
    "    val_X, val_y = train_X.iloc[val_idx, :], train_y.iloc[val_idx]\n",
    "    lr = LogisticRegression(random_state=0).fit(tr_X, tr_y)\n",
    "    acc += accuracy_score(val_y, lr.predict(val_X))/10\n",
    "\n",
    "print(acc)"
   ]
  },
  {
   "cell_type": "code",
   "execution_count": 21,
   "metadata": {},
   "outputs": [
    {
     "name": "stdout",
     "output_type": "stream",
     "text": [
      "0.7992653061224491\n"
     ]
    }
   ],
   "source": [
    "## 조금 더 간단히 할 수 있음\n",
    "lr  = LogisticRegression(random_state=0)\n",
    "acc = cross_val_score(lr, train_X, train_y, cv=kfold, n_jobs=1, scoring='accuracy')\n",
    "print(np.mean(acc))"
   ]
  },
  {
   "cell_type": "code",
   "execution_count": 22,
   "metadata": {},
   "outputs": [],
   "source": [
    "lr = LogisticRegression(random_state=0).fit(train_X, train_y)"
   ]
  },
  {
   "cell_type": "code",
   "execution_count": null,
   "metadata": {},
   "outputs": [],
   "source": [
    "## knn\n",
    "opt = []\n",
    "for n in range(2, 30):\n",
    "    knn = KNeighborsClassifier(n_neighbors=n)\n",
    "    acc = []\n",
    "    for tr_idx, val_idx in kfold.split(train_X):\n",
    "        tr_X, tr_y = train_X.iloc[tr_idx, :], train_y.iloc[tr_idx]\n",
    "        val_X, val_y = train_X.iloc[val_idx, :], train_y.iloc[val_idx]\n",
    "        knn.fit(tr_X, tr_y)\n",
    "        acc.append(accuracy_score(val_y, knn.predict(val_X)))\n",
    "    opt.append(np.mean(acc))"
   ]
  },
  {
   "cell_type": "code",
   "execution_count": null,
   "metadata": {},
   "outputs": [],
   "source": [
    "plt.plot(opt)\n",
    "print(opt)\n"
   ]
  },
  {
   "cell_type": "code",
   "execution_count": 23,
   "metadata": {},
   "outputs": [],
   "source": [
    "## knn's n_neighbor = 3\n",
    "knn = KNeighborsClassifier(n_neighbors=3).fit(train_X, train_y)"
   ]
  },
  {
   "cell_type": "code",
   "execution_count": 25,
   "metadata": {},
   "outputs": [
    {
     "name": "stdout",
     "output_type": "stream",
     "text": [
      "0.7832653061224489\n"
     ]
    }
   ],
   "source": [
    "## RF with no paramter tuning\n",
    "acc = 0\n",
    "for tr_idx, val_idx in kfold.split(train_X):\n",
    "    tr_X, tr_y = train_X.iloc[tr_idx, :], train_y.iloc[tr_idx]\n",
    "    val_X, val_y = train_X.iloc[val_idx, :], train_y.iloc[val_idx]\n",
    "    rf = RandomForestClassifier(random_state=0).fit(tr_X, tr_y)\n",
    "    acc += accuracy_score(val_y, rf.predict(val_X))/10\n",
    "\n",
    "print(acc)"
   ]
  },
  {
   "cell_type": "code",
   "execution_count": 26,
   "metadata": {},
   "outputs": [],
   "source": [
    "rf = RandomForestClassifier(random_state=0).fit(train_X, train_y)"
   ]
  },
  {
   "cell_type": "code",
   "execution_count": null,
   "metadata": {},
   "outputs": [],
   "source": [
    "## xgboost\n",
    "xgb_bounds = {\n",
    "    'max_depth': (3, 12),\n",
    "    'subsample': (0.3, 1),\n",
    "    'colsample_bytree': (0.3, 1),\n",
    "    'reg_alpha': (0.1, 3),\n",
    "    'reg_lamda': (0.1, 3)\n",
    "}\n",
    "\n",
    "best_ns = []\n",
    "\n",
    "def bayes_xgb(max_depth, subsample, colsample_bytree, reg_alpha, reg_lamda):\n",
    "    global best_ns\n",
    "    params = {\n",
    "        'n_estimators': 1000,\n",
    "        'booster': 'gbtree',\n",
    "        'tree_method': 'hist',\n",
    "        'random_state': 0,\n",
    "        'n_jobs': -1,\n",
    "        'max_depth': int(max_depth),\n",
    "        'subsample': subsample,\n",
    "        'colsample_bytree': colsample_bytree,\n",
    "        'reg_alpha': reg_alpha,\n",
    "        'reg_lamda': reg_lamda\n",
    "    }\n",
    "    \n",
    "    acc = 0\n",
    "    best_n = 0\n",
    "    for tr_idx, val_idx in kfold.split(train_X):\n",
    "        tr_X, tr_y = train_X.iloc[tr_idx, :], train_y.iloc[tr_idx]\n",
    "        val_X, val_y = train_X.iloc[val_idx, :], train_y.iloc[val_idx]\n",
    "        clf = XGBClassifier(**params).fit(tr_X, tr_y, eval_metric = 'error', eval_set=[[val_X, val_y]], early_stopping_rounds=100, verbose=0)\n",
    "        acc += accuracy_score(val_y, clf.predict(val_X))/10\n",
    "        best_n += clf.best_iteration/10\n",
    "    best_ns.append(best_n)\n",
    "    return acc\n"
   ]
  },
  {
   "cell_type": "code",
   "execution_count": null,
   "metadata": {
    "scrolled": true
   },
   "outputs": [],
   "source": [
    "%%time\n",
    "optimizer = BayesianOptimization(bayes_xgb, xgb_bounds, random_state=0)\n",
    "\n",
    "init_points = 10\n",
    "n_iter = 20\n",
    "\n",
    "optimizer.maximize(init_points=init_points, n_iter=n_iter)"
   ]
  },
  {
   "cell_type": "code",
   "execution_count": 27,
   "metadata": {},
   "outputs": [],
   "source": [
    "import pickle\n",
    "with open('best_params.bin', 'rb') as f:\n",
    "    best_params = pickle.load(f)"
   ]
  },
  {
   "cell_type": "code",
   "execution_count": null,
   "metadata": {},
   "outputs": [],
   "source": [
    "optimizer.max['params']"
   ]
  },
  {
   "cell_type": "code",
   "execution_count": 28,
   "metadata": {
    "scrolled": true
   },
   "outputs": [],
   "source": [
    "best_params = {\n",
    "    'n_estimators': int(best_ns[12]),\n",
    "    'booster': 'gbtree',\n",
    "    'tree_method': 'hist',\n",
    "    'random_state': 0,\n",
    "    'n_jobs': -1,\n",
    "    'max_depth': int(optimizer.max['params']['max_depth']),\n",
    "    'subsample': optimizer.max['params']['subsample'],\n",
    "    'colsample_bytree': optimizer.max['params']['colsample_bytree'],\n",
    "    'reg_alpha': optimizer.max['params']['reg_alpha'],\n",
    "    'reg_lamda': optimizer.max['params']['reg_lamda'],\n",
    "    'metric': 'error'\n",
    "}\n",
    "\n",
    "clf = XGBClassifier(**best_params).fit(train_X, train_y)\n"
   ]
  },
  {
   "cell_type": "code",
   "execution_count": 29,
   "metadata": {},
   "outputs": [
    {
     "name": "stdout",
     "output_type": "stream",
     "text": [
      "0.8073061224489797\n"
     ]
    }
   ],
   "source": [
    "## voting\n",
    "from sklearn.ensemble import VotingClassifier\n",
    "\n",
    "v_lr = LogisticRegression(random_state=0)\n",
    "v_knn = KNeighborsClassifier(n_neighbors=3)\n",
    "v_rf = RandomForestClassifier(max_depth=9, random_state=0)\n",
    "\n",
    "vclf = VotingClassifier(estimators=[\n",
    "    ('lr', v_lr),\n",
    "    ('knn', v_knn),\n",
    "    ('rf', v_rf)\n",
    "], voting='soft')\n",
    "\n",
    "acc = 0\n",
    "for tr_idx, val_idx in kfold.split(train_X):\n",
    "    tr_X, tr_y = train_X.iloc[tr_idx, :], train_y.iloc[tr_idx]\n",
    "    val_X, val_y = train_X.iloc[val_idx, :], train_y.iloc[val_idx]\n",
    "    vclf.fit(tr_X, tr_y)\n",
    "    acc += accuracy_score(val_y, vclf.predict(val_X))/10\n",
    "\n",
    "print(acc)"
   ]
  },
  {
   "cell_type": "markdown",
   "metadata": {},
   "source": [
    "개별 모델들과 앙상블모형을 통틀어 xgboost가 가장 높은 성능을 보여줄 것으로 기대된다.  \n",
    "실제 test셋의 결과는 어떨까?\n"
   ]
  },
  {
   "cell_type": "code",
   "execution_count": null,
   "metadata": {},
   "outputs": [],
   "source": [
    "print('lr:', accuracy_score(test_y, lr.predict(test_X)))\n",
    "print('knn:', accuracy_score(test_y, knn.predict(test_X)))\n",
    "print('rf:', accuracy_score(test_y, rf.predict(test_X)))\n",
    "print('xgboost:', accuracy_score(test_y, clf.predict(test_X)))\n",
    "print('voting:', accuracy_score(test_y, vclf.predict(test_X)))"
   ]
  },
  {
   "cell_type": "code",
   "execution_count": null,
   "metadata": {},
   "outputs": [],
   "source": [
    "## nn 및 stacking"
   ]
  },
  {
   "cell_type": "code",
   "execution_count": 6,
   "metadata": {},
   "outputs": [],
   "source": [
    "## nn\n",
    "input_layer = layers.Input(shape=((train_X.shape[1], )))\n",
    "\n",
    "layer1 = layers.Dense(64, activation='relu')(input_layer)\n",
    "# drop1 = layers.Dropout(0.1)(layer1)\n",
    "layer2 = layers.Dense(32, activation='relu')(layer1)\n",
    "\n",
    "out_layer = layers.Dense(1, activation='sigmoid')(layer2)\n",
    "\n",
    "model = models.Model(input_layer, out_layer)"
   ]
  },
  {
   "cell_type": "code",
   "execution_count": 7,
   "metadata": {},
   "outputs": [],
   "source": [
    "model.compile(optimizer='adam',\n",
    "             loss='binary_crossentropy',\n",
    "             metrics=['acc'])"
   ]
  },
  {
   "cell_type": "code",
   "execution_count": 8,
   "metadata": {},
   "outputs": [],
   "source": [
    "cp = ModelCheckpoint('best_model.h5', monitor='val_loss', mode='min', save_best_only=True)\n",
    "es = EarlyStopping(monitor='val_loss', patience=20, restore_best_weights=True, verbose=1)"
   ]
  },
  {
   "cell_type": "code",
   "execution_count": 10,
   "metadata": {
    "scrolled": true
   },
   "outputs": [
    {
     "name": "stdout",
     "output_type": "stream",
     "text": [
      "Train on 348 samples, validate on 150 samples\n",
      "Epoch 1/200\n",
      "348/348 [==============================] - 0s 160us/step - loss: 0.3458 - acc: 0.8362 - val_loss: 0.3947 - val_acc: 0.8600\n",
      "Epoch 2/200\n",
      "348/348 [==============================] - 0s 109us/step - loss: 0.3434 - acc: 0.8391 - val_loss: 0.3964 - val_acc: 0.8533\n",
      "Epoch 3/200\n",
      "348/348 [==============================] - 0s 109us/step - loss: 0.3428 - acc: 0.8477 - val_loss: 0.4063 - val_acc: 0.8400\n",
      "Epoch 4/200\n",
      "348/348 [==============================] - 0s 106us/step - loss: 0.3391 - acc: 0.8391 - val_loss: 0.3993 - val_acc: 0.8400\n",
      "Epoch 5/200\n",
      "348/348 [==============================] - 0s 106us/step - loss: 0.3299 - acc: 0.8477 - val_loss: 0.4127 - val_acc: 0.8267\n",
      "Epoch 6/200\n",
      "348/348 [==============================] - 0s 109us/step - loss: 0.3253 - acc: 0.8506 - val_loss: 0.4114 - val_acc: 0.8267\n",
      "Epoch 7/200\n",
      "348/348 [==============================] - 0s 109us/step - loss: 0.3226 - acc: 0.8534 - val_loss: 0.4113 - val_acc: 0.8267\n",
      "Epoch 8/200\n",
      "348/348 [==============================] - 0s 106us/step - loss: 0.3210 - acc: 0.8649 - val_loss: 0.4163 - val_acc: 0.8333\n",
      "Epoch 9/200\n",
      "348/348 [==============================] - 0s 112us/step - loss: 0.3154 - acc: 0.8649 - val_loss: 0.4190 - val_acc: 0.8333\n",
      "Epoch 10/200\n",
      "348/348 [==============================] - 0s 109us/step - loss: 0.3124 - acc: 0.8649 - val_loss: 0.4180 - val_acc: 0.8333\n",
      "Epoch 11/200\n",
      "348/348 [==============================] - 0s 106us/step - loss: 0.3074 - acc: 0.8678 - val_loss: 0.4253 - val_acc: 0.8333\n",
      "Epoch 12/200\n",
      "348/348 [==============================] - 0s 112us/step - loss: 0.3053 - acc: 0.8736 - val_loss: 0.4291 - val_acc: 0.8333\n",
      "Epoch 13/200\n",
      "348/348 [==============================] - 0s 106us/step - loss: 0.3028 - acc: 0.8736 - val_loss: 0.4277 - val_acc: 0.8267\n",
      "Epoch 14/200\n",
      "348/348 [==============================] - 0s 106us/step - loss: 0.3017 - acc: 0.8793 - val_loss: 0.4376 - val_acc: 0.8333\n",
      "Epoch 15/200\n",
      "348/348 [==============================] - 0s 106us/step - loss: 0.2979 - acc: 0.8736 - val_loss: 0.4369 - val_acc: 0.8333\n",
      "Epoch 16/200\n",
      "348/348 [==============================] - 0s 106us/step - loss: 0.2984 - acc: 0.8707 - val_loss: 0.4385 - val_acc: 0.8267\n",
      "Epoch 17/200\n",
      "348/348 [==============================] - 0s 103us/step - loss: 0.2898 - acc: 0.8851 - val_loss: 0.4470 - val_acc: 0.8333\n",
      "Epoch 18/200\n",
      "348/348 [==============================] - 0s 106us/step - loss: 0.2907 - acc: 0.8764 - val_loss: 0.4516 - val_acc: 0.8333\n",
      "Epoch 19/200\n",
      "348/348 [==============================] - 0s 109us/step - loss: 0.2872 - acc: 0.8793 - val_loss: 0.4473 - val_acc: 0.8200\n",
      "Epoch 20/200\n",
      "348/348 [==============================] - 0s 103us/step - loss: 0.2842 - acc: 0.8793 - val_loss: 0.4523 - val_acc: 0.8200\n",
      "Epoch 21/200\n",
      "348/348 [==============================] - 0s 103us/step - loss: 0.2818 - acc: 0.8736 - val_loss: 0.4661 - val_acc: 0.8200\n",
      "Restoring model weights from the end of the best epoch\n",
      "Epoch 00021: early stopping\n"
     ]
    },
    {
     "data": {
      "text/plain": [
       "<keras.callbacks.callbacks.History at 0x16599e66cc8>"
      ]
     },
     "execution_count": 10,
     "metadata": {},
     "output_type": "execute_result"
    }
   ],
   "source": [
    "model.fit(train_X, train_y,\n",
    "          epochs=200,\n",
    "          validation_split=0.3,\n",
    "          callbacks=[es]\n",
    "         )"
   ]
  },
  {
   "cell_type": "code",
   "execution_count": 11,
   "metadata": {},
   "outputs": [
    {
     "name": "stdout",
     "output_type": "stream",
     "text": [
      "214/214 [==============================] - 0s 51us/step\n"
     ]
    },
    {
     "data": {
      "text/plain": [
       "[0.5300516553014238, 0.7803738117218018]"
      ]
     },
     "execution_count": 11,
     "metadata": {},
     "output_type": "execute_result"
    }
   ],
   "source": [
    "model.evaluate(test_X, test_y)"
   ]
  },
  {
   "cell_type": "code",
   "execution_count": null,
   "metadata": {},
   "outputs": [],
   "source": [
    "## self cv 예시\n",
    "from keras.wrappers.scikit_learn import KerasClassifier\n",
    "\n",
    "def make_model():\n",
    "    K.clear_session()\n",
    "    input_layer = layers.Input(shape=((train_X.shape[1], )))\n",
    "\n",
    "    layer1 = layers.Dense(32, activation='relu')(input_layer)\n",
    "    drop1 = layers.Dropout(0.1)(layer1)\n",
    "    layer2 = layers.Dense(16, activation='relu')(drop1)\n",
    "    \n",
    "    out_layer = layers.Dense(1, activation='sigmoid')(layer2)\n",
    "\n",
    "    model = models.Model(input_layer, out_layer)\n",
    "    \n",
    "    model.compile(optimizer='adam',\n",
    "             loss='binary_crossentropy',\n",
    "             metrics=['acc'])\n",
    "    \n",
    "    return model"
   ]
  },
  {
   "cell_type": "code",
   "execution_count": null,
   "metadata": {
    "scrolled": true
   },
   "outputs": [],
   "source": [
    "acc = 0\n",
    "for tr_idx, val_idx in kfold.split(train_X):\n",
    "    tr_X, tr_y = train_X.iloc[tr_idx, :], train_y.iloc[tr_idx]\n",
    "    val_X, val_y = train_X.iloc[val_idx, :], train_y.iloc[val_idx]\n",
    "    model = make_model()\n",
    "    model.fit(tr_X, tr_y, \n",
    "            epochs=40, \n",
    "#           callbacks = [es], \n",
    "            validation_data=[val_X, val_y],\n",
    "            verbose=0)\n",
    "    acc += model.evaluate(val_X, val_y)[1]/10\n",
    "\n",
    "print(acc)\n"
   ]
  },
  {
   "cell_type": "code",
   "execution_count": null,
   "metadata": {},
   "outputs": [],
   "source": [
    "acc"
   ]
  },
  {
   "cell_type": "code",
   "execution_count": null,
   "metadata": {},
   "outputs": [],
   "source": [
    "model.evaluate(test_X, test_y)"
   ]
  },
  {
   "cell_type": "code",
   "execution_count": 12,
   "metadata": {},
   "outputs": [],
   "source": [
    "## stacking"
   ]
  },
  {
   "cell_type": "code",
   "execution_count": 30,
   "metadata": {},
   "outputs": [],
   "source": [
    "## meta_training\n",
    "meta_train = pd.DataFrame()\n",
    "meta_train['lr'] = list(zip(*lr.predict_proba(train_X)))[0]\n",
    "meta_train['knn'] = list(zip(*knn.predict_proba(train_X)))[0]\n",
    "meta_train['rf'] = list(zip(*rf.predict_proba(train_X)))[0]\n",
    "meta_train['xgboost'] = list(zip(*clf.predict_proba(train_X)))[0]\n",
    "meta_train['voting'] = list(zip(*vclf.predict_proba(train_X)))[0]\n",
    "\n",
    "## meta_test\n",
    "meta_test = pd.DataFrame()\n",
    "meta_test['lr'] = list(zip(*lr.predict_proba(test_X)))[0]\n",
    "meta_test['knn'] = list(zip(*knn.predict_proba(test_X)))[0]\n",
    "meta_test['rf'] = list(zip(*rf.predict_proba(test_X)))[0]\n",
    "meta_test['xgboost'] = list(zip(*clf.predict_proba(test_X)))[0]\n",
    "meta_test['voting'] = list(zip(*vclf.predict_proba(test_X)))[0]\n",
    "# knn\n",
    "# rf\n",
    "# clf\n",
    "# vclf"
   ]
  },
  {
   "cell_type": "code",
   "execution_count": 31,
   "metadata": {},
   "outputs": [
    {
     "data": {
      "text/html": [
       "<div>\n",
       "<style scoped>\n",
       "    .dataframe tbody tr th:only-of-type {\n",
       "        vertical-align: middle;\n",
       "    }\n",
       "\n",
       "    .dataframe tbody tr th {\n",
       "        vertical-align: top;\n",
       "    }\n",
       "\n",
       "    .dataframe thead th {\n",
       "        text-align: right;\n",
       "    }\n",
       "</style>\n",
       "<table border=\"1\" class=\"dataframe\">\n",
       "  <thead>\n",
       "    <tr style=\"text-align: right;\">\n",
       "      <th></th>\n",
       "      <th>lr</th>\n",
       "      <th>knn</th>\n",
       "      <th>rf</th>\n",
       "      <th>xgboost</th>\n",
       "      <th>voting</th>\n",
       "    </tr>\n",
       "  </thead>\n",
       "  <tbody>\n",
       "    <tr>\n",
       "      <th>0</th>\n",
       "      <td>0.912940</td>\n",
       "      <td>1.000000</td>\n",
       "      <td>0.97</td>\n",
       "      <td>0.884549</td>\n",
       "      <td>0.934846</td>\n",
       "    </tr>\n",
       "    <tr>\n",
       "      <th>1</th>\n",
       "      <td>0.799155</td>\n",
       "      <td>0.666667</td>\n",
       "      <td>0.89</td>\n",
       "      <td>0.832210</td>\n",
       "      <td>0.792607</td>\n",
       "    </tr>\n",
       "    <tr>\n",
       "      <th>2</th>\n",
       "      <td>0.321217</td>\n",
       "      <td>0.666667</td>\n",
       "      <td>0.81</td>\n",
       "      <td>0.657710</td>\n",
       "      <td>0.597356</td>\n",
       "    </tr>\n",
       "    <tr>\n",
       "      <th>3</th>\n",
       "      <td>0.174382</td>\n",
       "      <td>0.666667</td>\n",
       "      <td>0.86</td>\n",
       "      <td>0.415983</td>\n",
       "      <td>0.525560</td>\n",
       "    </tr>\n",
       "    <tr>\n",
       "      <th>4</th>\n",
       "      <td>0.745927</td>\n",
       "      <td>1.000000</td>\n",
       "      <td>1.00</td>\n",
       "      <td>0.787516</td>\n",
       "      <td>0.869335</td>\n",
       "    </tr>\n",
       "    <tr>\n",
       "      <th>...</th>\n",
       "      <td>...</td>\n",
       "      <td>...</td>\n",
       "      <td>...</td>\n",
       "      <td>...</td>\n",
       "      <td>...</td>\n",
       "    </tr>\n",
       "    <tr>\n",
       "      <th>493</th>\n",
       "      <td>0.632150</td>\n",
       "      <td>1.000000</td>\n",
       "      <td>0.82</td>\n",
       "      <td>0.711787</td>\n",
       "      <td>0.830666</td>\n",
       "    </tr>\n",
       "    <tr>\n",
       "      <th>494</th>\n",
       "      <td>0.806150</td>\n",
       "      <td>0.666667</td>\n",
       "      <td>0.85</td>\n",
       "      <td>0.832210</td>\n",
       "      <td>0.794290</td>\n",
       "    </tr>\n",
       "    <tr>\n",
       "      <th>495</th>\n",
       "      <td>0.722263</td>\n",
       "      <td>1.000000</td>\n",
       "      <td>0.98</td>\n",
       "      <td>0.828759</td>\n",
       "      <td>0.905067</td>\n",
       "    </tr>\n",
       "    <tr>\n",
       "      <th>496</th>\n",
       "      <td>0.822041</td>\n",
       "      <td>1.000000</td>\n",
       "      <td>0.99</td>\n",
       "      <td>0.874082</td>\n",
       "      <td>0.928753</td>\n",
       "    </tr>\n",
       "    <tr>\n",
       "      <th>497</th>\n",
       "      <td>0.320300</td>\n",
       "      <td>0.333333</td>\n",
       "      <td>0.11</td>\n",
       "      <td>0.319402</td>\n",
       "      <td>0.310777</td>\n",
       "    </tr>\n",
       "  </tbody>\n",
       "</table>\n",
       "<p>498 rows × 5 columns</p>\n",
       "</div>"
      ],
      "text/plain": [
       "           lr       knn    rf   xgboost    voting\n",
       "0    0.912940  1.000000  0.97  0.884549  0.934846\n",
       "1    0.799155  0.666667  0.89  0.832210  0.792607\n",
       "2    0.321217  0.666667  0.81  0.657710  0.597356\n",
       "3    0.174382  0.666667  0.86  0.415983  0.525560\n",
       "4    0.745927  1.000000  1.00  0.787516  0.869335\n",
       "..        ...       ...   ...       ...       ...\n",
       "493  0.632150  1.000000  0.82  0.711787  0.830666\n",
       "494  0.806150  0.666667  0.85  0.832210  0.794290\n",
       "495  0.722263  1.000000  0.98  0.828759  0.905067\n",
       "496  0.822041  1.000000  0.99  0.874082  0.928753\n",
       "497  0.320300  0.333333  0.11  0.319402  0.310777\n",
       "\n",
       "[498 rows x 5 columns]"
      ]
     },
     "execution_count": 31,
     "metadata": {},
     "output_type": "execute_result"
    }
   ],
   "source": [
    "meta_train"
   ]
  },
  {
   "cell_type": "code",
   "execution_count": 32,
   "metadata": {},
   "outputs": [],
   "source": [
    "from keras import optimizers\n",
    "def stack_net():\n",
    "    K.clear_session()\n",
    "    \n",
    "    input_layer = layers.Input(shape=((meta_train.shape[1], )))\n",
    "\n",
    "    layer1 = layers.Dense(16, activation='relu')(input_layer)\n",
    "#     layer2 = layers.Dense(8, activation='relu')(layer1)\n",
    "    \n",
    "    out_layer = layers.Dense(1, activation='sigmoid')(layer1)\n",
    "\n",
    "    model = models.Model(input_layer, out_layer)\n",
    "    \n",
    "    model.compile(optimizer=optimizers.Adam(lr=0.001),\n",
    "             loss='binary_crossentropy',\n",
    "             metrics=['acc'])\n",
    "    \n",
    "    return model"
   ]
  },
  {
   "cell_type": "code",
   "execution_count": 33,
   "metadata": {
    "scrolled": true
   },
   "outputs": [
    {
     "name": "stdout",
     "output_type": "stream",
     "text": [
      "Train on 348 samples, validate on 150 samples\n",
      "Epoch 1/200\n",
      "348/348 [==============================] - 0s 353us/step - loss: 0.5501 - acc: 0.6121 - val_loss: 0.5152 - val_acc: 0.6667\n",
      "Epoch 2/200\n",
      "348/348 [==============================] - 0s 92us/step - loss: 0.5263 - acc: 0.6609 - val_loss: 0.4918 - val_acc: 0.7533\n",
      "Epoch 3/200\n",
      "348/348 [==============================] - 0s 95us/step - loss: 0.5065 - acc: 0.7098 - val_loss: 0.4728 - val_acc: 0.7733\n",
      "Epoch 4/200\n",
      "348/348 [==============================] - 0s 97us/step - loss: 0.4909 - acc: 0.7356 - val_loss: 0.4560 - val_acc: 0.7933\n",
      "Epoch 5/200\n",
      "348/348 [==============================] - 0s 95us/step - loss: 0.4763 - acc: 0.7414 - val_loss: 0.4416 - val_acc: 0.8133\n",
      "Epoch 6/200\n",
      "348/348 [==============================] - 0s 92us/step - loss: 0.4632 - acc: 0.7644 - val_loss: 0.4290 - val_acc: 0.8267\n",
      "Epoch 7/200\n",
      "348/348 [==============================] - 0s 95us/step - loss: 0.4508 - acc: 0.7730 - val_loss: 0.4175 - val_acc: 0.8267\n",
      "Epoch 8/200\n",
      "348/348 [==============================] - 0s 97us/step - loss: 0.4387 - acc: 0.7902 - val_loss: 0.4064 - val_acc: 0.8267\n",
      "Epoch 9/200\n",
      "348/348 [==============================] - 0s 97us/step - loss: 0.4271 - acc: 0.8046 - val_loss: 0.3959 - val_acc: 0.8467\n",
      "Epoch 10/200\n",
      "348/348 [==============================] - 0s 100us/step - loss: 0.4156 - acc: 0.8103 - val_loss: 0.3858 - val_acc: 0.8467\n",
      "Epoch 11/200\n",
      "348/348 [==============================] - 0s 97us/step - loss: 0.4038 - acc: 0.8276 - val_loss: 0.3749 - val_acc: 0.8533\n",
      "Epoch 12/200\n",
      "348/348 [==============================] - 0s 100us/step - loss: 0.3919 - acc: 0.8362 - val_loss: 0.3633 - val_acc: 0.8800\n",
      "Epoch 13/200\n",
      "348/348 [==============================] - 0s 97us/step - loss: 0.3785 - acc: 0.8477 - val_loss: 0.3507 - val_acc: 0.8867\n",
      "Epoch 14/200\n",
      "348/348 [==============================] - 0s 95us/step - loss: 0.3653 - acc: 0.8563 - val_loss: 0.3391 - val_acc: 0.8933\n",
      "Epoch 15/200\n",
      "348/348 [==============================] - 0s 95us/step - loss: 0.3528 - acc: 0.8707 - val_loss: 0.3283 - val_acc: 0.8933\n",
      "Epoch 16/200\n",
      "348/348 [==============================] - 0s 97us/step - loss: 0.3404 - acc: 0.8908 - val_loss: 0.3179 - val_acc: 0.9067\n",
      "Epoch 17/200\n",
      "348/348 [==============================] - 0s 95us/step - loss: 0.3277 - acc: 0.8966 - val_loss: 0.3065 - val_acc: 0.9133\n",
      "Epoch 18/200\n",
      "348/348 [==============================] - 0s 103us/step - loss: 0.3151 - acc: 0.9080 - val_loss: 0.2953 - val_acc: 0.9200\n",
      "Epoch 19/200\n",
      "348/348 [==============================] - 0s 106us/step - loss: 0.3020 - acc: 0.9109 - val_loss: 0.2839 - val_acc: 0.9333\n",
      "Epoch 20/200\n",
      "348/348 [==============================] - 0s 106us/step - loss: 0.2892 - acc: 0.9253 - val_loss: 0.2731 - val_acc: 0.9333\n",
      "Epoch 21/200\n",
      "348/348 [==============================] - 0s 100us/step - loss: 0.2766 - acc: 0.9253 - val_loss: 0.2623 - val_acc: 0.9400\n",
      "Epoch 22/200\n",
      "348/348 [==============================] - 0s 106us/step - loss: 0.2640 - acc: 0.9310 - val_loss: 0.2512 - val_acc: 0.9400\n",
      "Epoch 23/200\n",
      "348/348 [==============================] - 0s 100us/step - loss: 0.2518 - acc: 0.9397 - val_loss: 0.2405 - val_acc: 0.9400\n",
      "Epoch 24/200\n",
      "348/348 [==============================] - 0s 97us/step - loss: 0.2397 - acc: 0.9425 - val_loss: 0.2299 - val_acc: 0.9467\n",
      "Epoch 25/200\n",
      "348/348 [==============================] - 0s 95us/step - loss: 0.2282 - acc: 0.9454 - val_loss: 0.2198 - val_acc: 0.9467\n",
      "Epoch 26/200\n",
      "348/348 [==============================] - 0s 95us/step - loss: 0.2170 - acc: 0.9454 - val_loss: 0.2102 - val_acc: 0.9533\n",
      "Epoch 27/200\n",
      "348/348 [==============================] - 0s 95us/step - loss: 0.2066 - acc: 0.9540 - val_loss: 0.2010 - val_acc: 0.9533\n",
      "Epoch 28/200\n",
      "348/348 [==============================] - 0s 95us/step - loss: 0.1978 - acc: 0.9598 - val_loss: 0.1934 - val_acc: 0.9600\n",
      "Epoch 29/200\n",
      "348/348 [==============================] - 0s 95us/step - loss: 0.1877 - acc: 0.9684 - val_loss: 0.1846 - val_acc: 0.9600\n",
      "Epoch 30/200\n",
      "348/348 [==============================] - 0s 92us/step - loss: 0.1794 - acc: 0.9684 - val_loss: 0.1769 - val_acc: 0.9600\n",
      "Epoch 31/200\n",
      "348/348 [==============================] - 0s 100us/step - loss: 0.1715 - acc: 0.9713 - val_loss: 0.1700 - val_acc: 0.9667\n",
      "Epoch 32/200\n",
      "348/348 [==============================] - 0s 97us/step - loss: 0.1640 - acc: 0.9770 - val_loss: 0.1641 - val_acc: 0.9667\n",
      "Epoch 33/200\n",
      "348/348 [==============================] - 0s 95us/step - loss: 0.1570 - acc: 0.9828 - val_loss: 0.1583 - val_acc: 0.9733\n",
      "Epoch 34/200\n",
      "348/348 [==============================] - 0s 95us/step - loss: 0.1503 - acc: 0.9885 - val_loss: 0.1522 - val_acc: 0.9733\n",
      "Epoch 35/200\n",
      "348/348 [==============================] - 0s 92us/step - loss: 0.1441 - acc: 0.9914 - val_loss: 0.1463 - val_acc: 0.9733\n",
      "Epoch 36/200\n",
      "348/348 [==============================] - 0s 92us/step - loss: 0.1384 - acc: 0.9885 - val_loss: 0.1410 - val_acc: 0.9800\n",
      "Epoch 37/200\n",
      "348/348 [==============================] - 0s 95us/step - loss: 0.1328 - acc: 0.9914 - val_loss: 0.1367 - val_acc: 0.9867\n",
      "Epoch 38/200\n",
      "348/348 [==============================] - 0s 92us/step - loss: 0.1279 - acc: 0.9914 - val_loss: 0.1316 - val_acc: 0.9800\n",
      "Epoch 39/200\n",
      "348/348 [==============================] - 0s 92us/step - loss: 0.1230 - acc: 0.9971 - val_loss: 0.1279 - val_acc: 0.9867\n",
      "Epoch 40/200\n",
      "348/348 [==============================] - 0s 92us/step - loss: 0.1185 - acc: 0.9971 - val_loss: 0.1238 - val_acc: 0.9867\n",
      "Epoch 41/200\n",
      "348/348 [==============================] - 0s 97us/step - loss: 0.1139 - acc: 0.9971 - val_loss: 0.1194 - val_acc: 0.9867\n",
      "Epoch 42/200\n",
      "348/348 [==============================] - 0s 92us/step - loss: 0.1099 - acc: 0.9971 - val_loss: 0.1156 - val_acc: 0.9867\n",
      "Epoch 43/200\n",
      "348/348 [==============================] - 0s 95us/step - loss: 0.1061 - acc: 0.9971 - val_loss: 0.1126 - val_acc: 0.9867\n",
      "Epoch 44/200\n",
      "348/348 [==============================] - 0s 95us/step - loss: 0.1026 - acc: 0.9971 - val_loss: 0.1093 - val_acc: 0.9867\n",
      "Epoch 45/200\n",
      "348/348 [==============================] - 0s 100us/step - loss: 0.0992 - acc: 0.9971 - val_loss: 0.1064 - val_acc: 0.9867\n",
      "Epoch 46/200\n",
      "348/348 [==============================] - 0s 102us/step - loss: 0.0961 - acc: 0.9971 - val_loss: 0.1032 - val_acc: 0.9867\n",
      "Epoch 47/200\n",
      "348/348 [==============================] - 0s 97us/step - loss: 0.0929 - acc: 0.9971 - val_loss: 0.1003 - val_acc: 0.9867\n",
      "Epoch 48/200\n",
      "348/348 [==============================] - 0s 100us/step - loss: 0.0899 - acc: 0.9971 - val_loss: 0.0979 - val_acc: 0.9867\n",
      "Epoch 49/200\n",
      "348/348 [==============================] - 0s 97us/step - loss: 0.0875 - acc: 0.9971 - val_loss: 0.0958 - val_acc: 0.9867\n",
      "Epoch 50/200\n",
      "348/348 [==============================] - 0s 100us/step - loss: 0.0848 - acc: 0.9971 - val_loss: 0.0927 - val_acc: 0.9867\n",
      "Epoch 51/200\n",
      "348/348 [==============================] - 0s 97us/step - loss: 0.0822 - acc: 0.9971 - val_loss: 0.0908 - val_acc: 0.9867\n",
      "Epoch 52/200\n",
      "348/348 [==============================] - 0s 95us/step - loss: 0.0798 - acc: 0.9971 - val_loss: 0.0887 - val_acc: 0.9867\n",
      "Epoch 53/200\n",
      "348/348 [==============================] - 0s 100us/step - loss: 0.0776 - acc: 0.9971 - val_loss: 0.0864 - val_acc: 0.9867\n",
      "Epoch 54/200\n",
      "348/348 [==============================] - 0s 97us/step - loss: 0.0754 - acc: 0.9971 - val_loss: 0.0843 - val_acc: 0.9867\n",
      "Epoch 55/200\n",
      "348/348 [==============================] - 0s 97us/step - loss: 0.0734 - acc: 0.9971 - val_loss: 0.0828 - val_acc: 0.9867\n",
      "Epoch 56/200\n",
      "348/348 [==============================] - 0s 95us/step - loss: 0.0714 - acc: 0.9971 - val_loss: 0.0812 - val_acc: 0.9867\n",
      "Epoch 57/200\n",
      "348/348 [==============================] - 0s 97us/step - loss: 0.0697 - acc: 0.9971 - val_loss: 0.0789 - val_acc: 0.9867\n",
      "Restoring model weights from the end of the best epoch\n",
      "Epoch 00057: early stopping\n"
     ]
    },
    {
     "data": {
      "text/plain": [
       "<keras.callbacks.callbacks.History at 0x165985ca048>"
      ]
     },
     "execution_count": 33,
     "metadata": {},
     "output_type": "execute_result"
    }
   ],
   "source": [
    "es = EarlyStopping(monitor='val_acc', patience=20, restore_best_weights=True, verbose=1)\n",
    "stack = stack_net()\n",
    "stack.fit(meta_train, train_y,\n",
    "          epochs=200,\n",
    "          validation_split = 0.3,\n",
    "          callbacks = [es]\n",
    "         )"
   ]
  },
  {
   "cell_type": "code",
   "execution_count": 34,
   "metadata": {},
   "outputs": [
    {
     "name": "stdout",
     "output_type": "stream",
     "text": [
      "214/214 [==============================] - 0s 47us/step\n"
     ]
    },
    {
     "data": {
      "text/plain": [
       "[0.566254957814083, 0.7803738117218018]"
      ]
     },
     "execution_count": 34,
     "metadata": {},
     "output_type": "execute_result"
    }
   ],
   "source": [
    "stack.evaluate(meta_test, test_y)"
   ]
  },
  {
   "cell_type": "code",
   "execution_count": 36,
   "metadata": {},
   "outputs": [
    {
     "name": "stdout",
     "output_type": "stream",
     "text": [
      "lr: 0.7710280373831776\n",
      "knn: 0.7523364485981309\n",
      "rf: 0.7663551401869159\n",
      "xgboost: 0.780373831775701\n",
      "voting: 0.7897196261682243\n",
      "214/214 [==============================] - 0s 75us/step\n",
      "nn: 0.7803738117218018\n",
      "214/214 [==============================] - 0s 61us/step\n",
      "stacking: 0.7803738117218018\n"
     ]
    }
   ],
   "source": [
    "print('lr:', accuracy_score(test_y, lr.predict(test_X)))\n",
    "print('knn:', accuracy_score(test_y, knn.predict(test_X)))\n",
    "print('rf:', accuracy_score(test_y, rf.predict(test_X)))\n",
    "print('xgboost:', accuracy_score(test_y, clf.predict(test_X)))\n",
    "print('voting:', accuracy_score(test_y, vclf.predict(test_X)))\n",
    "print('nn:', model.evaluate(test_X, test_y)[1])\n",
    "print('stacking:', stack.evaluate(meta_test, test_y)[1])"
   ]
  },
  {
   "cell_type": "code",
   "execution_count": null,
   "metadata": {},
   "outputs": [],
   "source": []
  }
 ],
 "metadata": {
  "kernelspec": {
   "display_name": "Python 3",
   "language": "python",
   "name": "python3"
  },
  "language_info": {
   "codemirror_mode": {
    "name": "ipython",
    "version": 3
   },
   "file_extension": ".py",
   "mimetype": "text/x-python",
   "name": "python",
   "nbconvert_exporter": "python",
   "pygments_lexer": "ipython3",
   "version": "3.7.4"
  },
  "toc": {
   "base_numbering": 1,
   "nav_menu": {},
   "number_sections": true,
   "sideBar": true,
   "skip_h1_title": false,
   "title_cell": "Table of Contents",
   "title_sidebar": "Contents",
   "toc_cell": false,
   "toc_position": {},
   "toc_section_display": true,
   "toc_window_display": false
  }
 },
 "nbformat": 4,
 "nbformat_minor": 2
}
