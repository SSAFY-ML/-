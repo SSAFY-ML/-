{
 "cells": [
  {
   "cell_type": "code",
   "execution_count": 2,
   "metadata": {},
   "outputs": [],
   "source": [
    "## 기본 library\n",
    "import numpy as np\n",
    "import pandas as pd\n",
    "import matplotlib.pyplot as plt \n",
    "## model library\n",
    "from sklearn.linear_model import LogisticRegression\n",
    "from sklearn.neighbors import KNeighborsClassifier\n",
    "from sklearn.svm import SVC\n",
    "from sklearn.tree import DecisionTreeClassifier\n",
    "from sklearn.ensemble import RandomForestClassifier\n",
    "from xgboost import XGBClassifier\n",
    "from lightgbm import LGBMClassifier\n",
    "from keras import models, layers, optimizers\n",
    "## helper library\n",
    "from sklearn.model_selection import train_test_split, KFold, cross_val_score\n",
    "from sklearn.metrics import accuracy_score\n",
    "from keras.callbacks import EarlyStopping, ModelCheckpoint\n",
    "import keras.backend as K\n",
    "from sklearn.preprocessing import MinMaxScaler, StandardScaler, LabelEncoder\n",
    "from bayes_opt import BayesianOptimization\n",
    "\n",
    "from sklearn.datasets import load_breast_cancer\n",
    "from sklearn.cluster import KMeans\n",
    "\n",
    "d = load_breast_cancer()\n",
    "\n",
    "data = pd.DataFrame(d.data, columns=d.feature_names)\n",
    "target = pd.DataFrame(d.target)\n",
    "\n"
   ]
  },
  {
   "cell_type": "code",
   "execution_count": 3,
   "metadata": {
    "scrolled": true
   },
   "outputs": [],
   "source": [
    "std = StandardScaler()\n",
    "for c in data.columns:\n",
    "    data[c] = std.fit_transform(data[c].values.reshape(-1, 1))\n",
    "    \n",
    "train_X, test_X, train_y, test_y = train_test_split(data, target, test_size=0.3, random_state=2019, shuffle=True)"
   ]
  },
  {
   "cell_type": "code",
   "execution_count": 4,
   "metadata": {},
   "outputs": [],
   "source": [
    "train_X = train_X.reset_index().drop('index', axis=1)\n",
    "train_y = train_y.reset_index().drop('index', axis=1)\n",
    "test_X = test_X.reset_index().drop('index', axis=1)\n",
    "test_y = test_y.reset_index().drop('index', axis=1)"
   ]
  },
  {
   "cell_type": "code",
   "execution_count": 5,
   "metadata": {},
   "outputs": [],
   "source": [
    "km = KMeans(n_clusters=5).fit(train_X)\n",
    "cl = pd.get_dummies(km.labels_, prefix='kmean')\n",
    "train_X = pd.concat([train_X, cl], axis=1)\n",
    "\n",
    "km = KMeans(n_clusters=5).fit(test_X)\n",
    "cl = pd.get_dummies(km.labels_, prefix='kmean')\n",
    "test_X = pd.concat([test_X, cl], axis=1)"
   ]
  },
  {
   "cell_type": "code",
   "execution_count": 6,
   "metadata": {},
   "outputs": [],
   "source": [
    "kf = KFold(n_splits=5, shuffle=True, random_state=0)"
   ]
  },
  {
   "cell_type": "code",
   "execution_count": 7,
   "metadata": {},
   "outputs": [],
   "source": [
    "lr = LogisticRegression(penalty='l2')"
   ]
  },
  {
   "cell_type": "code",
   "execution_count": 8,
   "metadata": {},
   "outputs": [
    {
     "name": "stderr",
     "output_type": "stream",
     "text": [
      "c:\\users\\young\\anaconda3\\envs\\study\\lib\\site-packages\\sklearn\\utils\\validation.py:744: DataConversionWarning: A column-vector y was passed when a 1d array was expected. Please change the shape of y to (n_samples, ), for example using ravel().\n",
      "  y = column_or_1d(y, warn=True)\n"
     ]
    },
    {
     "data": {
      "text/plain": [
       "LogisticRegression(C=1.0, class_weight=None, dual=False, fit_intercept=True,\n",
       "                   intercept_scaling=1, l1_ratio=None, max_iter=100,\n",
       "                   multi_class='auto', n_jobs=None, penalty='l2',\n",
       "                   random_state=None, solver='lbfgs', tol=0.0001, verbose=0,\n",
       "                   warm_start=False)"
      ]
     },
     "execution_count": 8,
     "metadata": {},
     "output_type": "execute_result"
    }
   ],
   "source": [
    "lr.fit(train_X, train_y)"
   ]
  },
  {
   "cell_type": "code",
   "execution_count": 9,
   "metadata": {},
   "outputs": [
    {
     "name": "stderr",
     "output_type": "stream",
     "text": [
      "c:\\users\\young\\anaconda3\\envs\\study\\lib\\site-packages\\sklearn\\utils\\validation.py:744: DataConversionWarning: A column-vector y was passed when a 1d array was expected. Please change the shape of y to (n_samples, ), for example using ravel().\n",
      "  y = column_or_1d(y, warn=True)\n",
      "c:\\users\\young\\anaconda3\\envs\\study\\lib\\site-packages\\sklearn\\utils\\validation.py:744: DataConversionWarning: A column-vector y was passed when a 1d array was expected. Please change the shape of y to (n_samples, ), for example using ravel().\n",
      "  y = column_or_1d(y, warn=True)\n",
      "c:\\users\\young\\anaconda3\\envs\\study\\lib\\site-packages\\sklearn\\utils\\validation.py:744: DataConversionWarning: A column-vector y was passed when a 1d array was expected. Please change the shape of y to (n_samples, ), for example using ravel().\n",
      "  y = column_or_1d(y, warn=True)\n",
      "c:\\users\\young\\anaconda3\\envs\\study\\lib\\site-packages\\sklearn\\utils\\validation.py:744: DataConversionWarning: A column-vector y was passed when a 1d array was expected. Please change the shape of y to (n_samples, ), for example using ravel().\n",
      "  y = column_or_1d(y, warn=True)\n",
      "c:\\users\\young\\anaconda3\\envs\\study\\lib\\site-packages\\sklearn\\utils\\validation.py:744: DataConversionWarning: A column-vector y was passed when a 1d array was expected. Please change the shape of y to (n_samples, ), for example using ravel().\n",
      "  y = column_or_1d(y, warn=True)\n"
     ]
    },
    {
     "data": {
      "text/plain": [
       "array([0.975     , 0.925     , 1.        , 0.96202532, 0.98734177])"
      ]
     },
     "execution_count": 9,
     "metadata": {},
     "output_type": "execute_result"
    }
   ],
   "source": [
    "cross_val_score(lr, train_X, train_y, cv=kf)"
   ]
  },
  {
   "cell_type": "code",
   "execution_count": 10,
   "metadata": {},
   "outputs": [
    {
     "data": {
      "text/plain": [
       "0.9707602339181286"
      ]
     },
     "execution_count": 10,
     "metadata": {},
     "output_type": "execute_result"
    }
   ],
   "source": [
    "accuracy_score(test_y, lr.predict(test_X))"
   ]
  },
  {
   "cell_type": "code",
   "execution_count": 11,
   "metadata": {},
   "outputs": [],
   "source": [
    "input_layer = layers.Input(shape=((train_X.shape[1:])))\n",
    "\n",
    "l1 = layers.Dense(32 ,activation='relu')(input_layer)\n",
    "l2 = layers.Dense(16, activation='relu')(l1)\n",
    "\n",
    "out_layer = layers.Dense(1, activation='sigmoid')(l2)\n",
    "\n",
    "model = models.Model(input_layer, out_layer)\n",
    "\n",
    "model.compile(optimizer = 'adam',\n",
    "             loss = 'binary_crossentropy',\n",
    "             metrics = ['acc'])"
   ]
  },
  {
   "cell_type": "code",
   "execution_count": 12,
   "metadata": {},
   "outputs": [
    {
     "name": "stdout",
     "output_type": "stream",
     "text": [
      "Train on 278 samples, validate on 120 samples\n",
      "Epoch 1/10\n",
      "278/278 [==============================] - 0s 1ms/step - loss: 0.6929 - acc: 0.5504 - val_loss: 0.5522 - val_acc: 0.8250\n",
      "Epoch 2/10\n",
      "278/278 [==============================] - 0s 116us/step - loss: 0.4627 - acc: 0.8597 - val_loss: 0.3792 - val_acc: 0.9333\n",
      "Epoch 3/10\n",
      "278/278 [==============================] - 0s 118us/step - loss: 0.3344 - acc: 0.9137 - val_loss: 0.2884 - val_acc: 0.9417\n",
      "Epoch 4/10\n",
      "278/278 [==============================] - 0s 122us/step - loss: 0.2623 - acc: 0.9388 - val_loss: 0.2385 - val_acc: 0.9417\n",
      "Epoch 5/10\n",
      "278/278 [==============================] - 0s 115us/step - loss: 0.2167 - acc: 0.9604 - val_loss: 0.2083 - val_acc: 0.9417\n",
      "Epoch 6/10\n",
      "278/278 [==============================] - 0s 114us/step - loss: 0.1863 - acc: 0.9604 - val_loss: 0.1867 - val_acc: 0.9417\n",
      "Epoch 7/10\n",
      "278/278 [==============================] - 0s 111us/step - loss: 0.1624 - acc: 0.9604 - val_loss: 0.1716 - val_acc: 0.9417\n",
      "Epoch 8/10\n",
      "278/278 [==============================] - 0s 118us/step - loss: 0.1436 - acc: 0.9604 - val_loss: 0.1604 - val_acc: 0.9417\n",
      "Epoch 9/10\n",
      "278/278 [==============================] - 0s 118us/step - loss: 0.1280 - acc: 0.9676 - val_loss: 0.1525 - val_acc: 0.9500\n",
      "Epoch 10/10\n",
      "278/278 [==============================] - 0s 121us/step - loss: 0.1157 - acc: 0.9712 - val_loss: 0.1458 - val_acc: 0.9583\n"
     ]
    },
    {
     "data": {
      "text/plain": [
       "<keras.callbacks.callbacks.History at 0x11b10904688>"
      ]
     },
     "execution_count": 12,
     "metadata": {},
     "output_type": "execute_result"
    }
   ],
   "source": [
    "model.fit(train_X, train_y, \n",
    "         epochs=10,\n",
    "         validation_split=0.3)"
   ]
  },
  {
   "cell_type": "code",
   "execution_count": 13,
   "metadata": {},
   "outputs": [
    {
     "name": "stdout",
     "output_type": "stream",
     "text": [
      "171/171 [==============================] - 0s 52us/step\n"
     ]
    },
    {
     "data": {
      "text/plain": [
       "[0.14942890989501573, 0.9649122953414917]"
      ]
     },
     "execution_count": 13,
     "metadata": {},
     "output_type": "execute_result"
    }
   ],
   "source": [
    "model.evaluate(test_X, test_y)"
   ]
  }
 ],
 "metadata": {
  "kernelspec": {
   "display_name": "Python 3",
   "language": "python",
   "name": "python3"
  },
  "language_info": {
   "codemirror_mode": {
    "name": "ipython",
    "version": 3
   },
   "file_extension": ".py",
   "mimetype": "text/x-python",
   "name": "python",
   "nbconvert_exporter": "python",
   "pygments_lexer": "ipython3",
   "version": "3.7.4"
  },
  "toc": {
   "base_numbering": 1,
   "nav_menu": {},
   "number_sections": true,
   "sideBar": true,
   "skip_h1_title": false,
   "title_cell": "Table of Contents",
   "title_sidebar": "Contents",
   "toc_cell": false,
   "toc_position": {},
   "toc_section_display": true,
   "toc_window_display": false
  }
 },
 "nbformat": 4,
 "nbformat_minor": 2
}
