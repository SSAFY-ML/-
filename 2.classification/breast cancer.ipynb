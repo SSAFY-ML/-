{
 "cells": [
  {
   "cell_type": "code",
   "execution_count": 1,
   "metadata": {},
   "outputs": [
    {
     "name": "stderr",
     "output_type": "stream",
     "text": [
      "Using TensorFlow backend.\n"
     ]
    }
   ],
   "source": [
    "## 기본 library\n",
    "import numpy as np\n",
    "import pandas as pd\n",
    "import matplotlib.pyplot as plt \n",
    "## model library\n",
    "from sklearn.linear_model import LogisticRegression\n",
    "from sklearn.neighbors import KNeighborsClassifier\n",
    "from sklearn.svm import SVC\n",
    "from sklearn.tree import DecisionTreeClassifier\n",
    "from sklearn.ensemble import RandomForestClassifier\n",
    "from xgboost import XGBClassifier\n",
    "from lightgbm import LGBMClassifier\n",
    "from keras import models, layers, optimizers\n",
    "## helper library\n",
    "from sklearn.model_selection import train_test_split, KFold, cross_val_score\n",
    "from sklearn.metrics import accuracy_score\n",
    "from keras.callbacks import EarlyStopping, ModelCheckpoint\n",
    "import keras.backend as K\n",
    "from sklearn.preprocessing import MinMaxScaler, StandardScaler, LabelEncoder\n",
    "from bayes_opt import BayesianOptimization\n",
    "\n",
    "from sklearn.datasets import load_breast_cancer\n",
    "from sklearn.cluster import KMeans\n",
    "\n",
    "d = load_breast_cancer()\n",
    "\n",
    "data = pd.DataFrame(d.data, columns=d.feature_names)\n",
    "target = pd.DataFrame(d.target)\n",
    "\n"
   ]
  },
  {
   "cell_type": "code",
   "execution_count": 2,
   "metadata": {},
   "outputs": [],
   "source": [
    "np.random.seed(0)"
   ]
  },
  {
   "cell_type": "code",
   "execution_count": 3,
   "metadata": {
    "scrolled": true
   },
   "outputs": [],
   "source": [
    "std = StandardScaler()\n",
    "for c in data.columns:\n",
    "    data[c] = std.fit_transform(data[c].values.reshape(-1, 1))\n",
    "    \n",
    "train_X, test_X, train_y, test_y = train_test_split(data, target, test_size=0.3, random_state=0, shuffle=True)"
   ]
  },
  {
   "cell_type": "code",
   "execution_count": 4,
   "metadata": {},
   "outputs": [],
   "source": [
    "train_X = train_X.reset_index().drop('index', axis=1)\n",
    "train_y = train_y.reset_index().drop('index', axis=1)\n",
    "test_X = test_X.reset_index().drop('index', axis=1)\n",
    "test_y = test_y.reset_index().drop('index', axis=1)"
   ]
  },
  {
   "cell_type": "code",
   "execution_count": 5,
   "metadata": {},
   "outputs": [],
   "source": [
    "# km = KMeans(n_clusters=5).fit(train_X)\n",
    "# cl = pd.get_dummies(km.labels_, prefix='kmean')\n",
    "# train_X = pd.concat([train_X, cl], axis=1)\n",
    "\n",
    "# # km = KMeans(n_clusters=5).fit(test_X)\n",
    "# # cl = pd.get_dummies(km.labels_, prefix='kmean')\n",
    "# # test_X = pd.concat([test_X, cl], axis=1)\n",
    "\n",
    "# cl = pd.get_dummies(km.predict(test_X), prefix='kmean')\n",
    "# test_X = pd.concat([test_X, cl], axis=1)"
   ]
  },
  {
   "cell_type": "code",
   "execution_count": 6,
   "metadata": {},
   "outputs": [],
   "source": [
    "km = KMeans(n_clusters=5).fit(train_X)\n",
    "tr_cl = pd.get_dummies(km.labels_, prefix='kmean')\n",
    "\n",
    "te_cl = pd.get_dummies(km.predict(test_X), prefix='kmean')"
   ]
  },
  {
   "cell_type": "code",
   "execution_count": 7,
   "metadata": {},
   "outputs": [],
   "source": [
    "kf = KFold(n_splits=5, shuffle=True, random_state=0)"
   ]
  },
  {
   "cell_type": "code",
   "execution_count": 8,
   "metadata": {},
   "outputs": [],
   "source": [
    "lr = LogisticRegression(penalty='l2', random_state=0)"
   ]
  },
  {
   "cell_type": "code",
   "execution_count": 9,
   "metadata": {},
   "outputs": [
    {
     "name": "stderr",
     "output_type": "stream",
     "text": [
      "c:\\users\\young\\anaconda3\\envs\\study\\lib\\site-packages\\sklearn\\utils\\validation.py:744: DataConversionWarning: A column-vector y was passed when a 1d array was expected. Please change the shape of y to (n_samples, ), for example using ravel().\n",
      "  y = column_or_1d(y, warn=True)\n"
     ]
    },
    {
     "data": {
      "text/plain": [
       "LogisticRegression(C=1.0, class_weight=None, dual=False, fit_intercept=True,\n",
       "                   intercept_scaling=1, l1_ratio=None, max_iter=100,\n",
       "                   multi_class='auto', n_jobs=None, penalty='l2',\n",
       "                   random_state=0, solver='lbfgs', tol=0.0001, verbose=0,\n",
       "                   warm_start=False)"
      ]
     },
     "execution_count": 9,
     "metadata": {},
     "output_type": "execute_result"
    }
   ],
   "source": [
    "lr.fit(train_X, train_y)"
   ]
  },
  {
   "cell_type": "code",
   "execution_count": 10,
   "metadata": {},
   "outputs": [
    {
     "name": "stderr",
     "output_type": "stream",
     "text": [
      "c:\\users\\young\\anaconda3\\envs\\study\\lib\\site-packages\\sklearn\\utils\\validation.py:744: DataConversionWarning: A column-vector y was passed when a 1d array was expected. Please change the shape of y to (n_samples, ), for example using ravel().\n",
      "  y = column_or_1d(y, warn=True)\n",
      "c:\\users\\young\\anaconda3\\envs\\study\\lib\\site-packages\\sklearn\\utils\\validation.py:744: DataConversionWarning: A column-vector y was passed when a 1d array was expected. Please change the shape of y to (n_samples, ), for example using ravel().\n",
      "  y = column_or_1d(y, warn=True)\n",
      "c:\\users\\young\\anaconda3\\envs\\study\\lib\\site-packages\\sklearn\\utils\\validation.py:744: DataConversionWarning: A column-vector y was passed when a 1d array was expected. Please change the shape of y to (n_samples, ), for example using ravel().\n",
      "  y = column_or_1d(y, warn=True)\n",
      "c:\\users\\young\\anaconda3\\envs\\study\\lib\\site-packages\\sklearn\\utils\\validation.py:744: DataConversionWarning: A column-vector y was passed when a 1d array was expected. Please change the shape of y to (n_samples, ), for example using ravel().\n",
      "  y = column_or_1d(y, warn=True)\n",
      "c:\\users\\young\\anaconda3\\envs\\study\\lib\\site-packages\\sklearn\\utils\\validation.py:744: DataConversionWarning: A column-vector y was passed when a 1d array was expected. Please change the shape of y to (n_samples, ), for example using ravel().\n",
      "  y = column_or_1d(y, warn=True)\n"
     ]
    },
    {
     "data": {
      "text/plain": [
       "array([0.9875    , 0.975     , 0.95      , 0.98734177, 0.98734177])"
      ]
     },
     "execution_count": 10,
     "metadata": {},
     "output_type": "execute_result"
    }
   ],
   "source": [
    "cross_val_score(lr, train_X, train_y, cv=kf)"
   ]
  },
  {
   "cell_type": "code",
   "execution_count": 11,
   "metadata": {},
   "outputs": [
    {
     "data": {
      "text/plain": [
       "0.9766081871345029"
      ]
     },
     "execution_count": 11,
     "metadata": {},
     "output_type": "execute_result"
    }
   ],
   "source": [
    "accuracy_score(test_y, lr.predict(test_X))"
   ]
  },
  {
   "cell_type": "code",
   "execution_count": 12,
   "metadata": {},
   "outputs": [],
   "source": [
    "K.clear_session()\n",
    "input_layer = layers.Input(shape=((train_X.shape[1:])))\n",
    "\n",
    "l1 = layers.Dense(64 ,activation='relu')(input_layer)\n",
    "l2 = layers.Dense(32, activation='relu')(l1)\n",
    "\n",
    "out_layer = layers.Dense(1, activation='sigmoid')(l2)\n",
    "\n",
    "model = models.Model(input_layer, out_layer)\n",
    "\n",
    "model.compile(optimizer = 'adam',\n",
    "             loss = 'binary_crossentropy',\n",
    "             metrics = ['acc'])"
   ]
  },
  {
   "cell_type": "code",
   "execution_count": 13,
   "metadata": {},
   "outputs": [],
   "source": [
    "es = EarlyStopping(monitor='val_loss', patience=30, restore_best_weights=True)"
   ]
  },
  {
   "cell_type": "code",
   "execution_count": 14,
   "metadata": {
    "scrolled": true
   },
   "outputs": [
    {
     "name": "stdout",
     "output_type": "stream",
     "text": [
      "Train on 278 samples, validate on 120 samples\n",
      "Epoch 1/300\n",
      "278/278 [==============================] - 0s 1ms/step - loss: 0.5774 - acc: 0.8381 - val_loss: 0.4385 - val_acc: 0.9000\n",
      "Epoch 2/300\n",
      "278/278 [==============================] - 0s 104us/step - loss: 0.3573 - acc: 0.9640 - val_loss: 0.3034 - val_acc: 0.9583\n",
      "Epoch 3/300\n",
      "278/278 [==============================] - 0s 108us/step - loss: 0.2489 - acc: 0.9712 - val_loss: 0.2204 - val_acc: 0.9667\n",
      "Epoch 4/300\n",
      "278/278 [==============================] - 0s 97us/step - loss: 0.1810 - acc: 0.9676 - val_loss: 0.1683 - val_acc: 0.9583\n",
      "Epoch 5/300\n",
      "278/278 [==============================] - 0s 108us/step - loss: 0.1443 - acc: 0.9712 - val_loss: 0.1349 - val_acc: 0.9667\n",
      "Epoch 6/300\n",
      "278/278 [==============================] - 0s 108us/step - loss: 0.1176 - acc: 0.9748 - val_loss: 0.1161 - val_acc: 0.9750\n",
      "Epoch 7/300\n",
      "278/278 [==============================] - 0s 108us/step - loss: 0.1025 - acc: 0.9784 - val_loss: 0.1033 - val_acc: 0.9750\n",
      "Epoch 8/300\n",
      "278/278 [==============================] - 0s 108us/step - loss: 0.0910 - acc: 0.9784 - val_loss: 0.0950 - val_acc: 0.9667\n",
      "Epoch 9/300\n",
      "278/278 [==============================] - 0s 115us/step - loss: 0.0834 - acc: 0.9784 - val_loss: 0.0894 - val_acc: 0.9750\n",
      "Epoch 10/300\n",
      "278/278 [==============================] - 0s 108us/step - loss: 0.0771 - acc: 0.9784 - val_loss: 0.0852 - val_acc: 0.9667\n",
      "Epoch 11/300\n",
      "278/278 [==============================] - 0s 108us/step - loss: 0.0724 - acc: 0.9784 - val_loss: 0.0815 - val_acc: 0.9667\n",
      "Epoch 12/300\n",
      "278/278 [==============================] - 0s 100us/step - loss: 0.0675 - acc: 0.9784 - val_loss: 0.0790 - val_acc: 0.9667\n",
      "Epoch 13/300\n",
      "278/278 [==============================] - 0s 104us/step - loss: 0.0640 - acc: 0.9784 - val_loss: 0.0777 - val_acc: 0.9667\n",
      "Epoch 14/300\n",
      "278/278 [==============================] - 0s 108us/step - loss: 0.0609 - acc: 0.9784 - val_loss: 0.0765 - val_acc: 0.9750\n",
      "Epoch 15/300\n",
      "278/278 [==============================] - 0s 111us/step - loss: 0.0579 - acc: 0.9784 - val_loss: 0.0759 - val_acc: 0.9750\n",
      "Epoch 16/300\n",
      "278/278 [==============================] - 0s 108us/step - loss: 0.0546 - acc: 0.9820 - val_loss: 0.0751 - val_acc: 0.9750\n",
      "Epoch 17/300\n",
      "278/278 [==============================] - 0s 100us/step - loss: 0.0523 - acc: 0.9856 - val_loss: 0.0740 - val_acc: 0.9750\n",
      "Epoch 18/300\n",
      "278/278 [==============================] - 0s 104us/step - loss: 0.0497 - acc: 0.9856 - val_loss: 0.0733 - val_acc: 0.9750\n",
      "Epoch 19/300\n",
      "278/278 [==============================] - 0s 100us/step - loss: 0.0473 - acc: 0.9856 - val_loss: 0.0727 - val_acc: 0.9750\n",
      "Epoch 20/300\n",
      "278/278 [==============================] - 0s 104us/step - loss: 0.0453 - acc: 0.9856 - val_loss: 0.0744 - val_acc: 0.9750\n",
      "Epoch 21/300\n",
      "278/278 [==============================] - 0s 104us/step - loss: 0.0433 - acc: 0.9856 - val_loss: 0.0750 - val_acc: 0.9750\n",
      "Epoch 22/300\n",
      "278/278 [==============================] - 0s 100us/step - loss: 0.0415 - acc: 0.9856 - val_loss: 0.0729 - val_acc: 0.9750\n",
      "Epoch 23/300\n",
      "278/278 [==============================] - 0s 104us/step - loss: 0.0396 - acc: 0.9856 - val_loss: 0.0742 - val_acc: 0.9750\n",
      "Epoch 24/300\n",
      "278/278 [==============================] - 0s 104us/step - loss: 0.0377 - acc: 0.9892 - val_loss: 0.0740 - val_acc: 0.9750\n",
      "Epoch 25/300\n",
      "278/278 [==============================] - 0s 100us/step - loss: 0.0367 - acc: 0.9892 - val_loss: 0.0759 - val_acc: 0.9750\n",
      "Epoch 26/300\n",
      "278/278 [==============================] - 0s 106us/step - loss: 0.0350 - acc: 0.9928 - val_loss: 0.0730 - val_acc: 0.9750\n",
      "Epoch 27/300\n",
      "278/278 [==============================] - 0s 108us/step - loss: 0.0332 - acc: 0.9928 - val_loss: 0.0752 - val_acc: 0.9750\n",
      "Epoch 28/300\n",
      "278/278 [==============================] - 0s 108us/step - loss: 0.0317 - acc: 0.9928 - val_loss: 0.0748 - val_acc: 0.9750\n",
      "Epoch 29/300\n",
      "278/278 [==============================] - 0s 108us/step - loss: 0.0311 - acc: 0.9928 - val_loss: 0.0765 - val_acc: 0.9667\n",
      "Epoch 30/300\n",
      "278/278 [==============================] - 0s 104us/step - loss: 0.0292 - acc: 0.9928 - val_loss: 0.0742 - val_acc: 0.9667\n",
      "Epoch 31/300\n",
      "278/278 [==============================] - 0s 104us/step - loss: 0.0282 - acc: 0.9928 - val_loss: 0.0752 - val_acc: 0.9667\n",
      "Epoch 32/300\n",
      "278/278 [==============================] - 0s 104us/step - loss: 0.0269 - acc: 0.9928 - val_loss: 0.0752 - val_acc: 0.9667\n",
      "Epoch 33/300\n",
      "278/278 [==============================] - 0s 108us/step - loss: 0.0260 - acc: 0.9928 - val_loss: 0.0755 - val_acc: 0.9667\n",
      "Epoch 34/300\n",
      "278/278 [==============================] - 0s 108us/step - loss: 0.0252 - acc: 0.9928 - val_loss: 0.0756 - val_acc: 0.9667\n",
      "Epoch 35/300\n",
      "278/278 [==============================] - 0s 108us/step - loss: 0.0243 - acc: 0.9928 - val_loss: 0.0741 - val_acc: 0.9667\n",
      "Epoch 36/300\n",
      "278/278 [==============================] - 0s 104us/step - loss: 0.0234 - acc: 0.9928 - val_loss: 0.0747 - val_acc: 0.9667\n",
      "Epoch 37/300\n",
      "278/278 [==============================] - 0s 104us/step - loss: 0.0226 - acc: 0.9928 - val_loss: 0.0746 - val_acc: 0.9667\n",
      "Epoch 38/300\n",
      "278/278 [==============================] - 0s 100us/step - loss: 0.0219 - acc: 0.9964 - val_loss: 0.0740 - val_acc: 0.9667\n",
      "Epoch 39/300\n",
      "278/278 [==============================] - 0s 111us/step - loss: 0.0211 - acc: 0.9964 - val_loss: 0.0734 - val_acc: 0.9667\n",
      "Epoch 40/300\n",
      "278/278 [==============================] - 0s 108us/step - loss: 0.0204 - acc: 0.9964 - val_loss: 0.0737 - val_acc: 0.9667\n",
      "Epoch 41/300\n",
      "278/278 [==============================] - 0s 108us/step - loss: 0.0198 - acc: 0.9964 - val_loss: 0.0732 - val_acc: 0.9667\n",
      "Epoch 42/300\n",
      "278/278 [==============================] - 0s 111us/step - loss: 0.0193 - acc: 0.9964 - val_loss: 0.0729 - val_acc: 0.9667\n",
      "Epoch 43/300\n",
      "278/278 [==============================] - 0s 109us/step - loss: 0.0183 - acc: 0.9964 - val_loss: 0.0711 - val_acc: 0.9667\n",
      "Epoch 44/300\n",
      "278/278 [==============================] - 0s 115us/step - loss: 0.0178 - acc: 0.9964 - val_loss: 0.0709 - val_acc: 0.9667\n",
      "Epoch 45/300\n",
      "278/278 [==============================] - 0s 104us/step - loss: 0.0174 - acc: 0.9964 - val_loss: 0.0697 - val_acc: 0.9667\n",
      "Epoch 46/300\n",
      "278/278 [==============================] - 0s 104us/step - loss: 0.0167 - acc: 0.9964 - val_loss: 0.0708 - val_acc: 0.9667\n",
      "Epoch 47/300\n",
      "278/278 [==============================] - 0s 115us/step - loss: 0.0161 - acc: 0.9964 - val_loss: 0.0702 - val_acc: 0.9667\n",
      "Epoch 48/300\n",
      "278/278 [==============================] - 0s 104us/step - loss: 0.0155 - acc: 0.9964 - val_loss: 0.0704 - val_acc: 0.9667\n",
      "Epoch 49/300\n",
      "278/278 [==============================] - 0s 108us/step - loss: 0.0151 - acc: 0.9964 - val_loss: 0.0694 - val_acc: 0.9667\n",
      "Epoch 50/300\n",
      "278/278 [==============================] - 0s 116us/step - loss: 0.0146 - acc: 0.9964 - val_loss: 0.0686 - val_acc: 0.9667\n",
      "Epoch 51/300\n",
      "278/278 [==============================] - 0s 111us/step - loss: 0.0141 - acc: 0.9964 - val_loss: 0.0680 - val_acc: 0.9750\n",
      "Epoch 52/300\n",
      "278/278 [==============================] - 0s 111us/step - loss: 0.0137 - acc: 0.9964 - val_loss: 0.0668 - val_acc: 0.9750\n",
      "Epoch 53/300\n",
      "278/278 [==============================] - 0s 120us/step - loss: 0.0136 - acc: 0.9964 - val_loss: 0.0658 - val_acc: 0.9750\n",
      "Epoch 54/300\n",
      "278/278 [==============================] - 0s 104us/step - loss: 0.0129 - acc: 0.9964 - val_loss: 0.0660 - val_acc: 0.9833\n",
      "Epoch 55/300\n",
      "278/278 [==============================] - 0s 111us/step - loss: 0.0129 - acc: 0.9964 - val_loss: 0.0656 - val_acc: 0.9833\n",
      "Epoch 56/300\n",
      "278/278 [==============================] - 0s 111us/step - loss: 0.0123 - acc: 0.9964 - val_loss: 0.0641 - val_acc: 0.9833\n",
      "Epoch 57/300\n",
      "278/278 [==============================] - 0s 108us/step - loss: 0.0120 - acc: 0.9964 - val_loss: 0.0623 - val_acc: 0.9833\n",
      "Epoch 58/300\n",
      "278/278 [==============================] - 0s 108us/step - loss: 0.0114 - acc: 0.9964 - val_loss: 0.0622 - val_acc: 0.9833\n",
      "Epoch 59/300\n",
      "278/278 [==============================] - 0s 104us/step - loss: 0.0111 - acc: 0.9964 - val_loss: 0.0613 - val_acc: 0.9833\n",
      "Epoch 60/300\n",
      "278/278 [==============================] - 0s 108us/step - loss: 0.0108 - acc: 0.9964 - val_loss: 0.0609 - val_acc: 0.9833\n"
     ]
    },
    {
     "name": "stdout",
     "output_type": "stream",
     "text": [
      "Epoch 61/300\n",
      "278/278 [==============================] - 0s 108us/step - loss: 0.0104 - acc: 0.9964 - val_loss: 0.0616 - val_acc: 0.9833\n",
      "Epoch 62/300\n",
      "278/278 [==============================] - 0s 115us/step - loss: 0.0103 - acc: 0.9964 - val_loss: 0.0608 - val_acc: 0.9833\n",
      "Epoch 63/300\n",
      "278/278 [==============================] - 0s 108us/step - loss: 0.0097 - acc: 0.9964 - val_loss: 0.0604 - val_acc: 0.9833\n",
      "Epoch 64/300\n",
      "278/278 [==============================] - 0s 104us/step - loss: 0.0094 - acc: 0.9964 - val_loss: 0.0603 - val_acc: 0.9833\n",
      "Epoch 65/300\n",
      "278/278 [==============================] - 0s 104us/step - loss: 0.0092 - acc: 0.9964 - val_loss: 0.0595 - val_acc: 0.9833\n",
      "Epoch 66/300\n",
      "278/278 [==============================] - 0s 108us/step - loss: 0.0090 - acc: 0.9964 - val_loss: 0.0585 - val_acc: 0.9833\n",
      "Epoch 67/300\n",
      "278/278 [==============================] - 0s 100us/step - loss: 0.0085 - acc: 0.9964 - val_loss: 0.0588 - val_acc: 0.9833\n",
      "Epoch 68/300\n",
      "278/278 [==============================] - 0s 112us/step - loss: 0.0084 - acc: 0.9964 - val_loss: 0.0579 - val_acc: 0.9833\n",
      "Epoch 69/300\n",
      "278/278 [==============================] - 0s 100us/step - loss: 0.0081 - acc: 0.9964 - val_loss: 0.0574 - val_acc: 0.9833\n",
      "Epoch 70/300\n",
      "278/278 [==============================] - 0s 108us/step - loss: 0.0078 - acc: 0.9964 - val_loss: 0.0575 - val_acc: 0.9833\n",
      "Epoch 71/300\n",
      "278/278 [==============================] - 0s 108us/step - loss: 0.0078 - acc: 0.9964 - val_loss: 0.0578 - val_acc: 0.9833\n",
      "Epoch 72/300\n",
      "278/278 [==============================] - 0s 108us/step - loss: 0.0075 - acc: 0.9964 - val_loss: 0.0569 - val_acc: 0.9917\n",
      "Epoch 73/300\n",
      "278/278 [==============================] - 0s 104us/step - loss: 0.0072 - acc: 0.9964 - val_loss: 0.0562 - val_acc: 0.9917\n",
      "Epoch 74/300\n",
      "278/278 [==============================] - 0s 108us/step - loss: 0.0071 - acc: 0.9964 - val_loss: 0.0565 - val_acc: 0.9833\n",
      "Epoch 75/300\n",
      "278/278 [==============================] - 0s 108us/step - loss: 0.0068 - acc: 0.9964 - val_loss: 0.0570 - val_acc: 0.9833\n",
      "Epoch 76/300\n",
      "278/278 [==============================] - 0s 104us/step - loss: 0.0066 - acc: 0.9964 - val_loss: 0.0580 - val_acc: 0.9833\n",
      "Epoch 77/300\n",
      "278/278 [==============================] - 0s 108us/step - loss: 0.0064 - acc: 0.9964 - val_loss: 0.0573 - val_acc: 0.9833\n",
      "Epoch 78/300\n",
      "278/278 [==============================] - 0s 104us/step - loss: 0.0062 - acc: 0.9964 - val_loss: 0.0569 - val_acc: 0.9833\n",
      "Epoch 79/300\n",
      "278/278 [==============================] - 0s 111us/step - loss: 0.0060 - acc: 1.0000 - val_loss: 0.0572 - val_acc: 0.9833\n",
      "Epoch 80/300\n",
      "278/278 [==============================] - 0s 108us/step - loss: 0.0059 - acc: 1.0000 - val_loss: 0.0567 - val_acc: 0.9833\n",
      "Epoch 81/300\n",
      "278/278 [==============================] - 0s 111us/step - loss: 0.0056 - acc: 1.0000 - val_loss: 0.0570 - val_acc: 0.9833\n",
      "Epoch 82/300\n",
      "278/278 [==============================] - 0s 111us/step - loss: 0.0054 - acc: 1.0000 - val_loss: 0.0571 - val_acc: 0.9833\n",
      "Epoch 83/300\n",
      "278/278 [==============================] - 0s 104us/step - loss: 0.0053 - acc: 1.0000 - val_loss: 0.0564 - val_acc: 0.9833\n",
      "Epoch 84/300\n",
      "278/278 [==============================] - 0s 108us/step - loss: 0.0051 - acc: 1.0000 - val_loss: 0.0558 - val_acc: 0.9833\n",
      "Epoch 85/300\n",
      "278/278 [==============================] - 0s 108us/step - loss: 0.0051 - acc: 1.0000 - val_loss: 0.0563 - val_acc: 0.9833\n",
      "Epoch 86/300\n",
      "278/278 [==============================] - 0s 104us/step - loss: 0.0049 - acc: 1.0000 - val_loss: 0.0566 - val_acc: 0.9833\n",
      "Epoch 87/300\n",
      "278/278 [==============================] - 0s 115us/step - loss: 0.0049 - acc: 1.0000 - val_loss: 0.0556 - val_acc: 0.9833\n",
      "Epoch 88/300\n",
      "278/278 [==============================] - 0s 108us/step - loss: 0.0047 - acc: 1.0000 - val_loss: 0.0553 - val_acc: 0.9833\n",
      "Epoch 89/300\n",
      "278/278 [==============================] - 0s 101us/step - loss: 0.0045 - acc: 1.0000 - val_loss: 0.0560 - val_acc: 0.9833\n",
      "Epoch 90/300\n",
      "278/278 [==============================] - 0s 104us/step - loss: 0.0043 - acc: 1.0000 - val_loss: 0.0558 - val_acc: 0.9833\n",
      "Epoch 91/300\n",
      "278/278 [==============================] - 0s 111us/step - loss: 0.0041 - acc: 1.0000 - val_loss: 0.0562 - val_acc: 0.9833\n",
      "Epoch 92/300\n",
      "278/278 [==============================] - 0s 111us/step - loss: 0.0040 - acc: 1.0000 - val_loss: 0.0571 - val_acc: 0.9833\n",
      "Epoch 93/300\n",
      "278/278 [==============================] - 0s 108us/step - loss: 0.0039 - acc: 1.0000 - val_loss: 0.0572 - val_acc: 0.9833\n",
      "Epoch 94/300\n",
      "278/278 [==============================] - 0s 108us/step - loss: 0.0039 - acc: 1.0000 - val_loss: 0.0576 - val_acc: 0.9833\n",
      "Epoch 95/300\n",
      "278/278 [==============================] - 0s 104us/step - loss: 0.0037 - acc: 1.0000 - val_loss: 0.0577 - val_acc: 0.9833\n",
      "Epoch 96/300\n",
      "278/278 [==============================] - 0s 108us/step - loss: 0.0036 - acc: 1.0000 - val_loss: 0.0572 - val_acc: 0.9833\n",
      "Epoch 97/300\n",
      "278/278 [==============================] - 0s 108us/step - loss: 0.0035 - acc: 1.0000 - val_loss: 0.0573 - val_acc: 0.9833\n",
      "Epoch 98/300\n",
      "278/278 [==============================] - 0s 111us/step - loss: 0.0034 - acc: 1.0000 - val_loss: 0.0581 - val_acc: 0.9833\n",
      "Epoch 99/300\n",
      "278/278 [==============================] - 0s 108us/step - loss: 0.0033 - acc: 1.0000 - val_loss: 0.0582 - val_acc: 0.9833\n",
      "Epoch 100/300\n",
      "278/278 [==============================] - 0s 104us/step - loss: 0.0033 - acc: 1.0000 - val_loss: 0.0583 - val_acc: 0.9833\n",
      "Epoch 101/300\n",
      "278/278 [==============================] - 0s 111us/step - loss: 0.0031 - acc: 1.0000 - val_loss: 0.0580 - val_acc: 0.9833\n",
      "Epoch 102/300\n",
      "278/278 [==============================] - 0s 108us/step - loss: 0.0030 - acc: 1.0000 - val_loss: 0.0586 - val_acc: 0.9833\n",
      "Epoch 103/300\n",
      "278/278 [==============================] - 0s 111us/step - loss: 0.0030 - acc: 1.0000 - val_loss: 0.0590 - val_acc: 0.9833\n",
      "Epoch 104/300\n",
      "278/278 [==============================] - 0s 111us/step - loss: 0.0029 - acc: 1.0000 - val_loss: 0.0586 - val_acc: 0.9833\n",
      "Epoch 105/300\n",
      "278/278 [==============================] - 0s 108us/step - loss: 0.0028 - acc: 1.0000 - val_loss: 0.0589 - val_acc: 0.9833\n",
      "Epoch 106/300\n",
      "278/278 [==============================] - 0s 111us/step - loss: 0.0027 - acc: 1.0000 - val_loss: 0.0594 - val_acc: 0.9833\n",
      "Epoch 107/300\n",
      "278/278 [==============================] - 0s 108us/step - loss: 0.0027 - acc: 1.0000 - val_loss: 0.0593 - val_acc: 0.9833\n",
      "Epoch 108/300\n",
      "278/278 [==============================] - 0s 112us/step - loss: 0.0026 - acc: 1.0000 - val_loss: 0.0597 - val_acc: 0.9833\n",
      "Epoch 109/300\n",
      "278/278 [==============================] - 0s 111us/step - loss: 0.0025 - acc: 1.0000 - val_loss: 0.0597 - val_acc: 0.9833\n",
      "Epoch 110/300\n",
      "278/278 [==============================] - 0s 111us/step - loss: 0.0025 - acc: 1.0000 - val_loss: 0.0598 - val_acc: 0.9833\n",
      "Epoch 111/300\n",
      "278/278 [==============================] - 0s 108us/step - loss: 0.0024 - acc: 1.0000 - val_loss: 0.0605 - val_acc: 0.9833\n",
      "Epoch 112/300\n",
      "278/278 [==============================] - 0s 108us/step - loss: 0.0023 - acc: 1.0000 - val_loss: 0.0601 - val_acc: 0.9833\n",
      "Epoch 113/300\n",
      "278/278 [==============================] - 0s 108us/step - loss: 0.0023 - acc: 1.0000 - val_loss: 0.0603 - val_acc: 0.9833\n",
      "Epoch 114/300\n",
      "278/278 [==============================] - 0s 108us/step - loss: 0.0022 - acc: 1.0000 - val_loss: 0.0599 - val_acc: 0.9833\n",
      "Epoch 115/300\n",
      "278/278 [==============================] - 0s 108us/step - loss: 0.0022 - acc: 1.0000 - val_loss: 0.0601 - val_acc: 0.9833\n",
      "Epoch 116/300\n",
      "278/278 [==============================] - 0s 100us/step - loss: 0.0021 - acc: 1.0000 - val_loss: 0.0606 - val_acc: 0.9833\n",
      "Epoch 117/300\n",
      "278/278 [==============================] - 0s 108us/step - loss: 0.0021 - acc: 1.0000 - val_loss: 0.0609 - val_acc: 0.9833\n",
      "Epoch 118/300\n",
      "278/278 [==============================] - 0s 111us/step - loss: 0.0020 - acc: 1.0000 - val_loss: 0.0609 - val_acc: 0.9833\n"
     ]
    },
    {
     "data": {
      "text/plain": [
       "<keras.callbacks.callbacks.History at 0x1a9115f0ac8>"
      ]
     },
     "execution_count": 14,
     "metadata": {},
     "output_type": "execute_result"
    }
   ],
   "source": [
    "model.fit(train_X, train_y, \n",
    "         epochs=300,\n",
    "         validation_split=0.3,\n",
    "         callbacks=[es]\n",
    "         )"
   ]
  },
  {
   "cell_type": "code",
   "execution_count": 15,
   "metadata": {},
   "outputs": [
    {
     "name": "stdout",
     "output_type": "stream",
     "text": [
      "171/171 [==============================] - 0s 61us/step\n"
     ]
    },
    {
     "data": {
      "text/plain": [
       "[0.16014399441988453, 0.9649122953414917]"
      ]
     },
     "execution_count": 15,
     "metadata": {},
     "output_type": "execute_result"
    }
   ],
   "source": [
    "model.evaluate(test_X, test_y)"
   ]
  },
  {
   "cell_type": "code",
   "execution_count": 16,
   "metadata": {},
   "outputs": [
    {
     "name": "stderr",
     "output_type": "stream",
     "text": [
      "c:\\users\\young\\anaconda3\\envs\\study\\lib\\site-packages\\sklearn\\utils\\validation.py:744: DataConversionWarning: A column-vector y was passed when a 1d array was expected. Please change the shape of y to (n_samples, ), for example using ravel().\n",
      "  y = column_or_1d(y, warn=True)\n"
     ]
    }
   ],
   "source": [
    "svc = SVC(kernel='rbf', random_state=0).fit(train_X, train_y)"
   ]
  },
  {
   "cell_type": "code",
   "execution_count": 17,
   "metadata": {},
   "outputs": [
    {
     "name": "stderr",
     "output_type": "stream",
     "text": [
      "c:\\users\\young\\anaconda3\\envs\\study\\lib\\site-packages\\sklearn\\utils\\validation.py:744: DataConversionWarning: A column-vector y was passed when a 1d array was expected. Please change the shape of y to (n_samples, ), for example using ravel().\n",
      "  y = column_or_1d(y, warn=True)\n",
      "c:\\users\\young\\anaconda3\\envs\\study\\lib\\site-packages\\sklearn\\utils\\validation.py:744: DataConversionWarning: A column-vector y was passed when a 1d array was expected. Please change the shape of y to (n_samples, ), for example using ravel().\n",
      "  y = column_or_1d(y, warn=True)\n",
      "c:\\users\\young\\anaconda3\\envs\\study\\lib\\site-packages\\sklearn\\utils\\validation.py:744: DataConversionWarning: A column-vector y was passed when a 1d array was expected. Please change the shape of y to (n_samples, ), for example using ravel().\n",
      "  y = column_or_1d(y, warn=True)\n",
      "c:\\users\\young\\anaconda3\\envs\\study\\lib\\site-packages\\sklearn\\utils\\validation.py:744: DataConversionWarning: A column-vector y was passed when a 1d array was expected. Please change the shape of y to (n_samples, ), for example using ravel().\n",
      "  y = column_or_1d(y, warn=True)\n",
      "c:\\users\\young\\anaconda3\\envs\\study\\lib\\site-packages\\sklearn\\utils\\validation.py:744: DataConversionWarning: A column-vector y was passed when a 1d array was expected. Please change the shape of y to (n_samples, ), for example using ravel().\n",
      "  y = column_or_1d(y, warn=True)\n",
      "c:\\users\\young\\anaconda3\\envs\\study\\lib\\site-packages\\sklearn\\utils\\validation.py:744: DataConversionWarning: A column-vector y was passed when a 1d array was expected. Please change the shape of y to (n_samples, ), for example using ravel().\n",
      "  y = column_or_1d(y, warn=True)\n",
      "c:\\users\\young\\anaconda3\\envs\\study\\lib\\site-packages\\sklearn\\utils\\validation.py:744: DataConversionWarning: A column-vector y was passed when a 1d array was expected. Please change the shape of y to (n_samples, ), for example using ravel().\n",
      "  y = column_or_1d(y, warn=True)\n",
      "c:\\users\\young\\anaconda3\\envs\\study\\lib\\site-packages\\sklearn\\utils\\validation.py:744: DataConversionWarning: A column-vector y was passed when a 1d array was expected. Please change the shape of y to (n_samples, ), for example using ravel().\n",
      "  y = column_or_1d(y, warn=True)\n",
      "c:\\users\\young\\anaconda3\\envs\\study\\lib\\site-packages\\sklearn\\utils\\validation.py:744: DataConversionWarning: A column-vector y was passed when a 1d array was expected. Please change the shape of y to (n_samples, ), for example using ravel().\n",
      "  y = column_or_1d(y, warn=True)\n",
      "c:\\users\\young\\anaconda3\\envs\\study\\lib\\site-packages\\sklearn\\utils\\validation.py:744: DataConversionWarning: A column-vector y was passed when a 1d array was expected. Please change the shape of y to (n_samples, ), for example using ravel().\n",
      "  y = column_or_1d(y, warn=True)\n"
     ]
    },
    {
     "data": {
      "text/plain": [
       "0.9800000000000001"
      ]
     },
     "execution_count": 17,
     "metadata": {},
     "output_type": "execute_result"
    }
   ],
   "source": [
    "np.mean(cross_val_score(svc, train_X, train_y, cv=10))"
   ]
  },
  {
   "cell_type": "code",
   "execution_count": null,
   "metadata": {},
   "outputs": [],
   "source": []
  },
  {
   "cell_type": "code",
   "execution_count": null,
   "metadata": {},
   "outputs": [],
   "source": []
  }
 ],
 "metadata": {
  "kernelspec": {
   "display_name": "Python 3",
   "language": "python",
   "name": "python3"
  },
  "language_info": {
   "codemirror_mode": {
    "name": "ipython",
    "version": 3
   },
   "file_extension": ".py",
   "mimetype": "text/x-python",
   "name": "python",
   "nbconvert_exporter": "python",
   "pygments_lexer": "ipython3",
   "version": "3.7.4"
  },
  "toc": {
   "base_numbering": 1,
   "nav_menu": {},
   "number_sections": true,
   "sideBar": true,
   "skip_h1_title": false,
   "title_cell": "Table of Contents",
   "title_sidebar": "Contents",
   "toc_cell": false,
   "toc_position": {},
   "toc_section_display": true,
   "toc_window_display": false
  }
 },
 "nbformat": 4,
 "nbformat_minor": 2
}
