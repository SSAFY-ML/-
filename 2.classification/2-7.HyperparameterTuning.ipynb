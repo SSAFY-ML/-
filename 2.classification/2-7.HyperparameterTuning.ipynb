{
 "cells": [
  {
   "cell_type": "markdown",
   "metadata": {},
   "source": [
    "# Hyperparameter\n",
    "\n",
    "- 복잡한 모형일 수록 결정해야 할 파라미터값이 많아짐\n",
    "- 기본적으로 후보들을 선정해 두고 결과값을 보고 방향성을 결정함\n",
    "- 이를 편하게 해 줄 라이브러리를 소개하도록 함\n",
    "    - 책에서 소개: GridSearchCV\n",
    "    - kaggle에서 본 방법: BayseOpt\n",
    "    \n",
    "# GridSearchCV\n",
    "- 이름에서 알 수 있듯이 grid로 파라미터를 두고 CV도 한번에 하게 해줌\n",
    "- 절차:\n",
    "    1. grdi_param 설정\n",
    "    2. k-fold CV를 위한 k 설정\n",
    "    3. 모형선정 및 customize할 값 적용  \n",
    "\\#### 현재 early_stopping이 적용되지 않아 파악중..\n",
    "\n",
    "# Bayesian Optimization\n",
    "- 이 패키지는 파라미터를 grid로 설정하는 것이 아니라 범위로 설정\n",
    "- 범위내에 값들을 랜덤하게 돌아줌\n",
    "- tree를 위한 패키지가 아니라 general purpose목적임\n",
    "    - 따라서 직접 설정해줘야 할 부분이 많음(CV전략 등)\n"
   ]
  },
  {
   "cell_type": "code",
   "execution_count": 1,
   "metadata": {},
   "outputs": [],
   "source": [
    "import numpy as np\n",
    "import pandas as pd\n",
    "from sklearn.model_selection import train_test_split\n",
    "from sklearn.metrics import accuracy_score\n",
    "\n",
    "data = pd.read_csv('../1.clustering/titanic.csv')\n",
    "\n",
    "target = data['Survived']\n",
    "data = data.drop(['PassengerId', 'Survived'], axis=1)\n",
    "\n",
    "def sex(a):\n",
    "    if a == 'male':\n",
    "        return 0\n",
    "    else:\n",
    "        return 1\n",
    "    \n",
    "def emb(a):\n",
    "    if a == 'S':\n",
    "        return 0\n",
    "    elif a == 'Q':\n",
    "        return 1\n",
    "    else:\n",
    "        return 2\n",
    "    \n",
    "data['Sex'] = data['Sex'].map(sex)\n",
    "data['Embarked'] = data['Embarked'].map(emb)\n",
    "\n",
    "train_X, test_X, train_y, test_y = train_test_split(data, target, test_size=0.3, random_state=2019, shuffle=True)"
   ]
  },
  {
   "cell_type": "code",
   "execution_count": null,
   "metadata": {},
   "outputs": [],
   "source": [
    "from sklearn.model_selection import GridSearchCV, KFold\n",
    "from xgboost import XGBClassifier\n",
    "from lightgbm import LGBMClassifier\n",
    "\n",
    "# params = {\n",
    "#     'booster': 'gbtree',\n",
    "#     'tree_method': 'hist',\n",
    "#     'random_state': 0,\n",
    "#     'n_jobs': -1,\n",
    "# #     'max_depth': 9\n",
    "# }\n",
    "# grid_params= {\n",
    "#     'n_estimators': [10, 20, 50],\n",
    "#     'max_depth': [3, 6, 9, 12],\n",
    "#     'subsample': [0.7, 0.8, 0.9],\n",
    "#     'colsample_bytree': [0.7, 0.8, 0.9],\n",
    "# }\n",
    "\n",
    "params= {\n",
    "    'boosting': 'gbdt',\n",
    "    'learning_rate': 0.1,\n",
    "    'metric': 'auc',\n",
    "    'random_state': 0,\n",
    "}\n",
    "\n",
    "grid_params= {\n",
    "    'n_estimators': [10, 20, 50],\n",
    "    'max_depth': [6, 9, 12],\n",
    "    'min_child_samples': [10, 20, 50], \n",
    "    'num_leaves': [20, 30, 40], \n",
    "    'subsample': [0.7, 0.8, 0.9],\n",
    "    'colsample_bytree': [0.7, 0.8, 0.9],\n",
    "}\n",
    "\n",
    "# clf = XGBClassifier(**params)\n",
    "clf = LGBMClassifier(**params)\n",
    "\n",
    "grid_clf = GridSearchCV(clf, grid_params,verbose=1, cv=3)\n"
   ]
  },
  {
   "cell_type": "code",
   "execution_count": null,
   "metadata": {
    "scrolled": true
   },
   "outputs": [],
   "source": [
    "# fit_params = {\n",
    "#     'eval_set': [[test_X, test_y]],\n",
    "#     'early_stopping_rounds': 100, \n",
    "#     'eval_metric': 'mae', \n",
    "# }\n",
    "grid_clf.fit(train_X, train_y)\n"
   ]
  },
  {
   "cell_type": "code",
   "execution_count": null,
   "metadata": {},
   "outputs": [],
   "source": [
    "print(grid_clf.best_score_)\n",
    "print(grid_clf.best_estimator_)"
   ]
  },
  {
   "cell_type": "code",
   "execution_count": null,
   "metadata": {},
   "outputs": [],
   "source": [
    "print(accuracy_score(test_y, grid_clf.predict(test_X)))"
   ]
  },
  {
   "cell_type": "code",
   "execution_count": null,
   "metadata": {},
   "outputs": [],
   "source": [
    "train_X = train_X.reset_index()\n",
    "train_y = train_y.reset_index()\n",
    "test_X = test_X.reset_index()\n",
    "test_y = test_y.reset_index()"
   ]
  },
  {
   "cell_type": "code",
   "execution_count": 28,
   "metadata": {},
   "outputs": [],
   "source": [
    "from bayes_opt import BayesianOptimization\n",
    "from lightgbm import LGBMClassifier\n",
    "bounds_LGB = {\n",
    "#     'n_estimators': (10, 100),\n",
    "    'max_depth': (3, 15),\n",
    "    'min_child_samples': (5, 30),\n",
    "    'num_leaves': (10, 50),\n",
    "    'subsample': (0.5, 0.9),\n",
    "    'colsample_bytree': (0.5, 0.9),\n",
    "}\n",
    "\n",
    "init_points = 10\n",
    "n_iter = 20\n"
   ]
  },
  {
   "cell_type": "code",
   "execution_count": 29,
   "metadata": {},
   "outputs": [],
   "source": [
    "def LGB_bayesian(\n",
    "#     n_estimators,\n",
    "    max_depth,\n",
    "    min_child_samples,\n",
    "    num_leaves,\n",
    "    subsample,\n",
    "    colsample_bytree\n",
    "):\n",
    "    # LightGBM expects next three parameters need to be integer. \n",
    "#     n_estimators = int(n_estimators)\n",
    "    max_depth = int(max_depth)\n",
    "    min_child_samples = int(min_child_samples)\n",
    "    num_leaves = int(num_leaves)\n",
    "\n",
    "#     assert type(num_leaves) == int\n",
    "#     assert type(max_depth) == int\n",
    "    \n",
    "\n",
    "    params = {\n",
    "        'boosting': 'gbdt',\n",
    "        'n_estimators': 400,\n",
    "        'learning_rate': 0.1,\n",
    "        'max_depth': max_depth,\n",
    "        'min_child_samples': min_child_samples,\n",
    "        'num_leaves': num_leaves,\n",
    "        'subsample': subsample,\n",
    "        'colsample_bytree': colsample_bytree,\n",
    "        'random_state': 0,\n",
    "    }    \n",
    "    \n",
    "    ## set clf options\n",
    "    clf = LGBMClassifier(**params).fit(train_X, train_y, early_stopping_rounds=100,eval_set=[(test_X, test_y)], eval_metric='auc', verbose=0)\n",
    "    \n",
    "    score = accuracy_score(test_y, clf.predict(test_X))\n",
    "\n",
    "    return score"
   ]
  },
  {
   "cell_type": "code",
   "execution_count": 30,
   "metadata": {},
   "outputs": [],
   "source": [
    "optimizer = BayesianOptimization(LGB_bayesian, bounds_LGB, random_state=0)\n"
   ]
  },
  {
   "cell_type": "code",
   "execution_count": 31,
   "metadata": {
    "scrolled": true
   },
   "outputs": [
    {
     "name": "stdout",
     "output_type": "stream",
     "text": [
      "|   iter    |  target   | colsam... | max_depth | min_ch... | num_le... | subsample |\n",
      "-------------------------------------------------------------------------------------\n",
      "| \u001b[0m 1       \u001b[0m | \u001b[0m 0.7897  \u001b[0m | \u001b[0m 0.7195  \u001b[0m | \u001b[0m 11.58   \u001b[0m | \u001b[0m 20.07   \u001b[0m | \u001b[0m 31.8    \u001b[0m | \u001b[0m 0.6695  \u001b[0m |\n",
      "| \u001b[0m 2       \u001b[0m | \u001b[0m 0.785   \u001b[0m | \u001b[0m 0.7584  \u001b[0m | \u001b[0m 8.251   \u001b[0m | \u001b[0m 27.29   \u001b[0m | \u001b[0m 48.55   \u001b[0m | \u001b[0m 0.6534  \u001b[0m |\n",
      "| \u001b[95m 3       \u001b[0m | \u001b[95m 0.8037  \u001b[0m | \u001b[95m 0.8167  \u001b[0m | \u001b[95m 9.347   \u001b[0m | \u001b[95m 19.2    \u001b[0m | \u001b[95m 47.02   \u001b[0m | \u001b[95m 0.5284  \u001b[0m |\n",
      "| \u001b[0m 4       \u001b[0m | \u001b[0m 0.7757  \u001b[0m | \u001b[0m 0.5349  \u001b[0m | \u001b[0m 3.243   \u001b[0m | \u001b[0m 25.82   \u001b[0m | \u001b[0m 41.13   \u001b[0m | \u001b[0m 0.848   \u001b[0m |\n",
      "| \u001b[0m 5       \u001b[0m | \u001b[0m 0.7757  \u001b[0m | \u001b[0m 0.8914  \u001b[0m | \u001b[0m 12.59   \u001b[0m | \u001b[0m 16.54   \u001b[0m | \u001b[0m 41.22   \u001b[0m | \u001b[0m 0.5473  \u001b[0m |\n",
      "| \u001b[0m 6       \u001b[0m | \u001b[0m 0.8037  \u001b[0m | \u001b[0m 0.756   \u001b[0m | \u001b[0m 4.72    \u001b[0m | \u001b[0m 28.62   \u001b[0m | \u001b[0m 30.87   \u001b[0m | \u001b[0m 0.6659  \u001b[0m |\n",
      "| \u001b[0m 7       \u001b[0m | \u001b[0m 0.785   \u001b[0m | \u001b[0m 0.6058  \u001b[0m | \u001b[0m 12.29   \u001b[0m | \u001b[0m 16.4    \u001b[0m | \u001b[0m 32.74   \u001b[0m | \u001b[0m 0.5075  \u001b[0m |\n",
      "| \u001b[95m 8       \u001b[0m | \u001b[95m 0.8084  \u001b[0m | \u001b[95m 0.7471  \u001b[0m | \u001b[95m 10.35   \u001b[0m | \u001b[95m 20.42   \u001b[0m | \u001b[95m 47.75   \u001b[0m | \u001b[95m 0.7727  \u001b[0m |\n",
      "| \u001b[0m 9       \u001b[0m | \u001b[0m 0.7991  \u001b[0m | \u001b[0m 0.6438  \u001b[0m | \u001b[0m 8.244   \u001b[0m | \u001b[0m 22.44   \u001b[0m | \u001b[0m 12.41   \u001b[0m | \u001b[0m 0.7667  \u001b[0m |\n",
      "| \u001b[0m 10      \u001b[0m | \u001b[0m 0.7944  \u001b[0m | \u001b[0m 0.7683  \u001b[0m | \u001b[0m 5.525   \u001b[0m | \u001b[0m 8.223   \u001b[0m | \u001b[0m 22.62   \u001b[0m | \u001b[0m 0.6455  \u001b[0m |\n",
      "| \u001b[0m 11      \u001b[0m | \u001b[0m 0.7991  \u001b[0m | \u001b[0m 0.5     \u001b[0m | \u001b[0m 3.0     \u001b[0m | \u001b[0m 5.0     \u001b[0m | \u001b[0m 50.0    \u001b[0m | \u001b[0m 0.9     \u001b[0m |\n",
      "| \u001b[0m 12      \u001b[0m | \u001b[0m 0.8037  \u001b[0m | \u001b[0m 0.5     \u001b[0m | \u001b[0m 15.0    \u001b[0m | \u001b[0m 5.0     \u001b[0m | \u001b[0m 10.0    \u001b[0m | \u001b[0m 0.7445  \u001b[0m |\n",
      "| \u001b[0m 13      \u001b[0m | \u001b[0m 0.771   \u001b[0m | \u001b[0m 0.5461  \u001b[0m | \u001b[0m 14.94   \u001b[0m | \u001b[0m 29.95   \u001b[0m | \u001b[0m 10.56   \u001b[0m | \u001b[0m 0.5955  \u001b[0m |\n",
      "| \u001b[0m 14      \u001b[0m | \u001b[0m 0.7804  \u001b[0m | \u001b[0m 0.8697  \u001b[0m | \u001b[0m 14.55   \u001b[0m | \u001b[0m 5.224   \u001b[0m | \u001b[0m 49.87   \u001b[0m | \u001b[0m 0.8618  \u001b[0m |\n",
      "| \u001b[95m 15      \u001b[0m | \u001b[95m 0.8271  \u001b[0m | \u001b[95m 0.666   \u001b[0m | \u001b[95m 3.433   \u001b[0m | \u001b[95m 5.02    \u001b[0m | \u001b[95m 10.35   \u001b[0m | \u001b[95m 0.5659  \u001b[0m |\n",
      "| \u001b[0m 16      \u001b[0m | \u001b[0m 0.785   \u001b[0m | \u001b[0m 0.5     \u001b[0m | \u001b[0m 3.0     \u001b[0m | \u001b[0m 30.0    \u001b[0m | \u001b[0m 10.0    \u001b[0m | \u001b[0m 0.9     \u001b[0m |\n",
      "| \u001b[0m 17      \u001b[0m | \u001b[0m 0.7804  \u001b[0m | \u001b[0m 0.5467  \u001b[0m | \u001b[0m 14.78   \u001b[0m | \u001b[0m 19.11   \u001b[0m | \u001b[0m 49.97   \u001b[0m | \u001b[0m 0.5381  \u001b[0m |\n",
      "| \u001b[0m 18      \u001b[0m | \u001b[0m 0.7897  \u001b[0m | \u001b[0m 0.5709  \u001b[0m | \u001b[0m 8.557   \u001b[0m | \u001b[0m 29.93   \u001b[0m | \u001b[0m 21.18   \u001b[0m | \u001b[0m 0.897   \u001b[0m |\n",
      "| \u001b[0m 19      \u001b[0m | \u001b[0m 0.8131  \u001b[0m | \u001b[0m 0.5417  \u001b[0m | \u001b[0m 3.428   \u001b[0m | \u001b[0m 12.06   \u001b[0m | \u001b[0m 10.02   \u001b[0m | \u001b[0m 0.8672  \u001b[0m |\n",
      "| \u001b[0m 20      \u001b[0m | \u001b[0m 0.8037  \u001b[0m | \u001b[0m 0.8638  \u001b[0m | \u001b[0m 3.731   \u001b[0m | \u001b[0m 16.41   \u001b[0m | \u001b[0m 49.99   \u001b[0m | \u001b[0m 0.8141  \u001b[0m |\n",
      "| \u001b[0m 21      \u001b[0m | \u001b[0m 0.6168  \u001b[0m | \u001b[0m 0.8849  \u001b[0m | \u001b[0m 7.914   \u001b[0m | \u001b[0m 5.365   \u001b[0m | \u001b[0m 10.1    \u001b[0m | \u001b[0m 0.8248  \u001b[0m |\n",
      "| \u001b[0m 22      \u001b[0m | \u001b[0m 0.7991  \u001b[0m | \u001b[0m 0.5     \u001b[0m | \u001b[0m 3.0     \u001b[0m | \u001b[0m 5.0     \u001b[0m | \u001b[0m 34.74   \u001b[0m | \u001b[0m 0.9     \u001b[0m |\n",
      "| \u001b[0m 23      \u001b[0m | \u001b[0m 0.7757  \u001b[0m | \u001b[0m 0.5     \u001b[0m | \u001b[0m 15.0    \u001b[0m | \u001b[0m 5.0     \u001b[0m | \u001b[0m 26.25   \u001b[0m | \u001b[0m 0.5     \u001b[0m |\n",
      "| \u001b[0m 24      \u001b[0m | \u001b[0m 0.7991  \u001b[0m | \u001b[0m 0.5     \u001b[0m | \u001b[0m 3.0     \u001b[0m | \u001b[0m 20.33   \u001b[0m | \u001b[0m 22.09   \u001b[0m | \u001b[0m 0.5     \u001b[0m |\n",
      "| \u001b[0m 25      \u001b[0m | \u001b[0m 0.7944  \u001b[0m | \u001b[0m 0.5     \u001b[0m | \u001b[0m 15.0    \u001b[0m | \u001b[0m 30.0    \u001b[0m | \u001b[0m 36.63   \u001b[0m | \u001b[0m 0.5     \u001b[0m |\n",
      "| \u001b[0m 26      \u001b[0m | \u001b[0m 0.785   \u001b[0m | \u001b[0m 0.5     \u001b[0m | \u001b[0m 15.0    \u001b[0m | \u001b[0m 17.57   \u001b[0m | \u001b[0m 17.56   \u001b[0m | \u001b[0m 0.5     \u001b[0m |\n",
      "| \u001b[0m 27      \u001b[0m | \u001b[0m 0.7991  \u001b[0m | \u001b[0m 0.5     \u001b[0m | \u001b[0m 3.0     \u001b[0m | \u001b[0m 5.0     \u001b[0m | \u001b[0m 19.64   \u001b[0m | \u001b[0m 0.5     \u001b[0m |\n",
      "| \u001b[0m 28      \u001b[0m | \u001b[0m 0.8037  \u001b[0m | \u001b[0m 0.9     \u001b[0m | \u001b[0m 15.0    \u001b[0m | \u001b[0m 30.0    \u001b[0m | \u001b[0m 50.0    \u001b[0m | \u001b[0m 0.9     \u001b[0m |\n",
      "| \u001b[0m 29      \u001b[0m | \u001b[0m 0.7991  \u001b[0m | \u001b[0m 0.5     \u001b[0m | \u001b[0m 3.0     \u001b[0m | \u001b[0m 14.37   \u001b[0m | \u001b[0m 32.67   \u001b[0m | \u001b[0m 0.9     \u001b[0m |\n",
      "| \u001b[0m 30      \u001b[0m | \u001b[0m 0.7991  \u001b[0m | \u001b[0m 0.5     \u001b[0m | \u001b[0m 15.0    \u001b[0m | \u001b[0m 18.61   \u001b[0m | \u001b[0m 10.0    \u001b[0m | \u001b[0m 0.5     \u001b[0m |\n",
      "=====================================================================================\n"
     ]
    }
   ],
   "source": [
    "optimizer.maximize(init_points=init_points, n_iter=n_iter)"
   ]
  },
  {
   "cell_type": "code",
   "execution_count": 32,
   "metadata": {},
   "outputs": [
    {
     "data": {
      "text/plain": [
       "{'target': 0.8271028037383178,\n",
       " 'params': {'colsample_bytree': 0.6659763018365787,\n",
       "  'max_depth': 3.4332290366901885,\n",
       "  'min_child_samples': 5.020233588443391,\n",
       "  'num_leaves': 10.354120982723458,\n",
       "  'subsample': 0.5659155483353682}}"
      ]
     },
     "execution_count": 32,
     "metadata": {},
     "output_type": "execute_result"
    }
   ],
   "source": [
    "optimizer.max"
   ]
  },
  {
   "cell_type": "code",
   "execution_count": null,
   "metadata": {},
   "outputs": [],
   "source": []
  }
 ],
 "metadata": {
  "kernelspec": {
   "display_name": "Python 3",
   "language": "python",
   "name": "python3"
  },
  "language_info": {
   "codemirror_mode": {
    "name": "ipython",
    "version": 3
   },
   "file_extension": ".py",
   "mimetype": "text/x-python",
   "name": "python",
   "nbconvert_exporter": "python",
   "pygments_lexer": "ipython3",
   "version": "3.7.4"
  },
  "toc": {
   "base_numbering": 1,
   "nav_menu": {},
   "number_sections": true,
   "sideBar": true,
   "skip_h1_title": false,
   "title_cell": "Table of Contents",
   "title_sidebar": "Contents",
   "toc_cell": false,
   "toc_position": {},
   "toc_section_display": true,
   "toc_window_display": false
  }
 },
 "nbformat": 4,
 "nbformat_minor": 2
}
