{
 "cells": [
  {
   "cell_type": "markdown",
   "metadata": {},
   "source": [
    "# K-menas\n",
    "\n",
    "- 가장 많이 사용되는 군집화 알고리즘\n",
    "- 특정 중심점을 기준으로 가까이 있는 군집으로 선택\n",
    "    - 특정 중심점의 개수가 K\n",
    "    - 가까이라는 말은 거리로 정의\n",
    "    - 거리 판단도 여러 종류(가까운 점, 먼 점)\n",
    "- 군집이 형성되면 갱신\n",
    "  \n",
    "    \n",
    "- initial point를 정하는 것이 문제가 됨   \n",
    "[관련논문1](https://www.ijcsmc.com/docs/papers/July2013/V2I7201338.pdf)  \n",
    "[kmeans++ 설명글](https://lovit.github.io/nlp/machine%20learning/2018/03/19/kmeans_initializer/)\n",
    "\n",
    "## 분류와의 비교\n",
    "- 분류는 정답을 아는 데이터로부터 정답을 만드는 과정\n",
    "- 군집화는 정답을 모르는 데이터로부터 추측\n",
    "\n",
    "\n",
    "[참고출처](https://scikit-learn.org/stable/modules/clustering.html)"
   ]
  },
  {
   "cell_type": "code",
   "execution_count": 1,
   "metadata": {
    "scrolled": true
   },
   "outputs": [],
   "source": [
    "import numpy as np\n",
    "import pandas as pd\n",
    "\n",
    "from sklearn.datasets import load_iris\n",
    "\n",
    "# load_iris().keys()\n",
    "data = pd.DataFrame(load_iris().data, columns=load_iris().feature_names)\n",
    "target = load_iris().target"
   ]
  },
  {
   "cell_type": "code",
   "execution_count": 2,
   "metadata": {},
   "outputs": [
    {
     "data": {
      "text/plain": [
       "dict_keys(['data', 'target', 'target_names', 'DESCR', 'feature_names', 'filename'])"
      ]
     },
     "execution_count": 2,
     "metadata": {},
     "output_type": "execute_result"
    }
   ],
   "source": [
    "load_iris().keys()"
   ]
  },
  {
   "cell_type": "code",
   "execution_count": 3,
   "metadata": {},
   "outputs": [],
   "source": [
    "from sklearn.cluster import KMeans\n",
    "\n",
    "km = KMeans(n_clusters=3, max_iter=300, init='k-means++', random_state=2019)\n",
    "\n",
    "res = km.fit(data)"
   ]
  },
  {
   "cell_type": "code",
   "execution_count": 4,
   "metadata": {},
   "outputs": [
    {
     "data": {
      "text/plain": [
       "array([1, 1, 1, 1, 1, 1, 1, 1, 1, 1, 1, 1, 1, 1, 1, 1, 1, 1, 1, 1, 1, 1,\n",
       "       1, 1, 1, 1, 1, 1, 1, 1, 1, 1, 1, 1, 1, 1, 1, 1, 1, 1, 1, 1, 1, 1,\n",
       "       1, 1, 1, 1, 1, 1, 0, 0, 2, 0, 0, 0, 0, 0, 0, 0, 0, 0, 0, 0, 0, 0,\n",
       "       0, 0, 0, 0, 0, 0, 0, 0, 0, 0, 0, 2, 0, 0, 0, 0, 0, 0, 0, 0, 0, 0,\n",
       "       0, 0, 0, 0, 0, 0, 0, 0, 0, 0, 0, 0, 2, 0, 2, 2, 2, 2, 0, 2, 2, 2,\n",
       "       2, 2, 2, 0, 0, 2, 2, 2, 2, 0, 2, 0, 2, 0, 2, 2, 0, 0, 2, 2, 2, 2,\n",
       "       2, 0, 2, 2, 2, 2, 0, 2, 2, 2, 0, 2, 2, 2, 0, 2, 2, 0])"
      ]
     },
     "execution_count": 4,
     "metadata": {},
     "output_type": "execute_result"
    }
   ],
   "source": [
    "res.labels_"
   ]
  },
  {
   "cell_type": "code",
   "execution_count": 5,
   "metadata": {
    "scrolled": true
   },
   "outputs": [
    {
     "data": {
      "text/plain": [
       "array([0, 0, 0, 0, 0, 0, 0, 0, 0, 0, 0, 0, 0, 0, 0, 0, 0, 0, 0, 0, 0, 0,\n",
       "       0, 0, 0, 0, 0, 0, 0, 0, 0, 0, 0, 0, 0, 0, 0, 0, 0, 0, 0, 0, 0, 0,\n",
       "       0, 0, 0, 0, 0, 0, 1, 1, 1, 1, 1, 1, 1, 1, 1, 1, 1, 1, 1, 1, 1, 1,\n",
       "       1, 1, 1, 1, 1, 1, 1, 1, 1, 1, 1, 1, 1, 1, 1, 1, 1, 1, 1, 1, 1, 1,\n",
       "       1, 1, 1, 1, 1, 1, 1, 1, 1, 1, 1, 1, 2, 2, 2, 2, 2, 2, 2, 2, 2, 2,\n",
       "       2, 2, 2, 2, 2, 2, 2, 2, 2, 2, 2, 2, 2, 2, 2, 2, 2, 2, 2, 2, 2, 2,\n",
       "       2, 2, 2, 2, 2, 2, 2, 2, 2, 2, 2, 2, 2, 2, 2, 2, 2, 2])"
      ]
     },
     "execution_count": 5,
     "metadata": {},
     "output_type": "execute_result"
    }
   ],
   "source": [
    "target"
   ]
  },
  {
   "cell_type": "code",
   "execution_count": 6,
   "metadata": {},
   "outputs": [],
   "source": [
    "def labeling(a):\n",
    "    if a == 1:\n",
    "        return 0\n",
    "    elif a == 0:\n",
    "        return 1\n",
    "    else:\n",
    "        return 2\n",
    "    \n",
    "map_res = np.array(list(map(labeling, res.labels_)))"
   ]
  },
  {
   "cell_type": "code",
   "execution_count": 7,
   "metadata": {},
   "outputs": [
    {
     "data": {
      "text/plain": [
       "array([0, 0, 0, 0, 0, 0, 0, 0, 0, 0, 0, 0, 0, 0, 0, 0, 0, 0, 0, 0, 0, 0,\n",
       "       0, 0, 0, 0, 0, 0, 0, 0, 0, 0, 0, 0, 0, 0, 0, 0, 0, 0, 0, 0, 0, 0,\n",
       "       0, 0, 0, 0, 0, 0, 1, 1, 2, 1, 1, 1, 1, 1, 1, 1, 1, 1, 1, 1, 1, 1,\n",
       "       1, 1, 1, 1, 1, 1, 1, 1, 1, 1, 1, 2, 1, 1, 1, 1, 1, 1, 1, 1, 1, 1,\n",
       "       1, 1, 1, 1, 1, 1, 1, 1, 1, 1, 1, 1, 2, 1, 2, 2, 2, 2, 1, 2, 2, 2,\n",
       "       2, 2, 2, 1, 1, 2, 2, 2, 2, 1, 2, 1, 2, 1, 2, 2, 1, 1, 2, 2, 2, 2,\n",
       "       2, 1, 2, 2, 2, 2, 1, 2, 2, 2, 1, 2, 2, 2, 1, 2, 2, 1])"
      ]
     },
     "execution_count": 7,
     "metadata": {},
     "output_type": "execute_result"
    }
   ],
   "source": [
    "map_res"
   ]
  },
  {
   "cell_type": "code",
   "execution_count": 8,
   "metadata": {},
   "outputs": [
    {
     "name": "stdout",
     "output_type": "stream",
     "text": [
      "0.893\n"
     ]
    }
   ],
   "source": [
    "def acurate(a, b):\n",
    "    c = 0\n",
    "    for i in range(len(a)):\n",
    "        if a[i] == b[i]:\n",
    "            c += 1\n",
    "    return round(c/len(a), 3)\n",
    "\n",
    "print(acurate(target, map_res))"
   ]
  },
  {
   "cell_type": "code",
   "execution_count": 9,
   "metadata": {},
   "outputs": [
    {
     "name": "stdout",
     "output_type": "stream",
     "text": [
      "0.093\n"
     ]
    }
   ],
   "source": [
    "n = 3\n",
    "km = KMeans(n_clusters=n, max_iter=300, init='k-means++', random_state=12)\n",
    "\n",
    "res = km.fit(data)\n",
    "\n",
    "map_res = np.array(list(map(labeling, res.labels_)))\n",
    "print(acurate(target, res.labels_))"
   ]
  },
  {
   "cell_type": "code",
   "execution_count": 10,
   "metadata": {
    "scrolled": true
   },
   "outputs": [
    {
     "name": "stdout",
     "output_type": "stream",
     "text": [
      "1\n",
      "[[5.84333333 3.05733333 3.758      1.19933333]]\n",
      "----------------\n",
      "2\n",
      "[[6.30103093 2.88659794 4.95876289 1.69587629]\n",
      " [5.00566038 3.36981132 1.56037736 0.29056604]]\n",
      "----------------\n",
      "3\n",
      "[[5.9016129  2.7483871  4.39354839 1.43387097]\n",
      " [5.006      3.428      1.462      0.246     ]\n",
      " [6.85       3.07368421 5.74210526 2.07105263]]\n",
      "----------------\n",
      "4\n",
      "[[6.2525     2.855      4.815      1.625     ]\n",
      " [5.006      3.428      1.462      0.246     ]\n",
      " [6.9125     3.1        5.846875   2.13125   ]\n",
      " [5.53214286 2.63571429 3.96071429 1.22857143]]\n",
      "----------------\n",
      "5\n",
      "[[6.20769231 2.85384615 4.74615385 1.56410256]\n",
      " [5.006      3.428      1.462      0.246     ]\n",
      " [7.475      3.125      6.3        2.05      ]\n",
      " [6.52916667 3.05833333 5.50833333 2.1625    ]\n",
      " [5.508      2.6        3.908      1.204     ]]\n",
      "----------------\n",
      "6\n",
      "[[4.70454545 3.12272727 1.41363636 0.2       ]\n",
      " [6.20769231 2.85384615 4.74615385 1.56410256]\n",
      " [7.475      3.125      6.3        2.05      ]\n",
      " [5.24285714 3.66785714 1.5        0.28214286]\n",
      " [5.508      2.6        3.908      1.204     ]\n",
      " [6.52916667 3.05833333 5.50833333 2.1625    ]]\n",
      "----------------\n",
      "7\n",
      "[[4.70454545 3.12272727 1.41363636 0.2       ]\n",
      " [6.43       2.94       4.59       1.435     ]\n",
      " [7.475      3.125      6.3        2.05      ]\n",
      " [5.53214286 2.63571429 3.96071429 1.22857143]\n",
      " [5.24285714 3.66785714 1.5        0.28214286]\n",
      " [6.02777778 2.73333333 5.02777778 1.79444444]\n",
      " [6.56818182 3.08636364 5.53636364 2.16363636]]\n",
      "----------------\n",
      "8\n",
      "[[6.56818182 3.08636364 5.53636364 2.16363636]\n",
      " [5.24285714 3.66785714 1.5        0.28214286]\n",
      " [6.43       2.94       4.59       1.435     ]\n",
      " [7.475      3.125      6.3        2.05      ]\n",
      " [5.         2.3        3.275      1.025     ]\n",
      " [5.62083333 2.69166667 4.075      1.2625    ]\n",
      " [4.70454545 3.12272727 1.41363636 0.2       ]\n",
      " [6.02777778 2.73333333 5.02777778 1.79444444]]\n",
      "----------------\n",
      "9\n",
      "[[5.24285714 3.66785714 1.5        0.28214286]\n",
      " [6.56818182 3.08636364 5.53636364 2.16363636]\n",
      " [6.02777778 2.73333333 5.02777778 1.79444444]\n",
      " [7.43333333 2.92222222 6.26666667 1.98888889]\n",
      " [5.         2.3        3.275      1.025     ]\n",
      " [6.43       2.94       4.59       1.435     ]\n",
      " [4.70454545 3.12272727 1.41363636 0.2       ]\n",
      " [5.62083333 2.69166667 4.075      1.2625    ]\n",
      " [7.6        3.73333333 6.4        2.23333333]]\n",
      "----------------\n"
     ]
    }
   ],
   "source": [
    "ans = []\n",
    "for i in range(1, 10):\n",
    "    km = KMeans(n_clusters=i, max_iter=300, init='k-means++', random_state=2019)\n",
    "\n",
    "    res = km.fit(data)\n",
    "\n",
    "    map_res = np.array(list(map(labeling, res.labels_)))\n",
    "    ans.append(acurate(target, map_res))\n",
    "    print(i)\n",
    "    print(res.cluster_centers_)\n",
    "    print('----------------')"
   ]
  },
  {
   "cell_type": "code",
   "execution_count": 11,
   "metadata": {
    "scrolled": true
   },
   "outputs": [
    {
     "data": {
      "text/plain": [
       "[<matplotlib.lines.Line2D at 0x1e6d07b1f98>]"
      ]
     },
     "execution_count": 11,
     "metadata": {},
     "output_type": "execute_result"
    }
   ],
   "source": [
    "import matplotlib.pyplot as plt\n",
    "\n",
    "plt.plot(ans, '-o')"
   ]
  },
  {
   "cell_type": "code",
   "execution_count": 12,
   "metadata": {},
   "outputs": [
    {
     "data": {
      "text/plain": [
       "[<matplotlib.lines.Line2D at 0x1e6d098bb38>]"
      ]
     },
     "execution_count": 12,
     "metadata": {},
     "output_type": "execute_result"
    },
    {
     "data": {
      "image/png": "[encoded data removed]",
      "text/plain": [
       "<Figure size 432x288 with 1 Axes>"
      ]
     },
     "metadata": {
      "needs_background": "light"
     },
     "output_type": "display_data"
    }
   ],
   "source": [
    "ans = []\n",
    "for i in range(1, 10):\n",
    "    km = KMeans(n_clusters=i, max_iter=300, init='k-means++', random_state=2019)\n",
    "\n",
    "    res = km.fit(data)\n",
    "    \n",
    "    ans.append(res.inertia_)\n",
    "\n",
    "plt.plot(range(1,10), ans, '-o')\n"
   ]
  },
  {
   "cell_type": "code",
   "execution_count": 32,
   "metadata": {
    "scrolled": true
   },
   "outputs": [
    {
     "name": "stdout",
     "output_type": "stream",
     "text": [
      "0.893\n"
     ]
    }
   ],
   "source": [
    "# Silhouette\n",
    "\n",
    "from sklearn.metrics import silhouette_samples#, silhouette_score\n",
    "\n",
    "n = 3\n",
    "km = KMeans(n_clusters=n, max_iter=300, init='k-means++', random_state=2019)\n",
    "\n",
    "res = km.fit(data)\n",
    "\n",
    "map_res = np.array(list(map(labeling, res.labels_)))\n",
    "print(acurate(target, map_res))\n",
    "\n",
    "score_samples = silhouette_samples(data, map_res) ## 개별요소에 점수쓰기\n",
    "# score = silhouette_score(data, map_res) ## 평균점수 볼 수 있음\n",
    "# print(score_samples)"
   ]
  },
  {
   "cell_type": "code",
   "execution_count": 29,
   "metadata": {},
   "outputs": [],
   "source": [
    "sils = pd.DataFrame([map_res, score_samples]).T\n",
    "sils.columns = ['clustering', 'silhouette']"
   ]
  },
  {
   "cell_type": "code",
   "execution_count": 31,
   "metadata": {
    "scrolled": true
   },
   "outputs": [
    {
     "data": {
      "text/plain": [
       "clustering\n",
       "0.0    0.798140\n",
       "1.0    0.417320\n",
       "2.0    0.451105\n",
       "Name: silhouette, dtype: float64"
      ]
     },
     "execution_count": 31,
     "metadata": {},
     "output_type": "execute_result"
    }
   ],
   "source": [
    "sils.groupby('clustering')['silhouette'].mean()"
   ]
  },
  {
   "cell_type": "markdown",
   "metadata": {},
   "source": [
    "## 실제 코딩시 유의 점\n",
    "\n",
    "### initial points\n",
    "- 필수적으로 초기점이 잡혀져 있어야 함\n",
    "- 초기 점에 대해서는 kmeans++ 알고리즘을 확인해 보도 록 함\n",
    "[starting points 논문](https://tigerprints.clemson.edu/cgi/viewcontent.cgi?article=1023&context=computing_pubs)\n",
    "[설명글](https://lovit.github.io/nlp/machine%20learning/2018/03/19/kmeans_initializer/)\n",
    "\n",
    "### 거리비교 포인트\n",
    "- 유클리드, 맨해튼 등이 있지만 큰 차이는 없을 것으로 예상\n",
    "\n",
    "### 평가\n",
    "- 실루엣을 직접 구현해보는게 카카오 코테와 가장 유사 포인트 일듯\n",
    "![실루엣](../assets/실루엣1.png)"
   ]
  },
  {
   "cell_type": "code",
   "execution_count": 15,
   "metadata": {},
   "outputs": [],
   "source": [
    "n = 3\n",
    "center = [[5.9016129,  2.7483871,  4.39354839, 1.43387097],\n",
    " [5.006,      3.428,      1.462,      0.246     ],\n",
    " [6.85,       3.07368421, 5.74210526, 2.07105263]]"
   ]
  },
  {
   "cell_type": "code",
   "execution_count": 16,
   "metadata": {},
   "outputs": [],
   "source": [
    "def dist(a, b):\n",
    "    f = 0\n",
    "    for i in range(len(a)):\n",
    "        f += (a[i]-b[i])**2\n",
    "    return f ** 0.5"
   ]
  },
  {
   "cell_type": "code",
   "execution_count": 17,
   "metadata": {
    "scrolled": true
   },
   "outputs": [
    {
     "name": "stdout",
     "output_type": "stream",
     "text": [
      "[[3.4192506089453514, 3.3985742579459925, 3.5693566625896542, 3.422409623170955, 3.4672640347647534, 3.1467316194383583, 3.5165026450684147, 3.336549872064429, 3.5723377929268048, 3.3583767035240633, 3.3244913097755506, 3.3112687192031327, 3.466612721486661, 3.9057836210897747, 3.646648999118664, 3.494278809822301, 3.495248002184274, 3.3844498124175453, 3.1124594388960563, 3.377389316435574, 3.0747122422713242, 3.3150658848314247, 3.9316725345294405, 3.012337622308156, 3.062412692106202, 3.194145433566411, 3.179670892210883, 3.309417240054985, 3.376481832732579, 3.312729682719849, 3.2655065136626438, 3.180837364715957, 3.5314235292263025, 3.571028208621875, 3.319927693304954, 3.569040336389203, 3.43783275986095, 3.5311494815106816, 3.662052643637603, 3.3109277353595554, 3.4976467504270863, 3.6085003437402023, 3.68120560751137, 3.142782393799029, 3.0058519073256345, 3.394680452233046, 3.327885681746468, 3.5187952322880567, 3.3410425092735885, 3.4060170502763425, 1.2269752502691949, 0.6841409991903377, 1.1752764418523642, 0.7315365231983659, 0.6385345165088202, 0.26937897982796066, 0.7645263349114618, 1.5838857511743558, 0.7558271738784947, 0.8598483754553201, 1.5361190763652255, 0.32426174731712193, 0.8084137472687813, 0.39674140793866325, 0.8726954203919908, 0.8730649796969029, 0.41229162830835303, 0.5357995602584547, 0.6367639019080407, 0.7125491777927707, 0.709373097018172, 0.463490134493878, 0.6937396592188981, 0.43661144370384164, 0.5459385595221805, 0.7431301761960367, 0.9879845275980552, 1.067398345873345, 0.21993518766480483, 1.0243726064148502, 0.8639652821573061, 0.9756638154472846, 0.5576308248054024, 0.7339578085783625, 0.5750039537021919, 0.6879027495025389, 0.9270055181999476, 0.6145944457714804, 0.5083025543641834, 0.6291191022160694, 0.48790255868682736, 0.3826695738795451, 0.49185351353136975, 1.5485634997549031, 0.38560869903718875, 0.4428469518616483, 0.3449878965603764, 0.3724165285982259, 1.6606403381747519, 0.3839319559155675, 2.04457989738067, 0.8538247143138643, 2.0524534174429276, 1.330892447485202, 1.7281307805756925, 2.874018856022547, 1.0710187480960136, 2.397307064348068, 1.676685632661398, 2.541586472810467, 1.1754136670862527, 1.1356327781343545, 1.5932267518382788, 0.88917351893382, 1.2022762797182482, 1.4227360720713986, 1.3340396563720107, 3.201055852804376, 3.2075994236770202, 0.826174943200986, 1.9125183185457737, 0.8189197425713665, 2.979443095743423, 0.7426959625399568, 1.7584773091436674, 2.1458099903703385, 0.625261649850007, 0.7022892515005145, 1.466392500244444, 1.9377365916896838, 2.3188534155425073, 3.073400532760602, 1.5144414055265234, 0.8153668491992742, 1.232091272095193, 2.638117094970038, 1.724019269838116, 1.3154113291184446, 0.6101167517558853, 1.6053289883301658, 1.7748195352691922, 1.53937058786153, 0.8538247143138643, 2.007642782661585, 1.9455450832024306, 1.4495774242078803, 0.897478835835783, 1.179933239964513, 1.5088931614839907, 0.8345274092401951], [0.14135062787267663, 0.4476382468020354, 0.4171090984382862, 0.525337986443014, 0.18862661530123487, 0.6770376651265423, 0.4151867049894547, 0.06618156843109722, 0.8074527849973643, 0.3762711788059243, 0.48247279716062774, 0.2537321422287689, 0.5007793925472573, 0.9132250544088245, 1.0140907257242813, 1.2048153385477796, 0.6542018037272598, 0.1441526968183388, 0.8243664233822239, 0.389332762556659, 0.4634436319553869, 0.3286031040632453, 0.640296806176636, 0.38259639308284116, 0.4870112935035492, 0.4520840629794419, 0.20875823337056684, 0.21536016344718906, 0.210665611811705, 0.40838707129388896, 0.4137390481934236, 0.4256524403782975, 0.7155277772385916, 0.9197717108065459, 0.3498285294254885, 0.3503997716894232, 0.5268586148104629, 0.25686572367678806, 0.7607759197030356, 0.11480418110852886, 0.1854184456843493, 1.2480304483465137, 0.6690142001482478, 0.3867557368675997, 0.6023122113987063, 0.4820580877861092, 0.4103413213411487, 0.47199576269284493, 0.4049444406335268, 0.14959946523968606, 3.98049996859691, 3.5773146353095644, 4.13366423406643, 3.011441515287986, 3.747796686054354, 3.349086442598937, 3.742830479730548, 2.2393704472462788, 3.7118162670046044, 2.8005677995720792, 2.6002269131750793, 3.170422684753565, 3.0831769329702765, 3.6458167809148065, 2.5126838241211327, 3.597329565107985, 3.3671917082340292, 2.947537955650444, 3.7061543410926645, 2.8084123628840545, 3.7958371935582274, 3.02383531297589, 3.990987346509633, 3.6036065268006165, 3.3744895910344725, 3.561962941974551, 4.010832831220967, 4.2052800144580145, 3.4740149683039654, 2.4267632764651768, 2.7379517892030165, 2.6225903225627905, 2.8309680323168607, 4.072637965741615, 3.3377207792144628, 3.47153856380712, 3.8774192448070406, 3.5622436749891215, 2.9335950640809307, 2.942376590445214, 3.235982076588188, 3.543836903696331, 2.9440754066429755, 2.2845524725862614, 3.0806460361424195, 3.0119063730468123, 3.0607156026001507, 3.2969046088717824, 1.9911755321919764, 2.990983115967056, 5.231135631963675, 4.138982966865169, 5.263191047264008, 4.635858065126671, 5.005155342244634, 6.06204420967053, 3.495136621077923, 5.6002124959683455, 4.996396701624081, 5.606672810143285, 4.312259268643294, 4.465330894793801, 4.810860629866552, 4.115431933588503, 4.347364718999316, 4.576503031791851, 4.597344885909692, 6.21697514873592, 6.460184207899958, 4.072588857225831, 5.081218357835058, 3.9551965817137336, 6.177797342095321, 4.054525866238863, 4.9278778393949665, 5.27958142280238, 3.9213747589334025, 3.951554124645138, 4.785183382065937, 5.0644229681178885, 5.511114224909514, 5.997831274719222, 4.824808804501998, 4.108087146105837, 4.50967626332534, 5.759407955684334, 4.841278756692286, 4.557541003655371, 3.837757157507494, 4.758148799690906, 4.973930035696119, 4.598780273072415, 4.138982966865169, 5.213940927935414, 5.091873918313374, 4.609162613751006, 4.21767471481621, 4.4118454188695235, 4.599258635910792, 4.0782815008285045], [5.059541598401274, 5.114943342399103, 5.279355336019059, 5.153589768496607, 5.104333878573473, 4.681487969647354, 5.211476518411352, 5.002527058992576, 5.327981065840316, 5.067908644396908, 4.898067624068997, 4.996684493136714, 5.1910361125649, 5.651735934909991, 5.108044545611648, 4.885640951190837, 5.030905864548939, 5.023420215346603, 4.617929945111002, 4.972134258238901, 4.695576095853724, 4.923682097572192, 5.597133958728602, 4.681937647593452, 4.750957037056104, 4.907728934237597, 4.84545507377304, 4.939690287250094, 5.0183361812410405, 5.0295456661564275, 4.986087288641556, 4.7955037195223715, 5.0652077556555275, 5.044383341098584, 5.0298595906797345, 5.25071555275592, 5.023682139422529, 5.178651839036189, 5.407500942945171, 4.966414901712594, 5.145208616951591, 5.384237533388819, 5.408474162270992, 4.7880347720074985, 4.598284935489851, 5.118440667816021, 4.924216542349951, 5.2376685378088705, 4.928596803346051, 5.082168323654079, 1.2548907059791734, 1.4447775821741238, 1.0190362584093402, 2.459784574297698, 1.3520016930288619, 1.8800932641634847, 1.2890278468492864, 3.371554871561919, 1.4112380337678363, 2.5895565855862093, 3.2786411081350315, 1.9005575765950649, 2.3807369808428875, 1.459096024925333, 2.6030373235804567, 1.508227662507523, 1.8538759251775476, 2.2551725676659222, 1.7477845067264177, 2.495577803225719, 1.3709440280160627, 2.0656369337211484, 1.2910677549814757, 1.5754742473150454, 1.704950422725807, 1.5229863833773785, 1.1896541514040577, 0.8463625901189797, 1.6191333447103446, 2.7786807056502383, 2.6440624928229113, 2.755666533518326, 2.322546955812284, 1.2232455329789307, 1.9942055926992346, 1.6104962129582632, 1.1980304670386757, 1.8157246332946269, 2.204305152639468, 2.4043848418988394, 2.1463587640357114, 1.524022775404918, 2.2628610544955934, 3.3364830426592773, 2.162117175352184, 2.1129956649157866, 2.0797300295838657, 1.7682918152705758, 3.442919987445672, 2.1652794022834345, 0.77731871195341, 1.2975739115568363, 0.30610139162197353, 0.6529392299080432, 0.38458885573155704, 1.142256844126096, 2.4108336947937543, 0.7857367714145169, 0.6545493884749329, 0.8435596018971682, 0.7455221793836241, 0.7528983676120622, 0.259580950674175, 1.485726174620649, 1.3030382127753999, 0.6828833267498247, 0.5099155302134936, 1.4779121705814964, 1.5297103836847388, 1.5370899199308112, 0.26952816170654326, 1.5334903951290035, 1.3114929873822851, 1.1066845467218323, 0.27627819304626317, 0.5276693130672933, 1.207656779036539, 1.1621274284487513, 0.5462919566979805, 0.5942825455563279, 0.7312664999525887, 1.438022458779038, 0.5605572013210679, 1.0563159176841506, 1.1213305792463295, 0.9531185162155383, 0.7330636206721134, 0.579031092388749, 1.299600404721739, 0.34794608771030644, 0.38934919796104417, 0.6840384374820677, 1.2975739115568363, 0.30952112359725736, 0.5093991911584747, 0.611738811873914, 1.1007237582395086, 0.6533421400406589, 0.8357241781550342, 1.1805498955795588]]\n"
     ]
    }
   ],
   "source": [
    "dist_score = [[] for _ in range(n)]\n",
    "for i in range(len(data)):\n",
    "    for j in range(3):\n",
    "        dist_score[j].append(dist(center[j], data.iloc[i,:]))\n",
    "\n",
    "        \n",
    "print(dist_score)"
   ]
  },
  {
   "cell_type": "code",
   "execution_count": 18,
   "metadata": {
    "scrolled": true
   },
   "outputs": [
    {
     "name": "stdout",
     "output_type": "stream",
     "text": [
      "            0         1         2\n",
      "0    3.419251  0.141351  5.059542\n",
      "1    3.398574  0.447638  5.114943\n",
      "2    3.569357  0.417109  5.279355\n",
      "3    3.422410  0.525338  5.153590\n",
      "4    3.467264  0.188627  5.104334\n",
      "5    3.146732  0.677038  4.681488\n",
      "6    3.516503  0.415187  5.211477\n",
      "7    3.336550  0.066182  5.002527\n",
      "8    3.572338  0.807453  5.327981\n",
      "9    3.358377  0.376271  5.067909\n",
      "10   3.324491  0.482473  4.898068\n",
      "11   3.311269  0.253732  4.996684\n",
      "12   3.466613  0.500779  5.191036\n",
      "13   3.905784  0.913225  5.651736\n",
      "14   3.646649  1.014091  5.108045\n",
      "15   3.494279  1.204815  4.885641\n",
      "16   3.495248  0.654202  5.030906\n",
      "17   3.384450  0.144153  5.023420\n",
      "18   3.112459  0.824366  4.617930\n",
      "19   3.377389  0.389333  4.972134\n",
      "20   3.074712  0.463444  4.695576\n",
      "21   3.315066  0.328603  4.923682\n",
      "22   3.931673  0.640297  5.597134\n",
      "23   3.012338  0.382596  4.681938\n",
      "24   3.062413  0.487011  4.750957\n",
      "25   3.194145  0.452084  4.907729\n",
      "26   3.179671  0.208758  4.845455\n",
      "27   3.309417  0.215360  4.939690\n",
      "28   3.376482  0.210666  5.018336\n",
      "29   3.312730  0.408387  5.029546\n",
      "..        ...       ...       ...\n",
      "120  1.912518  5.081218  0.269528\n",
      "121  0.818920  3.955197  1.533490\n",
      "122  2.979443  6.177797  1.311493\n",
      "123  0.742696  4.054526  1.106685\n",
      "124  1.758477  4.927878  0.276278\n",
      "125  2.145810  5.279581  0.527669\n",
      "126  0.625262  3.921375  1.207657\n",
      "127  0.702289  3.951554  1.162127\n",
      "128  1.466393  4.785183  0.546292\n",
      "129  1.937737  5.064423  0.594283\n",
      "130  2.318853  5.511114  0.731266\n",
      "131  3.073401  5.997831  1.438022\n",
      "132  1.514441  4.824809  0.560557\n",
      "133  0.815367  4.108087  1.056316\n",
      "134  1.232091  4.509676  1.121331\n",
      "135  2.638117  5.759408  0.953119\n",
      "136  1.724019  4.841279  0.733064\n",
      "137  1.315411  4.557541  0.579031\n",
      "138  0.610117  3.837757  1.299600\n",
      "139  1.605329  4.758149  0.347946\n",
      "140  1.774820  4.973930  0.389349\n",
      "141  1.539371  4.598780  0.684038\n",
      "142  0.853825  4.138983  1.297574\n",
      "143  2.007643  5.213941  0.309521\n",
      "144  1.945545  5.091874  0.509399\n",
      "145  1.449577  4.609163  0.611739\n",
      "146  0.897479  4.217675  1.100724\n",
      "147  1.179933  4.411845  0.653342\n",
      "148  1.508893  4.599259  0.835724\n",
      "149  0.834527  4.078282  1.180550\n",
      "\n",
      "[150 rows x 3 columns]\n"
     ]
    }
   ],
   "source": [
    "dist_df = pd.DataFrame(dist_score)\n",
    "df = dist_df.T\n",
    "print(df)"
   ]
  },
  {
   "cell_type": "code",
   "execution_count": 19,
   "metadata": {},
   "outputs": [],
   "source": [
    "ans = []\n",
    "for i in range(len(df)):\n",
    "    for j in range(3):\n",
    "        if df.iloc[i,j] == min(df.iloc[i,:]):\n",
    "            ans.append(j)\n",
    "            break\n"
   ]
  },
  {
   "cell_type": "code",
   "execution_count": 20,
   "metadata": {},
   "outputs": [],
   "source": [
    "ans = np.array(list(map(labeling, ans)))"
   ]
  },
  {
   "cell_type": "code",
   "execution_count": 21,
   "metadata": {},
   "outputs": [
    {
     "data": {
      "text/plain": [
       "array([0, 0, 0, 0, 0, 0, 0, 0, 0, 0, 0, 0, 0, 0, 0, 0, 0, 0, 0, 0, 0, 0,\n",
       "       0, 0, 0, 0, 0, 0, 0, 0, 0, 0, 0, 0, 0, 0, 0, 0, 0, 0, 0, 0, 0, 0,\n",
       "       0, 0, 0, 0, 0, 0, 1, 1, 1, 1, 1, 1, 1, 1, 1, 1, 1, 1, 1, 1, 1, 1,\n",
       "       1, 1, 1, 1, 1, 1, 1, 1, 1, 1, 1, 1, 1, 1, 1, 1, 1, 1, 1, 1, 1, 1,\n",
       "       1, 1, 1, 1, 1, 1, 1, 1, 1, 1, 1, 1, 2, 2, 2, 2, 2, 2, 2, 2, 2, 2,\n",
       "       2, 2, 2, 2, 2, 2, 2, 2, 2, 2, 2, 2, 2, 2, 2, 2, 2, 2, 2, 2, 2, 2,\n",
       "       2, 2, 2, 2, 2, 2, 2, 2, 2, 2, 2, 2, 2, 2, 2, 2, 2, 2])"
      ]
     },
     "execution_count": 21,
     "metadata": {},
     "output_type": "execute_result"
    }
   ],
   "source": [
    "target"
   ]
  },
  {
   "cell_type": "code",
   "execution_count": 22,
   "metadata": {},
   "outputs": [
    {
     "name": "stdout",
     "output_type": "stream",
     "text": [
      "0.893\n"
     ]
    }
   ],
   "source": [
    "print(acurate(ans, target))"
   ]
  },
  {
   "cell_type": "code",
   "execution_count": null,
   "metadata": {},
   "outputs": [],
   "source": []
  }
 ],
 "metadata": {
  "kernelspec": {
   "display_name": "Python 3",
   "language": "python",
   "name": "python3"
  },
  "language_info": {
   "codemirror_mode": {
    "name": "ipython",
    "version": 3
   },
   "file_extension": ".py",
   "mimetype": "text/x-python",
   "name": "python",
   "nbconvert_exporter": "python",
   "pygments_lexer": "ipython3",
   "version": "3.7.3"
  },
  "toc": {
   "base_numbering": 1,
   "nav_menu": {},
   "number_sections": true,
   "sideBar": true,
   "skip_h1_title": false,
   "title_cell": "Table of Contents",
   "title_sidebar": "Contents",
   "toc_cell": false,
   "toc_position": {},
   "toc_section_display": true,
   "toc_window_display": false
  }
 },
 "nbformat": 4,
 "nbformat_minor": 2
}
