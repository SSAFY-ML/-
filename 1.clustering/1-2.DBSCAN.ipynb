{
 "cells": [
  {
   "cell_type": "markdown",
   "metadata": {},
   "source": [
    "# DBSCAN\n",
    "\n",
    "- 밀도 기반 군집화\n",
    "- k-means는 독특한 기하구조를 잡아주지 못하지만 밀도기반은 가능\n",
    "\n",
    "## 절차\n",
    "- 기준 params설정 (epsilon, n)\n",
    "- 점을 돌면서 핵심점 찾기\n",
    "- 핵심점 끼리 겹치면 확장 아니면 개별로 분류\n",
    "- 어디에도 속하지 않으면 잡음점(noise)\n",
    "\n",
    "### 용어\n",
    "- 핵심점: 설정한 기준을 만족하는 점\n"
   ]
  },
  {
   "cell_type": "code",
   "execution_count": 1,
   "metadata": {},
   "outputs": [],
   "source": [
    "import numpy as np\n",
    "import pandas as pd\n",
    "\n",
    "from sklearn.datasets import load_iris\n",
    "\n",
    "# load_iris().keys()\n",
    "data = pd.DataFrame(load_iris().data, columns=load_iris().feature_names)\n",
    "target = load_iris().target"
   ]
  },
  {
   "cell_type": "code",
   "execution_count": 4,
   "metadata": {},
   "outputs": [
    {
     "name": "stdout",
     "output_type": "stream",
     "text": [
      "[ 0  0  0  0  0 -1  0  0  0  0  0  0  0  0 -1 -1 -1  0 -1  0 -1  0 -1  0\n",
      "  0  0  0  0  0  0  0 -1 -1 -1  0  0  0  0  0  0  0 -1  0  0 -1  0  0  0\n",
      "  0  0 -1 -1 -1 -1 -1 -1 -1 -1  3 -1 -1 -1 -1  1 -1  3 -1  2 -1  2  5 -1\n",
      " -1  1  3  3 -1 -1  1 -1  2  2  2 -1 -1 -1 -1 -1  2  2  2  1  2 -1  2  2\n",
      "  2 -1 -1  2 -1 -1 -1 -1 -1 -1 -1 -1 -1 -1 -1 -1 -1 -1 -1 -1 -1 -1 -1 -1\n",
      "  4 -1 -1  5  4 -1  5  5 -1 -1 -1 -1 -1 -1 -1 -1 -1 -1  5 -1  4 -1 -1  4\n",
      " -1 -1 -1 -1 -1  5]\n"
     ]
    }
   ],
   "source": [
    "from sklearn.cluster import DBSCAN\n",
    "\n",
    "dbs = DBSCAN(eps=0.3, min_samples=4, metric='euclidean')\n",
    "\n",
    "db_res = dbs.fit_predict(data)\n",
    "print(db_res)"
   ]
  },
  {
   "cell_type": "code",
   "execution_count": null,
   "metadata": {},
   "outputs": [],
   "source": [
    "## 설정에 따라 달라지는 값 보기\n",
    "## 실코딩은 알고리즘 문제 풀듯이 풀면 될 듯\n",
    "## 비지도 학습의 특징 확연히 느낄 예제!!"
   ]
  },
  {
   "cell_type": "code",
   "execution_count": null,
   "metadata": {},
   "outputs": [],
   "source": []
  }
 ],
 "metadata": {
  "kernelspec": {
   "display_name": "Python 3",
   "language": "python",
   "name": "python3"
  },
  "language_info": {
   "codemirror_mode": {
    "name": "ipython",
    "version": 3
   },
   "file_extension": ".py",
   "mimetype": "text/x-python",
   "name": "python",
   "nbconvert_exporter": "python",
   "pygments_lexer": "ipython3",
   "version": "3.7.4"
  },
  "toc": {
   "base_numbering": 1,
   "nav_menu": {},
   "number_sections": true,
   "sideBar": true,
   "skip_h1_title": false,
   "title_cell": "Table of Contents",
   "title_sidebar": "Contents",
   "toc_cell": false,
   "toc_position": {},
   "toc_section_display": true,
   "toc_window_display": false
  }
 },
 "nbformat": 4,
 "nbformat_minor": 2
}
