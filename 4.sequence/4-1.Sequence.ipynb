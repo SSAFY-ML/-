{
 "cells": [
  {
   "cell_type": "markdown",
   "metadata": {},
   "source": [
    "# Sequence data\n",
    "\n",
    "- 시퀀스 데이터는 순서가 있고 이것이 중요한 데이터로\n",
    "- 자연어, 유전, 시계열 자료 등이 이런 자료형에 속한다.\n",
    "  \n",
    "    \n",
    "- 모델링시 중요한 점은 이 순서의 의미를 반영해주어야 한다는 점이고\n",
    "- 가장 각광받는 RNN과 CNN에 대해서 소개한다.\n",
    "\n",
    "## RNN \n",
    "\n",
    "- 재귀적/순한 신경망을 뜻하며 데이터를 다룰 시에 히든 노드가 다음 히든 노드에 영향을 주는 모형\n",
    "- 마찬가지로 역전파 알고리즘을 이용하여 업데이트하나 생각보다 코드 구현이 쉽지 않음(BPTT)\n",
    "- 심플한 RNN보다는 LSTM이 엄청난 각광을 받았고 한국교수가 제안한 GRU도 유명함\n",
    "- 코드 구성시 얼만큼의 시간을 고려할지를 인풋으로 넣어줘야함\n",
    "    - function만들어서 가능\n",
    "    - 자료형을 변형시켜서 가능\n",
    "    \n",
    "\n",
    "## CNN\n",
    "\n",
    "- 본래 이미지를 대상으로하는 분석에서 엄청난 획을 그은 분석 기법\n",
    "- 이미지관련 분석은 CNN전과 후로 나눌 수 있을 듯\n",
    "- 시퀀스데이터에서도 비슷한 개념을 활요하여 접근 가능"
   ]
  },
  {
   "cell_type": "code",
   "execution_count": 1,
   "metadata": {},
   "outputs": [
    {
     "name": "stderr",
     "output_type": "stream",
     "text": [
      "Using TensorFlow backend.\n"
     ]
    }
   ],
   "source": [
    "from sklearn.datasets import load_boston\n",
    "import numpy as np\n",
    "import keras\n",
    "from keras import models, layers\n",
    "from keras.callbacks import EarlyStopping\n",
    "import tensorflow as tf\n",
    "tf.config.experimental.set_visible_devices([], 'GPU')\n",
    "\n",
    "d = load_boston()"
   ]
  },
  {
   "cell_type": "code",
   "execution_count": 2,
   "metadata": {},
   "outputs": [
    {
     "data": {
      "text/plain": [
       "array([6.320e-03, 1.800e+01, 2.310e+00, 0.000e+00, 5.380e-01, 6.575e+00,\n",
       "       6.520e+01, 4.090e+00, 1.000e+00, 2.960e+02, 1.530e+01, 3.969e+02,\n",
       "       4.980e+00])"
      ]
     },
     "execution_count": 2,
     "metadata": {},
     "output_type": "execute_result"
    }
   ],
   "source": [
    "d.data[0]"
   ]
  },
  {
   "cell_type": "code",
   "execution_count": 3,
   "metadata": {},
   "outputs": [],
   "source": [
    "temp_data = (d.data-np.mean(d.data))/np.std(d.data)"
   ]
  },
  {
   "cell_type": "code",
   "execution_count": 4,
   "metadata": {},
   "outputs": [],
   "source": [
    "data = []\n",
    "lags = 10\n",
    "\n",
    "for i in range(lags, len(temp_data)):\n",
    "    temp = temp_data[max(0, i-lags):i]\n",
    "    data.append(temp)\n",
    "    \n",
    "data = np.array(data)"
   ]
  },
  {
   "cell_type": "code",
   "execution_count": 5,
   "metadata": {
    "scrolled": true
   },
   "outputs": [],
   "source": [
    "keras.backend.clear_session()\n",
    "\n",
    "input_layer = layers.Input(shape=(lags, d.data.shape[1]))\n",
    "\n",
    "l11 = layers.SimpleRNN(32, return_sequences=False )(input_layer)\n",
    "l12 = layers.LSTM(32, return_sequences=False)(input_layer)\n",
    "\n",
    "l2 = layers.concatenate([l11, l12])\n",
    "\n",
    "l3 = layers.Dense(32, activation='relu')(l2)\n",
    "\n",
    "out_layer = layers.Dense(1, activation='linear')(l3)\n",
    "\n",
    "model = models.Model(input_layer, out_layer)\n",
    "\n",
    "model.compile(optimizer='adam',\n",
    "             loss = 'mse',\n",
    "             metrics=['mae']\n",
    "             )"
   ]
  },
  {
   "cell_type": "code",
   "execution_count": 6,
   "metadata": {},
   "outputs": [
    {
     "name": "stdout",
     "output_type": "stream",
     "text": [
      "Model: \"model_1\"\n",
      "__________________________________________________________________________________________________\n",
      "Layer (type)                    Output Shape         Param #     Connected to                     \n",
      "==================================================================================================\n",
      "input_1 (InputLayer)            (None, 10, 13)       0                                            \n",
      "__________________________________________________________________________________________________\n",
      "simple_rnn_1 (SimpleRNN)        (None, 32)           1472        input_1[0][0]                    \n",
      "__________________________________________________________________________________________________\n",
      "lstm_1 (LSTM)                   (None, 32)           5888        input_1[0][0]                    \n",
      "__________________________________________________________________________________________________\n",
      "concatenate_1 (Concatenate)     (None, 64)           0           simple_rnn_1[0][0]               \n",
      "                                                                 lstm_1[0][0]                     \n",
      "__________________________________________________________________________________________________\n",
      "dense_1 (Dense)                 (None, 32)           2080        concatenate_1[0][0]              \n",
      "__________________________________________________________________________________________________\n",
      "dense_2 (Dense)                 (None, 1)            33          dense_1[0][0]                    \n",
      "==================================================================================================\n",
      "Total params: 9,473\n",
      "Trainable params: 9,473\n",
      "Non-trainable params: 0\n",
      "__________________________________________________________________________________________________\n"
     ]
    }
   ],
   "source": [
    "model.summary()"
   ]
  },
  {
   "cell_type": "code",
   "execution_count": 7,
   "metadata": {},
   "outputs": [],
   "source": [
    "# from keras.utils import plot_model\n",
    "# plot_model(model, to_file='model.png')"
   ]
  },
  {
   "cell_type": "code",
   "execution_count": 8,
   "metadata": {},
   "outputs": [],
   "source": [
    "\n",
    "\n",
    "es = EarlyStopping(patience=20, monitor='val_loss', restore_best_weights=True)"
   ]
  },
  {
   "cell_type": "code",
   "execution_count": 9,
   "metadata": {
    "scrolled": true
   },
   "outputs": [
    {
     "name": "stdout",
     "output_type": "stream",
     "text": [
      "Train on 347 samples, validate on 149 samples\n",
      "Epoch 1/400\n",
      "347/347 [==============================] - 0s 1ms/step - loss: 636.8747 - mae: 23.7824 - val_loss: 268.8636 - val_mae: 14.2127\n",
      "Epoch 2/400\n",
      "347/347 [==============================] - 0s 181us/step - loss: 529.9627 - mae: 21.4115 - val_loss: 209.3344 - val_mae: 11.9480\n",
      "Epoch 3/400\n",
      "347/347 [==============================] - 0s 172us/step - loss: 425.4056 - mae: 18.8125 - val_loss: 145.9769 - val_mae: 9.0874\n",
      "Epoch 4/400\n",
      "347/347 [==============================] - 0s 178us/step - loss: 313.7905 - mae: 15.4402 - val_loss: 92.0389 - val_mae: 6.3819\n",
      "Epoch 5/400\n",
      "347/347 [==============================] - 0s 170us/step - loss: 200.2617 - mae: 11.4065 - val_loss: 67.1105 - val_mae: 5.5758\n",
      "Epoch 6/400\n",
      "347/347 [==============================] - 0s 172us/step - loss: 122.0687 - mae: 7.7977 - val_loss: 79.6038 - val_mae: 6.7603\n",
      "Epoch 7/400\n",
      "347/347 [==============================] - 0s 170us/step - loss: 82.4328 - mae: 6.1313 - val_loss: 113.4787 - val_mae: 8.9162\n",
      "Epoch 8/400\n",
      "347/347 [==============================] - 0s 175us/step - loss: 71.8950 - mae: 6.2099 - val_loss: 140.5064 - val_mae: 10.3984\n",
      "Epoch 9/400\n",
      "347/347 [==============================] - 0s 170us/step - loss: 72.2455 - mae: 6.6190 - val_loss: 150.1569 - val_mae: 10.8780\n",
      "Epoch 10/400\n",
      "347/347 [==============================] - 0s 175us/step - loss: 72.1068 - mae: 6.6430 - val_loss: 143.4982 - val_mae: 10.5514\n",
      "Epoch 11/400\n",
      "347/347 [==============================] - 0s 167us/step - loss: 71.5674 - mae: 6.4878 - val_loss: 136.9629 - val_mae: 10.2168\n",
      "Epoch 12/400\n",
      "347/347 [==============================] - 0s 164us/step - loss: 71.5345 - mae: 6.3632 - val_loss: 132.1710 - val_mae: 9.9667\n",
      "Epoch 13/400\n",
      "347/347 [==============================] - 0s 170us/step - loss: 71.5679 - mae: 6.3062 - val_loss: 131.2813 - val_mae: 9.9208\n",
      "Epoch 14/400\n",
      "347/347 [==============================] - 0s 167us/step - loss: 71.5395 - mae: 6.3206 - val_loss: 132.2110 - val_mae: 9.9709\n",
      "Epoch 15/400\n",
      "347/347 [==============================] - 0s 170us/step - loss: 71.5286 - mae: 6.3532 - val_loss: 134.1575 - val_mae: 10.0737\n",
      "Epoch 16/400\n",
      "347/347 [==============================] - 0s 175us/step - loss: 71.4932 - mae: 6.3795 - val_loss: 132.7623 - val_mae: 10.0021\n",
      "Epoch 17/400\n",
      "347/347 [==============================] - 0s 164us/step - loss: 71.4316 - mae: 6.3565 - val_loss: 132.6192 - val_mae: 9.9959\n",
      "Epoch 18/400\n",
      "347/347 [==============================] - 0s 167us/step - loss: 71.4715 - mae: 6.3308 - val_loss: 130.9011 - val_mae: 9.9065\n",
      "Epoch 19/400\n",
      "347/347 [==============================] - 0s 161us/step - loss: 71.3979 - mae: 6.3421 - val_loss: 131.3944 - val_mae: 9.9340\n",
      "Epoch 20/400\n",
      "347/347 [==============================] - 0s 164us/step - loss: 71.4093 - mae: 6.3613 - val_loss: 133.0296 - val_mae: 10.0214\n",
      "Epoch 21/400\n",
      "347/347 [==============================] - 0s 172us/step - loss: 71.3834 - mae: 6.3533 - val_loss: 129.4961 - val_mae: 9.8360\n",
      "Epoch 22/400\n",
      "347/347 [==============================] - 0s 164us/step - loss: 71.3540 - mae: 6.3551 - val_loss: 131.9193 - val_mae: 9.9665\n",
      "Epoch 23/400\n",
      "347/347 [==============================] - 0s 170us/step - loss: 71.2717 - mae: 6.3550 - val_loss: 129.0137 - val_mae: 9.8134\n",
      "Epoch 24/400\n",
      "347/347 [==============================] - 0s 170us/step - loss: 71.2226 - mae: 6.3278 - val_loss: 128.6347 - val_mae: 9.7950\n",
      "Epoch 25/400\n",
      "347/347 [==============================] - 0s 172us/step - loss: 71.2217 - mae: 6.3197 - val_loss: 127.1797 - val_mae: 9.7181\n"
     ]
    },
    {
     "data": {
      "text/plain": [
       "<keras.callbacks.callbacks.History at 0x1d2d381bc88>"
      ]
     },
     "execution_count": 9,
     "metadata": {},
     "output_type": "execute_result"
    }
   ],
   "source": [
    "model.fit(data, d.target[10:],\n",
    "         epochs=400,\n",
    "         validation_split=0.3,\n",
    "         callbacks=[es])"
   ]
  },
  {
   "cell_type": "code",
   "execution_count": 10,
   "metadata": {},
   "outputs": [
    {
     "name": "stdout",
     "output_type": "stream",
     "text": [
      "496/496 [==============================] - 0s 56us/step\n"
     ]
    },
    {
     "data": {
      "text/plain": [
       "[126.17166660678002, 8.126870155334473]"
      ]
     },
     "execution_count": 10,
     "metadata": {},
     "output_type": "execute_result"
    }
   ],
   "source": [
    "model.evaluate(data, d.target[lags:])"
   ]
  },
  {
   "cell_type": "code",
   "execution_count": null,
   "metadata": {},
   "outputs": [],
   "source": []
  },
  {
   "cell_type": "code",
   "execution_count": 11,
   "metadata": {},
   "outputs": [],
   "source": [
    "keras.backend.clear_session()\n",
    "\n",
    "input_layer = layers.Input(shape=(lags, d.data.shape[1]))\n",
    "\n",
    "x1 = layers.Conv1D(filters=32, kernel_size=3, padding='same')(input_layer)\n",
    "x1 = layers.MaxPooling1D()(x1)\n",
    "\n",
    "x2 = layers.Conv1D(filters=16, kernel_size=5, padding='same')(input_layer)\n",
    "x2 = layers.MaxPooling1D()(x2)\n",
    "\n",
    "x = layers.concatenate([x1, x2])\n",
    "x = layers.GlobalAveragePooling1D()(x)\n",
    "\n",
    "x = layers.Dense(32, activation='relu')(x)\n",
    "\n",
    "out_layer = layers.Dense(1, activation='linear')(x)\n",
    "\n",
    "model = models.Model(input_layer, out_layer)\n",
    "\n",
    "model.compile(optimizer='adam',\n",
    "             loss = 'mse',\n",
    "             metrics=['mae']\n",
    "             )"
   ]
  },
  {
   "cell_type": "code",
   "execution_count": 12,
   "metadata": {},
   "outputs": [],
   "source": [
    "data2 = np.reshape(data, (496, 10, 13))"
   ]
  },
  {
   "cell_type": "code",
   "execution_count": 13,
   "metadata": {
    "scrolled": true
   },
   "outputs": [
    {
     "name": "stdout",
     "output_type": "stream",
     "text": [
      "Train on 347 samples, validate on 149 samples\n",
      "Epoch 1/400\n",
      "347/347 [==============================] - 0s 391us/step - loss: 564.8226 - mae: 22.1919 - val_loss: 194.9921 - val_mae: 11.4103\n",
      "Epoch 2/400\n",
      "347/347 [==============================] - 0s 69us/step - loss: 398.9856 - mae: 18.0685 - val_loss: 102.5560 - val_mae: 7.1267\n",
      "Epoch 3/400\n",
      "347/347 [==============================] - 0s 66us/step - loss: 248.1104 - mae: 13.1849 - val_loss: 65.7516 - val_mae: 5.5931\n",
      "Epoch 4/400\n",
      "347/347 [==============================] - 0s 63us/step - loss: 128.5565 - mae: 8.1980 - val_loss: 121.8757 - val_mae: 9.2334\n",
      "Epoch 5/400\n",
      "347/347 [==============================] - 0s 60us/step - loss: 79.5043 - mae: 6.3645 - val_loss: 233.9686 - val_mae: 14.1256\n",
      "Epoch 6/400\n",
      "347/347 [==============================] - 0s 60us/step - loss: 77.3771 - mae: 7.1129 - val_loss: 252.9116 - val_mae: 14.7867\n",
      "Epoch 7/400\n",
      "347/347 [==============================] - 0s 60us/step - loss: 76.1644 - mae: 6.9204 - val_loss: 212.8170 - val_mae: 13.3539\n",
      "Epoch 8/400\n",
      "347/347 [==============================] - 0s 63us/step - loss: 74.3170 - mae: 6.5112 - val_loss: 191.2613 - val_mae: 12.5055\n",
      "Epoch 9/400\n",
      "347/347 [==============================] - 0s 63us/step - loss: 74.1856 - mae: 6.3834 - val_loss: 184.8022 - val_mae: 12.2426\n",
      "Epoch 10/400\n",
      "347/347 [==============================] - 0s 63us/step - loss: 73.8356 - mae: 6.3995 - val_loss: 188.5175 - val_mae: 12.3989\n",
      "Epoch 11/400\n",
      "347/347 [==============================] - 0s 60us/step - loss: 73.8203 - mae: 6.5273 - val_loss: 195.3983 - val_mae: 12.6810\n",
      "Epoch 12/400\n",
      "347/347 [==============================] - 0s 57us/step - loss: 73.5655 - mae: 6.5349 - val_loss: 184.3235 - val_mae: 12.2304\n",
      "Epoch 13/400\n",
      "347/347 [==============================] - 0s 60us/step - loss: 73.2789 - mae: 6.4570 - val_loss: 178.3405 - val_mae: 11.9803\n",
      "Epoch 14/400\n",
      "347/347 [==============================] - 0s 63us/step - loss: 73.2818 - mae: 6.4388 - val_loss: 172.6559 - val_mae: 11.7367\n",
      "Epoch 15/400\n",
      "347/347 [==============================] - 0s 60us/step - loss: 73.0115 - mae: 6.3683 - val_loss: 170.0895 - val_mae: 11.6258\n",
      "Epoch 16/400\n",
      "347/347 [==============================] - 0s 60us/step - loss: 72.7924 - mae: 6.3879 - val_loss: 170.0940 - val_mae: 11.6278\n",
      "Epoch 17/400\n",
      "347/347 [==============================] - 0s 57us/step - loss: 72.6807 - mae: 6.4558 - val_loss: 171.4251 - val_mae: 11.6886\n",
      "Epoch 18/400\n",
      "347/347 [==============================] - 0s 57us/step - loss: 72.5781 - mae: 6.4898 - val_loss: 164.9139 - val_mae: 11.4022\n",
      "Epoch 19/400\n",
      "347/347 [==============================] - 0s 60us/step - loss: 73.0371 - mae: 6.3124 - val_loss: 151.5596 - val_mae: 10.7849\n",
      "Epoch 20/400\n",
      "347/347 [==============================] - 0s 55us/step - loss: 72.3144 - mae: 6.3734 - val_loss: 161.2827 - val_mae: 11.2419\n",
      "Epoch 21/400\n",
      "347/347 [==============================] - 0s 57us/step - loss: 72.1662 - mae: 6.4793 - val_loss: 158.1156 - val_mae: 11.0979\n",
      "Epoch 22/400\n",
      "347/347 [==============================] - 0s 60us/step - loss: 71.8958 - mae: 6.3891 - val_loss: 147.9792 - val_mae: 10.6216\n",
      "Epoch 23/400\n",
      "347/347 [==============================] - 0s 60us/step - loss: 71.9173 - mae: 6.3241 - val_loss: 140.9459 - val_mae: 10.2810\n"
     ]
    },
    {
     "data": {
      "text/plain": [
       "<keras.callbacks.callbacks.History at 0x1d2d5d50688>"
      ]
     },
     "execution_count": 13,
     "metadata": {},
     "output_type": "execute_result"
    }
   ],
   "source": [
    "model.fit(data2, d.target[lags:],\n",
    "         epochs=400,\n",
    "         validation_split=0.3,\n",
    "         callbacks=[es]\n",
    "         )"
   ]
  },
  {
   "cell_type": "code",
   "execution_count": 14,
   "metadata": {},
   "outputs": [
    {
     "name": "stdout",
     "output_type": "stream",
     "text": [
      "496/496 [==============================] - 0s 20us/step\n"
     ]
    },
    {
     "data": {
      "text/plain": [
       "[141.62040144397366, 8.810837745666504]"
      ]
     },
     "execution_count": 14,
     "metadata": {},
     "output_type": "execute_result"
    }
   ],
   "source": [
    "model.evaluate(data, d.target[lags:])"
   ]
  },
  {
   "cell_type": "code",
   "execution_count": null,
   "metadata": {},
   "outputs": [],
   "source": []
  },
  {
   "cell_type": "code",
   "execution_count": null,
   "metadata": {},
   "outputs": [],
   "source": []
  }
 ],
 "metadata": {
  "kernelspec": {
   "display_name": "Python 3",
   "language": "python",
   "name": "python3"
  },
  "language_info": {
   "codemirror_mode": {
    "name": "ipython",
    "version": 3
   },
   "file_extension": ".py",
   "mimetype": "text/x-python",
   "name": "python",
   "nbconvert_exporter": "python",
   "pygments_lexer": "ipython3",
   "version": "3.7.4"
  },
  "toc": {
   "base_numbering": 1,
   "nav_menu": {},
   "number_sections": true,
   "sideBar": true,
   "skip_h1_title": false,
   "title_cell": "Table of Contents",
   "title_sidebar": "Contents",
   "toc_cell": false,
   "toc_position": {},
   "toc_section_display": true,
   "toc_window_display": false
  }
 },
 "nbformat": 4,
 "nbformat_minor": 2
}
